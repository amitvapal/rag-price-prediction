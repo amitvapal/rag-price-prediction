{
  "cells": [
    {
      "cell_type": "code",
      "source": [],
      "metadata": {
        "id": "iAVOU1QOEZDb"
      },
      "execution_count": null,
      "outputs": []
    },
    {
      "cell_type": "code",
      "source": [],
      "metadata": {
        "id": "C9LCSVqhEZG_"
      },
      "execution_count": null,
      "outputs": []
    },
    {
      "cell_type": "markdown",
      "source": [
        "205. Day 2 - Finding Similar Products: Building a RAG Pipeline without LangChain  \n",
        "8min  \n",
        "\n",
        "week-08-205-Day-2-Finding-Similar-Products-Building-a-RAG-Pipeline-without-LangChain.md  \n",
        "week-08-205-Day-2-Finding-Similar-Products-Building-a-RAG-Pipeline-without-LangChain.txt  \n"
      ],
      "metadata": {
        "id": "f91jPnHd4qDw"
      }
    },
    {
      "cell_type": "code",
      "source": [],
      "metadata": {
        "id": "KqngLj4hEZcK"
      },
      "execution_count": null,
      "outputs": []
    },
    {
      "cell_type": "code",
      "source": [],
      "metadata": {
        "id": "CeTE2QMBQOUC"
      },
      "execution_count": null,
      "outputs": []
    },
    {
      "cell_type": "markdown",
      "source": [
        "### loading LLAMA_3_1 = \"meta-llama/Meta-Llama-3.1-8B\" from HF\n",
        "#### will be used to predict price after learning from RAG Vector database for five similar price"
      ],
      "metadata": {
        "id": "VovvqQJgQPhO"
      }
    },
    {
      "cell_type": "code",
      "source": [],
      "metadata": {
        "id": "U1bnGd8vQOX_"
      },
      "execution_count": null,
      "outputs": []
    },
    {
      "cell_type": "code",
      "source": [
        "!pip install torch transformers accelerate huggingface_hub bitsandbytes\n"
      ],
      "metadata": {
        "colab": {
          "base_uri": "https://localhost:8080/"
        },
        "id": "woesWr8iQObL",
        "outputId": "debb518c-333b-476c-e1eb-2c54512763a5"
      },
      "execution_count": null,
      "outputs": [
        {
          "output_type": "stream",
          "name": "stdout",
          "text": [
            "Requirement already satisfied: torch in /usr/local/lib/python3.12/dist-packages (2.8.0+cu126)\n",
            "Requirement already satisfied: transformers in /usr/local/lib/python3.12/dist-packages (4.57.0)\n",
            "Requirement already satisfied: accelerate in /usr/local/lib/python3.12/dist-packages (1.10.1)\n",
            "Requirement already satisfied: huggingface_hub in /usr/local/lib/python3.12/dist-packages (0.35.3)\n",
            "Collecting bitsandbytes\n",
            "  Downloading bitsandbytes-0.48.1-py3-none-manylinux_2_24_x86_64.whl.metadata (10 kB)\n",
            "Requirement already satisfied: filelock in /usr/local/lib/python3.12/dist-packages (from torch) (3.20.0)\n",
            "Requirement already satisfied: typing-extensions>=4.10.0 in /usr/local/lib/python3.12/dist-packages (from torch) (4.15.0)\n",
            "Requirement already satisfied: setuptools in /usr/local/lib/python3.12/dist-packages (from torch) (75.2.0)\n",
            "Requirement already satisfied: sympy>=1.13.3 in /usr/local/lib/python3.12/dist-packages (from torch) (1.13.3)\n",
            "Requirement already satisfied: networkx in /usr/local/lib/python3.12/dist-packages (from torch) (3.5)\n",
            "Requirement already satisfied: jinja2 in /usr/local/lib/python3.12/dist-packages (from torch) (3.1.6)\n",
            "Requirement already satisfied: fsspec in /usr/local/lib/python3.12/dist-packages (from torch) (2025.3.0)\n",
            "Requirement already satisfied: nvidia-cuda-nvrtc-cu12==12.6.77 in /usr/local/lib/python3.12/dist-packages (from torch) (12.6.77)\n",
            "Requirement already satisfied: nvidia-cuda-runtime-cu12==12.6.77 in /usr/local/lib/python3.12/dist-packages (from torch) (12.6.77)\n",
            "Requirement already satisfied: nvidia-cuda-cupti-cu12==12.6.80 in /usr/local/lib/python3.12/dist-packages (from torch) (12.6.80)\n",
            "Requirement already satisfied: nvidia-cudnn-cu12==9.10.2.21 in /usr/local/lib/python3.12/dist-packages (from torch) (9.10.2.21)\n",
            "Requirement already satisfied: nvidia-cublas-cu12==12.6.4.1 in /usr/local/lib/python3.12/dist-packages (from torch) (12.6.4.1)\n",
            "Requirement already satisfied: nvidia-cufft-cu12==11.3.0.4 in /usr/local/lib/python3.12/dist-packages (from torch) (11.3.0.4)\n",
            "Requirement already satisfied: nvidia-curand-cu12==10.3.7.77 in /usr/local/lib/python3.12/dist-packages (from torch) (10.3.7.77)\n",
            "Requirement already satisfied: nvidia-cusolver-cu12==11.7.1.2 in /usr/local/lib/python3.12/dist-packages (from torch) (11.7.1.2)\n",
            "Requirement already satisfied: nvidia-cusparse-cu12==12.5.4.2 in /usr/local/lib/python3.12/dist-packages (from torch) (12.5.4.2)\n",
            "Requirement already satisfied: nvidia-cusparselt-cu12==0.7.1 in /usr/local/lib/python3.12/dist-packages (from torch) (0.7.1)\n",
            "Requirement already satisfied: nvidia-nccl-cu12==2.27.3 in /usr/local/lib/python3.12/dist-packages (from torch) (2.27.3)\n",
            "Requirement already satisfied: nvidia-nvtx-cu12==12.6.77 in /usr/local/lib/python3.12/dist-packages (from torch) (12.6.77)\n",
            "Requirement already satisfied: nvidia-nvjitlink-cu12==12.6.85 in /usr/local/lib/python3.12/dist-packages (from torch) (12.6.85)\n",
            "Requirement already satisfied: nvidia-cufile-cu12==1.11.1.6 in /usr/local/lib/python3.12/dist-packages (from torch) (1.11.1.6)\n",
            "Requirement already satisfied: triton==3.4.0 in /usr/local/lib/python3.12/dist-packages (from torch) (3.4.0)\n",
            "Requirement already satisfied: numpy>=1.17 in /usr/local/lib/python3.12/dist-packages (from transformers) (2.0.2)\n",
            "Requirement already satisfied: packaging>=20.0 in /usr/local/lib/python3.12/dist-packages (from transformers) (25.0)\n",
            "Requirement already satisfied: pyyaml>=5.1 in /usr/local/lib/python3.12/dist-packages (from transformers) (6.0.3)\n",
            "Requirement already satisfied: regex!=2019.12.17 in /usr/local/lib/python3.12/dist-packages (from transformers) (2024.11.6)\n",
            "Requirement already satisfied: requests in /usr/local/lib/python3.12/dist-packages (from transformers) (2.32.4)\n",
            "Requirement already satisfied: tokenizers<=0.23.0,>=0.22.0 in /usr/local/lib/python3.12/dist-packages (from transformers) (0.22.1)\n",
            "Requirement already satisfied: safetensors>=0.4.3 in /usr/local/lib/python3.12/dist-packages (from transformers) (0.6.2)\n",
            "Requirement already satisfied: tqdm>=4.27 in /usr/local/lib/python3.12/dist-packages (from transformers) (4.67.1)\n",
            "Requirement already satisfied: psutil in /usr/local/lib/python3.12/dist-packages (from accelerate) (5.9.5)\n",
            "Requirement already satisfied: hf-xet<2.0.0,>=1.1.3 in /usr/local/lib/python3.12/dist-packages (from huggingface_hub) (1.1.10)\n",
            "Requirement already satisfied: mpmath<1.4,>=1.1.0 in /usr/local/lib/python3.12/dist-packages (from sympy>=1.13.3->torch) (1.3.0)\n",
            "Requirement already satisfied: MarkupSafe>=2.0 in /usr/local/lib/python3.12/dist-packages (from jinja2->torch) (3.0.3)\n",
            "Requirement already satisfied: charset_normalizer<4,>=2 in /usr/local/lib/python3.12/dist-packages (from requests->transformers) (3.4.3)\n",
            "Requirement already satisfied: idna<4,>=2.5 in /usr/local/lib/python3.12/dist-packages (from requests->transformers) (3.10)\n",
            "Requirement already satisfied: urllib3<3,>=1.21.1 in /usr/local/lib/python3.12/dist-packages (from requests->transformers) (2.5.0)\n",
            "Requirement already satisfied: certifi>=2017.4.17 in /usr/local/lib/python3.12/dist-packages (from requests->transformers) (2025.10.5)\n",
            "Downloading bitsandbytes-0.48.1-py3-none-manylinux_2_24_x86_64.whl (60.1 MB)\n",
            "\u001b[2K   \u001b[90m━━━━━━━━━━━━━━━━━━━━━━━━━━━━━━━━━━━━━━━━\u001b[0m \u001b[32m60.1/60.1 MB\u001b[0m \u001b[31m43.6 MB/s\u001b[0m eta \u001b[36m0:00:00\u001b[0m\n",
            "\u001b[?25hInstalling collected packages: bitsandbytes\n",
            "Successfully installed bitsandbytes-0.48.1\n"
          ]
        }
      ]
    },
    {
      "cell_type": "code",
      "source": [],
      "metadata": {
        "id": "AxuhbWLWQOrF"
      },
      "execution_count": null,
      "outputs": []
    },
    {
      "cell_type": "code",
      "source": [
        "from google.colab import userdata\n",
        "import os\n",
        "from huggingface_hub import login, whoami\n",
        "\n",
        "# Get token from Colab secrets\n",
        "hf_token = userdata.get('HF_TOKEN')\n",
        "\n",
        "# Set environment variable\n",
        "os.environ[\"HF_TOKEN\"] = hf_token\n",
        "\n",
        "# Log in to Hugging Face\n",
        "login(token=hf_token, add_to_git_credential=True)\n",
        "\n",
        "# Confirm login worked\n",
        "print(whoami())"
      ],
      "metadata": {
        "colab": {
          "base_uri": "https://localhost:8080/"
        },
        "id": "pIcnpFWARG4Y",
        "outputId": "9c0401bb-1b41-4f8c-dfb8-6643aa885f2a"
      },
      "execution_count": null,
      "outputs": [
        {
          "output_type": "stream",
          "name": "stderr",
          "text": [
            "Note: Environment variable`HF_TOKEN` is set and is the current active token independently from the token you've just configured.\n",
            "WARNING:huggingface_hub._login:Note: Environment variable`HF_TOKEN` is set and is the current active token independently from the token you've just configured.\n"
          ]
        },
        {
          "output_type": "stream",
          "name": "stdout",
          "text": [
            "{'type': 'user', 'id': '68026f1e878852389f92c129', 'name': 'rbpal', 'fullname': 'Rajendra Pal', 'canPay': False, 'periodEnd': None, 'isPro': False, 'avatarUrl': '/avatars/f1ac536cbee359d6f6029422a07d183a.svg', 'orgs': [], 'auth': {'type': 'access_token', 'accessToken': {'displayName': 'HF_TOKEN', 'role': 'fineGrained', 'createdAt': '2025-05-05T09:22:46.348Z', 'fineGrained': {'canReadGatedRepos': True, 'global': ['discussion.write', 'post.write'], 'scoped': [{'entity': {'_id': '68026f1e878852389f92c129', 'type': 'user', 'name': 'rbpal'}, 'permissions': ['repo.content.read', 'repo.write', 'inference.serverless.write', 'inference.endpoints.infer.write', 'inference.endpoints.write', 'user.webhooks.read', 'user.webhooks.write', 'collection.read', 'collection.write', 'discussion.write', 'user.billing.read']}]}}}}\n"
          ]
        }
      ]
    },
    {
      "cell_type": "code",
      "source": [],
      "metadata": {
        "id": "wn47A8vPRG79"
      },
      "execution_count": null,
      "outputs": []
    },
    {
      "cell_type": "code",
      "source": [
        "# ---- GPU checks (L4) ----\n",
        "import torch\n",
        "assert torch.cuda.is_available(), \"CUDA GPU not found. In Colab: Runtime → Change runtime type → GPU.\"\n",
        "gpu_name = torch.cuda.get_device_name(0)\n",
        "print(\"GPU:\", gpu_name)\n",
        "# Prefer L4 but continue if another CUDA GPU is present\n",
        "if \"L4\" not in gpu_name:\n",
        "    print(\"⚠️ Non-L4 GPU detected; proceeding on CUDA anyway.\")\n"
      ],
      "metadata": {
        "colab": {
          "base_uri": "https://localhost:8080/"
        },
        "id": "YXgjIkZ5TSx0",
        "outputId": "a7af12cc-577c-42b4-97b2-bffd51283160"
      },
      "execution_count": null,
      "outputs": [
        {
          "output_type": "stream",
          "name": "stdout",
          "text": [
            "GPU: NVIDIA L4\n"
          ]
        }
      ]
    },
    {
      "cell_type": "code",
      "source": [],
      "metadata": {
        "id": "iJ6Mg2bNTS1s"
      },
      "execution_count": null,
      "outputs": []
    },
    {
      "cell_type": "code",
      "source": [],
      "metadata": {
        "id": "QgP3_-dNTS_U"
      },
      "execution_count": null,
      "outputs": []
    },
    {
      "cell_type": "code",
      "source": [
        "from transformers import AutoTokenizer, AutoModelForCausalLM\n",
        "\n",
        "model_name = \"meta-llama/Meta-Llama-3.1-8B\"\n",
        "\n",
        "tokenizer = AutoTokenizer.from_pretrained(model_name)\n",
        "model = AutoModelForCausalLM.from_pretrained(\n",
        "    model_name,\n",
        "    device_map=\"auto\",\n",
        "    torch_dtype=\"auto\"\n",
        ")\n"
      ],
      "metadata": {
        "colab": {
          "base_uri": "https://localhost:8080/",
          "height": 418,
          "referenced_widgets": [
            "31e75d1678b94f99a2a2d36281f6c929",
            "78346cefc37443018c4864a572860c41",
            "ed59b66b304648c0a4e8c60df5ac1627",
            "ac7ff1ace08244708bdf127fea077a41",
            "a11edea7e0a14e94805717f59404b34c",
            "9a2b87438fe64211bb6decaaf7863ed3",
            "25a87bba316a44f6ad608dae4c14622c",
            "b2097fd277e8412584117c2841f5017c",
            "0f5f2844e11e4803ae138f585b9e88b8",
            "f0a3b9e8cf56409b9b6e5581fe566662",
            "af089201d668402bb85fb457256989c2",
            "de1e098d7e1e449b84da79212f480054",
            "3fd9a1d8073745cea2f7dbe27d873d7e",
            "2644bea864444c3981008bd7434cf1cd",
            "dea4588acb194834888a8083c33113b4",
            "ea13766d519b4982b2ed150e4ca6f883",
            "32a66c237f9f437b8dcabe150e26d9a1",
            "e5eb77171b2e479bb5f7e46ab36ddcf1",
            "1a6a5ab336e04c0d9ec3a9d6a7065edf",
            "059f75da27da4fcc913058b088c25b1c",
            "d22748c095c640778f46d10b9e9b6694",
            "2a12ebf228884e53b1ec596c4646844a",
            "e7098c2c86334d90a8d9070445af1152",
            "71db60153413472d90ae9aeb54954683",
            "cfd722e8104c43d29ded0456b7b72f2d",
            "bc3028aaedae4bf6a976b4d83c31b171",
            "8453a671b7f34311bed503eb20f2dc63",
            "5420dc5dabad4caba2727947701db527",
            "87db146a915449c1bbd7bb6534d9e922",
            "d1b6e53d4861468cac020bd9f62729db",
            "6d2a841535864a19beb21cdc98cf28e7",
            "427ebdd9db334e569e08cc3e15774541",
            "726d1a6b582f485dbe1bd4c36bb51f04",
            "2b10e43fec4546e6a931dba89d0fcbd6",
            "ef637e0e24644db693daa5e334c91f7e",
            "f3165bb290a14533b8085df5a8d9bddc",
            "ae2a0a1d815444d093f182e869d086c1",
            "e35e723d6b6c486f9bd36dea38ce764f",
            "9c9547a30b2247119e922a9899e970aa",
            "12b0d768bff449b1b81a810d69c87228",
            "48f290c3e4134d1682f81462ff61612d",
            "cb6b74ff500a48a4b1bb81007fbaa7df",
            "234502c1f0bf4c78a93a13896f70e66c",
            "9b62c1c66370463e83cdb777daa80400",
            "110e567fd2ad4bbcbe7fdeca1ca4ee38",
            "bc440c6fdf474a8faa0ffdc5be200768",
            "a5c19aff38ca48088dd640a724d98226",
            "eaff3476824d4c259a162c135f64f847",
            "dcc33a76c22946bcb3eec6dfecad11f6",
            "29a7a30681c641b9854786178b0f6cb0",
            "b06ce3d590794eaf86fe1420411a02b8",
            "844e7dc8800c49c08f952e310580c4dc",
            "8ec282ad9d4f497b9153fef3ad5bb3c3",
            "cbbf695bda37469d94c7ccc9e6cb7045",
            "4750a450614f46769c2dfae077e357e9",
            "15f7fb1232a7469c980fb214c418edca",
            "a8f5f5d236fc43fbba905d6552d61eaa",
            "949697d37a31442da4672423db2f0f21",
            "0b76cd19d31c4f3ba61a8eedefb1ddb6",
            "8ec0a649035e45f699610690bbb1ed08",
            "672fa0f6817046ebb46319e3e8e6f53e",
            "16c47971a6524e42b0ef970a42e01afe",
            "9c6b85e70dda4a3b9cf9aab60a8efa85",
            "d2db921a878a4c35963396b6fddf1dc3",
            "55ed04012d114fa79f2aa5a35781251c",
            "6bed223cf9d74db29de510802897a7c8",
            "fe97c648a3544d34b9ed43dd12803ab1",
            "b60fa3f30c2f41aaab52ab71a2ca5ac7",
            "0d48e93ab9d1433bbedee69eb7dedd3c",
            "ba08d2383a6846c1bf715987a4caf888",
            "127239efefe1408e8898cc1e732fd427",
            "4a8b21a4aa27458fa32286d8eaa97d7d",
            "8b71b4a9107b47d8a154a05029a2c34f",
            "f6909936f8d84f768691c79fa5ebb332",
            "9665db45f33f4c15b1c54b039fd8d22f",
            "27473fe3728a42478ff6f275db153da5",
            "7d2223daba3a4e07b1962a5e3ad7739a",
            "cdbf1e94743d47218ca6a539c81efcbb",
            "a0f568f56bf547fa8351fe296df2bb35",
            "a237b397a89b4d49a04b2318535bb52e",
            "493fc623b9314cf4b96a8cf058e9cf00",
            "d5838ca529b449f3b8168faa6dff2274",
            "6af273a832c84655aa71a2ec1903535b",
            "a5b440b110ee4b8c93d6181e3390c64b",
            "e5d066150d314473b6d655994c3e61a7",
            "676d5d42540143b89f90ca53b55efde4",
            "3135c9ce4dd84225bd5a9dae703718a4",
            "8f79670df85743739d69476076035123",
            "f65c6816c16a4491b941f4247e487a77",
            "43f340e52a954cc0aecb357c0549880c",
            "cc9efe3971a04b95bab1ee48b82abe58",
            "4900fd56bfc7451e898fda786ad98980",
            "bd1a00e378734dfa826e088283b203b3",
            "e06eec30d9ff43998c2eec2efc0e352a",
            "064b604f14ee4cabb5e52296b14546bd",
            "b2abd3519fdc4f7bb939f29a2871bbe0",
            "4ee40f74aefc4bd98eb96a1ef6cba6d6",
            "c5109569194648f9ae1ddca9e4942e3e",
            "0aa75151661445e3a345d4cf34afddf0",
            "46e848c13c6945b19ca7e4fad4e0364e",
            "adbd204e1168468db3f1655324d400ca",
            "0ed21cdc74f9471a9a5804869e7b22cb",
            "919a14480da445e3a70c39e8ddaf4b24",
            "6753ec1dde7e477cb1aee4e278977a28",
            "b4ffee5521ab473499fe153a96225d05",
            "483b1b3ca99f43caa6added6d5e96853",
            "bb59f9ef249d4aa0920c6814652ef68f",
            "776c156470154b0698cfce10722dcf88",
            "156aced5bde442a395e079ec7bdae168",
            "10363fdcf0e4425eb606413e40376179",
            "d55b05312d944d63bc5e869d1bc7f155",
            "3edeb4ae8be543d18b610db6be44c571",
            "706eb84186af44f9a4c1e69f11570bf9",
            "46bea45787c14064a96e5629da6dd598",
            "4898008fae4a420b8fb0365e2279005b",
            "4ea0f42a82804a51a1ad0dc1a8635121",
            "9c21354a6f4241c1ae8cef054a7d8ffe",
            "5940a0d309ad49c49a655f5ab2d13d9b",
            "a42250d0843c4c459d9c683e76140c79",
            "406ca91f47cf44219334e7f2848142dc",
            "25ba534f580a42ffba627a00cb36584e",
            "132c11bd1640465585a594b737247c76",
            "89734ed543ed441889845b0e520adcae",
            "b519f433a86348e3b91677e32d59ef0d",
            "b388c6a4c026409eaf20e37e0ca7b754",
            "c6fb92e83b7349ba8ff0f6fb8dc2829b",
            "95dd732fb5fa4094a7233447f615d22e",
            "56e8ab7fdbb84cf5969968a0f2fd5a68",
            "6ef0aec7a2fd4d7e88cfe3fdc4f9c02f",
            "d401f7cee906412881dbdfdddaa9d052",
            "6445fbc7edd1453394dd6402f2719757",
            "b67bb19f59074a86bc3eedcc9892a29e"
          ]
        },
        "id": "VBRSnJq4RG-m",
        "outputId": "7ee516c3-0ea4-4af4-a71a-c0d4220ca372"
      },
      "execution_count": null,
      "outputs": [
        {
          "output_type": "display_data",
          "data": {
            "text/plain": [
              "tokenizer_config.json:   0%|          | 0.00/50.5k [00:00<?, ?B/s]"
            ],
            "application/vnd.jupyter.widget-view+json": {
              "version_major": 2,
              "version_minor": 0,
              "model_id": "31e75d1678b94f99a2a2d36281f6c929"
            }
          },
          "metadata": {}
        },
        {
          "output_type": "display_data",
          "data": {
            "text/plain": [
              "tokenizer.json:   0%|          | 0.00/9.09M [00:00<?, ?B/s]"
            ],
            "application/vnd.jupyter.widget-view+json": {
              "version_major": 2,
              "version_minor": 0,
              "model_id": "de1e098d7e1e449b84da79212f480054"
            }
          },
          "metadata": {}
        },
        {
          "output_type": "display_data",
          "data": {
            "text/plain": [
              "special_tokens_map.json:   0%|          | 0.00/73.0 [00:00<?, ?B/s]"
            ],
            "application/vnd.jupyter.widget-view+json": {
              "version_major": 2,
              "version_minor": 0,
              "model_id": "e7098c2c86334d90a8d9070445af1152"
            }
          },
          "metadata": {}
        },
        {
          "output_type": "display_data",
          "data": {
            "text/plain": [
              "config.json:   0%|          | 0.00/826 [00:00<?, ?B/s]"
            ],
            "application/vnd.jupyter.widget-view+json": {
              "version_major": 2,
              "version_minor": 0,
              "model_id": "2b10e43fec4546e6a931dba89d0fcbd6"
            }
          },
          "metadata": {}
        },
        {
          "output_type": "stream",
          "name": "stderr",
          "text": [
            "`torch_dtype` is deprecated! Use `dtype` instead!\n"
          ]
        },
        {
          "output_type": "display_data",
          "data": {
            "text/plain": [
              "model.safetensors.index.json:   0%|          | 0.00/23.9k [00:00<?, ?B/s]"
            ],
            "application/vnd.jupyter.widget-view+json": {
              "version_major": 2,
              "version_minor": 0,
              "model_id": "110e567fd2ad4bbcbe7fdeca1ca4ee38"
            }
          },
          "metadata": {}
        },
        {
          "output_type": "display_data",
          "data": {
            "text/plain": [
              "Fetching 4 files:   0%|          | 0/4 [00:00<?, ?it/s]"
            ],
            "application/vnd.jupyter.widget-view+json": {
              "version_major": 2,
              "version_minor": 0,
              "model_id": "15f7fb1232a7469c980fb214c418edca"
            }
          },
          "metadata": {}
        },
        {
          "output_type": "display_data",
          "data": {
            "text/plain": [
              "model-00003-of-00004.safetensors:   0%|          | 0.00/4.92G [00:00<?, ?B/s]"
            ],
            "application/vnd.jupyter.widget-view+json": {
              "version_major": 2,
              "version_minor": 0,
              "model_id": "fe97c648a3544d34b9ed43dd12803ab1"
            }
          },
          "metadata": {}
        },
        {
          "output_type": "display_data",
          "data": {
            "text/plain": [
              "model-00001-of-00004.safetensors:   0%|          | 0.00/4.98G [00:00<?, ?B/s]"
            ],
            "application/vnd.jupyter.widget-view+json": {
              "version_major": 2,
              "version_minor": 0,
              "model_id": "cdbf1e94743d47218ca6a539c81efcbb"
            }
          },
          "metadata": {}
        },
        {
          "output_type": "display_data",
          "data": {
            "text/plain": [
              "model-00004-of-00004.safetensors:   0%|          | 0.00/1.17G [00:00<?, ?B/s]"
            ],
            "application/vnd.jupyter.widget-view+json": {
              "version_major": 2,
              "version_minor": 0,
              "model_id": "f65c6816c16a4491b941f4247e487a77"
            }
          },
          "metadata": {}
        },
        {
          "output_type": "display_data",
          "data": {
            "text/plain": [
              "model-00002-of-00004.safetensors:   0%|          | 0.00/5.00G [00:00<?, ?B/s]"
            ],
            "application/vnd.jupyter.widget-view+json": {
              "version_major": 2,
              "version_minor": 0,
              "model_id": "46e848c13c6945b19ca7e4fad4e0364e"
            }
          },
          "metadata": {}
        },
        {
          "output_type": "display_data",
          "data": {
            "text/plain": [
              "Loading checkpoint shards:   0%|          | 0/4 [00:00<?, ?it/s]"
            ],
            "application/vnd.jupyter.widget-view+json": {
              "version_major": 2,
              "version_minor": 0,
              "model_id": "d55b05312d944d63bc5e869d1bc7f155"
            }
          },
          "metadata": {}
        },
        {
          "output_type": "display_data",
          "data": {
            "text/plain": [
              "generation_config.json:   0%|          | 0.00/185 [00:00<?, ?B/s]"
            ],
            "application/vnd.jupyter.widget-view+json": {
              "version_major": 2,
              "version_minor": 0,
              "model_id": "132c11bd1640465585a594b737247c76"
            }
          },
          "metadata": {}
        }
      ]
    },
    {
      "cell_type": "code",
      "source": [],
      "metadata": {
        "id": "MYEenXeLRHCM"
      },
      "execution_count": null,
      "outputs": []
    },
    {
      "cell_type": "code",
      "source": [
        "# testing model\n",
        "# Set the Llama 3 chat template\n",
        "tokenizer.chat_template = \"{% for message in messages %}{% if message['role'] == 'user' %}{{ '<|start_header_id|>user<|end_header_id|>\\n\\n' + message['content'] + '<|eot_id|>' }}{% elif message['role'] == 'assistant' %}{{ '<|start_header_id|>assistant<|end_header_id|>\\n\\n' + message['content'] + '<|eot_id|>' }}{% endif %}{% endfor %}{% if add_generation_prompt %}{{ '<|start_header_id|>assistant<|end_header_id|>\\n\\n' }}{% endif %}\"\n",
        "\n",
        "messages = [\n",
        "    {\"role\": \"user\", \"content\": \"What is the capital of France?\"}\n",
        "]\n",
        "\n",
        "# Apply chat template\n",
        "prompt = tokenizer.apply_chat_template(\n",
        "    messages,\n",
        "    tokenize=False,\n",
        "    add_generation_prompt=True\n",
        ")\n",
        "\n",
        "# Tokenize and move to GPU\n",
        "inputs = tokenizer(prompt, return_tensors=\"pt\").to(model.device)\n",
        "\n",
        "# Generate output\n",
        "outputs = model.generate(\n",
        "    **inputs,\n",
        "    max_new_tokens=10, # Reduce this\n",
        "    do_sample=False,\n",
        "    pad_token_id=tokenizer.eos_token_id,\n",
        "    eos_token_id=tokenizer.eos_token_id,\n",
        "    repetition_penalty=1.2\n",
        ")\n",
        "\n",
        "# Get only the NEW generated tokens (not the input prompt)\n",
        "input_length = inputs['input_ids'].shape[1]\n",
        "generated_ids = outputs[0][input_length:]\n",
        "full_answer = tokenizer.decode(generated_ids, skip_special_tokens=True)\n",
        "\n",
        "# print first line only\n",
        "answer = full_answer.split('\\n')[0].strip()\n",
        "print(\"Answer:\", answer)"
      ],
      "metadata": {
        "colab": {
          "base_uri": "https://localhost:8080/"
        },
        "id": "tm4FzaIJULJI",
        "outputId": "910f5a43-8004-4dd3-eecc-2029977b0cc5"
      },
      "execution_count": null,
      "outputs": [
        {
          "output_type": "stream",
          "name": "stdout",
          "text": [
            "Answer: Paris\n"
          ]
        }
      ]
    },
    {
      "cell_type": "code",
      "source": [],
      "metadata": {
        "id": "_bvRUM6iULLz"
      },
      "execution_count": null,
      "outputs": []
    },
    {
      "cell_type": "code",
      "source": [],
      "metadata": {
        "id": "LKxHgakAQOui"
      },
      "execution_count": null,
      "outputs": []
    },
    {
      "cell_type": "markdown",
      "source": [
        " those are the steps to diagnose and fix the installation error.\n",
        "\n",
        "Here's the logical sequence you followed:\n",
        "\n",
        "1.  **Diagnosis:** You ran `!nvcc --version` to determine that your Colab runtime is using **CUDA version 12.5**. This was the necessary step to diagnose why the original `cuml-cuda11` package failed (it was the wrong version).\n",
        "2.  **Fix:** Based on the diagnosis, you updated the installation commands to use the packages compatible with CUDA 12.x: `cudf-cu12` and `cuml-cu12`.\n",
        "\n",
        "### Summary of the Correct Procedure\n",
        "\n",
        "To successfully install the GPU-accelerated t-SNE in your current Colab environment:\n",
        "\n",
        "1.  **Verify CUDA Version (Diagnosis):**\n",
        "    ```python\n",
        "    !nvcc --version\n",
        "    ```\n",
        "2.  **Install Dependencies (Fix):**\n",
        "    ```python\n",
        "    !pip install cudf-cu12 --extra-index-url=https://pypi.nvidia.com\n",
        "    !pip install cuml-cu12 --extra-index-url=https://pypi.nvidia.com\n",
        "    ```\n",
        "3.  **Restart Runtime (Crucial Final Step):** After installing large low-level libraries like these, it is **highly recommended** that you go to **Runtime \\> Restart runtime** in the Colab menu. This ensures the new libraries and their dependencies are correctly loaded into your Python environment before you try to import and use them.\n",
        "\n",
        "Once the runtime is restarted, you can proceed with using the `cuml.manifold.TSNE` code."
      ],
      "metadata": {
        "id": "-BlcXgBOEZm_"
      }
    },
    {
      "cell_type": "code",
      "source": [
        "!nvcc --version"
      ],
      "metadata": {
        "colab": {
          "base_uri": "https://localhost:8080/"
        },
        "id": "XY9Zlq_MEdD9",
        "outputId": "f10ca5ef-9814-4af0-abe7-a4de74911f60"
      },
      "execution_count": null,
      "outputs": [
        {
          "output_type": "stream",
          "name": "stdout",
          "text": [
            "nvcc: NVIDIA (R) Cuda compiler driver\n",
            "Copyright (c) 2005-2024 NVIDIA Corporation\n",
            "Built on Thu_Jun__6_02:18:23_PDT_2024\n",
            "Cuda compilation tools, release 12.5, V12.5.82\n",
            "Build cuda_12.5.r12.5/compiler.34385749_0\n"
          ]
        }
      ]
    },
    {
      "cell_type": "code",
      "source": [],
      "metadata": {
        "id": "FUcjPFy2EiNB"
      },
      "execution_count": null,
      "outputs": []
    },
    {
      "cell_type": "code",
      "source": [],
      "metadata": {
        "id": "v9Ro5NhxEiQ3"
      },
      "execution_count": null,
      "outputs": []
    },
    {
      "cell_type": "code",
      "execution_count": null,
      "metadata": {
        "id": "MjSfC9CTrtys",
        "colab": {
          "base_uri": "https://localhost:8080/"
        },
        "outputId": "cd6ab112-81e4-4927-bb8f-f2dc193eefa0"
      },
      "outputs": [
        {
          "output_type": "stream",
          "name": "stdout",
          "text": [
            "Looking in indexes: https://pypi.org/simple, https://pypi.nvidia.com\n",
            "Requirement already satisfied: cudf-cu12 in /usr/local/lib/python3.12/dist-packages (25.6.0)\n",
            "Requirement already satisfied: cachetools in /usr/local/lib/python3.12/dist-packages (from cudf-cu12) (5.5.2)\n",
            "Requirement already satisfied: cuda-python<13.0a0,>=12.6.2 in /usr/local/lib/python3.12/dist-packages (from cudf-cu12) (12.6.2.post1)\n",
            "Requirement already satisfied: cupy-cuda12x>=12.0.0 in /usr/local/lib/python3.12/dist-packages (from cudf-cu12) (13.3.0)\n",
            "Requirement already satisfied: fsspec>=0.6.0 in /usr/local/lib/python3.12/dist-packages (from cudf-cu12) (2025.3.0)\n",
            "Requirement already satisfied: libcudf-cu12==25.6.* in /usr/local/lib/python3.12/dist-packages (from cudf-cu12) (25.6.0)\n",
            "Requirement already satisfied: numba-cuda<0.12.0a0,>=0.11.0 in /usr/local/lib/python3.12/dist-packages (from cudf-cu12) (0.11.0)\n",
            "Requirement already satisfied: numba<0.62.0a0,>=0.59.1 in /usr/local/lib/python3.12/dist-packages (from cudf-cu12) (0.60.0)\n",
            "Requirement already satisfied: numpy<3.0a0,>=1.23 in /usr/local/lib/python3.12/dist-packages (from cudf-cu12) (2.0.2)\n",
            "Requirement already satisfied: nvidia-cuda-nvcc-cu12 in /usr/local/lib/python3.12/dist-packages (from cudf-cu12) (12.5.82)\n",
            "Requirement already satisfied: nvidia-cuda-nvrtc-cu12 in /usr/local/lib/python3.12/dist-packages (from cudf-cu12) (12.6.77)\n",
            "Requirement already satisfied: nvtx>=0.2.1 in /usr/local/lib/python3.12/dist-packages (from cudf-cu12) (0.2.13)\n",
            "Requirement already satisfied: packaging in /usr/local/lib/python3.12/dist-packages (from cudf-cu12) (25.0)\n",
            "Requirement already satisfied: pandas<2.2.4dev0,>=2.0 in /usr/local/lib/python3.12/dist-packages (from cudf-cu12) (2.2.2)\n",
            "Requirement already satisfied: pyarrow<20.0.0a0,>=14.0.0 in /usr/local/lib/python3.12/dist-packages (from cudf-cu12) (18.1.0)\n",
            "Requirement already satisfied: pylibcudf-cu12==25.6.* in /usr/local/lib/python3.12/dist-packages (from cudf-cu12) (25.6.0)\n",
            "Requirement already satisfied: pynvjitlink-cu12 in /usr/local/lib/python3.12/dist-packages (from cudf-cu12) (0.7.0)\n",
            "Requirement already satisfied: rich in /usr/local/lib/python3.12/dist-packages (from cudf-cu12) (13.9.4)\n",
            "Requirement already satisfied: rmm-cu12==25.6.* in /usr/local/lib/python3.12/dist-packages (from cudf-cu12) (25.6.0)\n",
            "Requirement already satisfied: typing_extensions>=4.0.0 in /usr/local/lib/python3.12/dist-packages (from cudf-cu12) (4.15.0)\n",
            "Requirement already satisfied: libkvikio-cu12==25.6.* in /usr/local/lib/python3.12/dist-packages (from libcudf-cu12==25.6.*->cudf-cu12) (25.6.0)\n",
            "Requirement already satisfied: librmm-cu12==25.6.* in /usr/local/lib/python3.12/dist-packages (from libcudf-cu12==25.6.*->cudf-cu12) (25.6.0)\n",
            "Requirement already satisfied: rapids-logger==0.1.* in /usr/local/lib/python3.12/dist-packages (from libcudf-cu12==25.6.*->cudf-cu12) (0.1.1)\n",
            "Requirement already satisfied: fastrlock>=0.5 in /usr/local/lib/python3.12/dist-packages (from cupy-cuda12x>=12.0.0->cudf-cu12) (0.8.3)\n",
            "Requirement already satisfied: llvmlite<0.44,>=0.43.0dev0 in /usr/local/lib/python3.12/dist-packages (from numba<0.62.0a0,>=0.59.1->cudf-cu12) (0.43.0)\n",
            "Requirement already satisfied: python-dateutil>=2.8.2 in /usr/local/lib/python3.12/dist-packages (from pandas<2.2.4dev0,>=2.0->cudf-cu12) (2.9.0.post0)\n",
            "Requirement already satisfied: pytz>=2020.1 in /usr/local/lib/python3.12/dist-packages (from pandas<2.2.4dev0,>=2.0->cudf-cu12) (2025.2)\n",
            "Requirement already satisfied: tzdata>=2022.7 in /usr/local/lib/python3.12/dist-packages (from pandas<2.2.4dev0,>=2.0->cudf-cu12) (2025.2)\n",
            "Requirement already satisfied: markdown-it-py>=2.2.0 in /usr/local/lib/python3.12/dist-packages (from rich->cudf-cu12) (4.0.0)\n",
            "Requirement already satisfied: pygments<3.0.0,>=2.13.0 in /usr/local/lib/python3.12/dist-packages (from rich->cudf-cu12) (2.19.2)\n",
            "Requirement already satisfied: mdurl~=0.1 in /usr/local/lib/python3.12/dist-packages (from markdown-it-py>=2.2.0->rich->cudf-cu12) (0.1.2)\n",
            "Requirement already satisfied: six>=1.5 in /usr/local/lib/python3.12/dist-packages (from python-dateutil>=2.8.2->pandas<2.2.4dev0,>=2.0->cudf-cu12) (1.17.0)\n",
            "Looking in indexes: https://pypi.org/simple, https://pypi.nvidia.com\n",
            "Requirement already satisfied: cuml-cu12 in /usr/local/lib/python3.12/dist-packages (25.6.0)\n",
            "Requirement already satisfied: cuda-python<13.0a0,>=12.6.2 in /usr/local/lib/python3.12/dist-packages (from cuml-cu12) (12.6.2.post1)\n",
            "Requirement already satisfied: cudf-cu12==25.6.* in /usr/local/lib/python3.12/dist-packages (from cuml-cu12) (25.6.0)\n",
            "Requirement already satisfied: cupy-cuda12x>=12.0.0 in /usr/local/lib/python3.12/dist-packages (from cuml-cu12) (13.3.0)\n",
            "Requirement already satisfied: cuvs-cu12==25.6.* in /usr/local/lib/python3.12/dist-packages (from cuml-cu12) (25.6.1)\n",
            "Requirement already satisfied: dask-cuda==25.6.* in /usr/local/lib/python3.12/dist-packages (from cuml-cu12) (25.6.0)\n",
            "Requirement already satisfied: dask-cudf-cu12==25.6.* in /usr/local/lib/python3.12/dist-packages (from cuml-cu12) (25.6.0)\n",
            "Requirement already satisfied: joblib>=0.11 in /usr/local/lib/python3.12/dist-packages (from cuml-cu12) (1.5.2)\n",
            "Requirement already satisfied: libcuml-cu12==25.6.* in /usr/local/lib/python3.12/dist-packages (from cuml-cu12) (25.6.0)\n",
            "Requirement already satisfied: numba<0.62.0a0,>=0.59.1 in /usr/local/lib/python3.12/dist-packages (from cuml-cu12) (0.60.0)\n",
            "Requirement already satisfied: numpy<3.0a0,>=1.23 in /usr/local/lib/python3.12/dist-packages (from cuml-cu12) (2.0.2)\n",
            "Requirement already satisfied: nvidia-cublas-cu12 in /usr/local/lib/python3.12/dist-packages (from cuml-cu12) (12.6.4.1)\n",
            "Requirement already satisfied: nvidia-cufft-cu12 in /usr/local/lib/python3.12/dist-packages (from cuml-cu12) (11.3.0.4)\n",
            "Requirement already satisfied: nvidia-curand-cu12 in /usr/local/lib/python3.12/dist-packages (from cuml-cu12) (10.3.7.77)\n",
            "Requirement already satisfied: nvidia-cusolver-cu12 in /usr/local/lib/python3.12/dist-packages (from cuml-cu12) (11.7.1.2)\n",
            "Requirement already satisfied: nvidia-cusparse-cu12 in /usr/local/lib/python3.12/dist-packages (from cuml-cu12) (12.5.4.2)\n",
            "Requirement already satisfied: packaging in /usr/local/lib/python3.12/dist-packages (from cuml-cu12) (25.0)\n",
            "Requirement already satisfied: pylibraft-cu12==25.6.* in /usr/local/lib/python3.12/dist-packages (from cuml-cu12) (25.6.0)\n",
            "Requirement already satisfied: raft-dask-cu12==25.6.* in /usr/local/lib/python3.12/dist-packages (from cuml-cu12) (25.6.0)\n",
            "Requirement already satisfied: rapids-dask-dependency==25.6.* in /usr/local/lib/python3.12/dist-packages (from cuml-cu12) (25.6.0)\n",
            "Requirement already satisfied: rmm-cu12==25.6.* in /usr/local/lib/python3.12/dist-packages (from cuml-cu12) (25.6.0)\n",
            "Requirement already satisfied: scikit-learn>=1.5 in /usr/local/lib/python3.12/dist-packages (from cuml-cu12) (1.6.1)\n",
            "Requirement already satisfied: scipy>=1.8.0 in /usr/local/lib/python3.12/dist-packages (from cuml-cu12) (1.16.2)\n",
            "Requirement already satisfied: treelite==4.4.1 in /usr/local/lib/python3.12/dist-packages (from cuml-cu12) (4.4.1)\n",
            "Requirement already satisfied: cachetools in /usr/local/lib/python3.12/dist-packages (from cudf-cu12==25.6.*->cuml-cu12) (5.5.2)\n",
            "Requirement already satisfied: fsspec>=0.6.0 in /usr/local/lib/python3.12/dist-packages (from cudf-cu12==25.6.*->cuml-cu12) (2025.3.0)\n",
            "Requirement already satisfied: libcudf-cu12==25.6.* in /usr/local/lib/python3.12/dist-packages (from cudf-cu12==25.6.*->cuml-cu12) (25.6.0)\n",
            "Requirement already satisfied: numba-cuda<0.12.0a0,>=0.11.0 in /usr/local/lib/python3.12/dist-packages (from cudf-cu12==25.6.*->cuml-cu12) (0.11.0)\n",
            "Requirement already satisfied: nvidia-cuda-nvcc-cu12 in /usr/local/lib/python3.12/dist-packages (from cudf-cu12==25.6.*->cuml-cu12) (12.5.82)\n",
            "Requirement already satisfied: nvidia-cuda-nvrtc-cu12 in /usr/local/lib/python3.12/dist-packages (from cudf-cu12==25.6.*->cuml-cu12) (12.6.77)\n",
            "Requirement already satisfied: nvtx>=0.2.1 in /usr/local/lib/python3.12/dist-packages (from cudf-cu12==25.6.*->cuml-cu12) (0.2.13)\n",
            "Requirement already satisfied: pandas<2.2.4dev0,>=2.0 in /usr/local/lib/python3.12/dist-packages (from cudf-cu12==25.6.*->cuml-cu12) (2.2.2)\n",
            "Requirement already satisfied: pyarrow<20.0.0a0,>=14.0.0 in /usr/local/lib/python3.12/dist-packages (from cudf-cu12==25.6.*->cuml-cu12) (18.1.0)\n",
            "Requirement already satisfied: pylibcudf-cu12==25.6.* in /usr/local/lib/python3.12/dist-packages (from cudf-cu12==25.6.*->cuml-cu12) (25.6.0)\n",
            "Requirement already satisfied: pynvjitlink-cu12 in /usr/local/lib/python3.12/dist-packages (from cudf-cu12==25.6.*->cuml-cu12) (0.7.0)\n",
            "Requirement already satisfied: rich in /usr/local/lib/python3.12/dist-packages (from cudf-cu12==25.6.*->cuml-cu12) (13.9.4)\n",
            "Requirement already satisfied: typing_extensions>=4.0.0 in /usr/local/lib/python3.12/dist-packages (from cudf-cu12==25.6.*->cuml-cu12) (4.15.0)\n",
            "Requirement already satisfied: libcuvs-cu12==25.6.* in /usr/local/lib/python3.12/dist-packages (from cuvs-cu12==25.6.*->cuml-cu12) (25.6.1)\n",
            "Requirement already satisfied: click>=8.1 in /usr/local/lib/python3.12/dist-packages (from dask-cuda==25.6.*->cuml-cu12) (8.3.0)\n",
            "Requirement already satisfied: pynvml<13.0.0a0,>=12.0.0 in /usr/local/lib/python3.12/dist-packages (from dask-cuda==25.6.*->cuml-cu12) (12.0.0)\n",
            "Requirement already satisfied: zict>=2.0.0 in /usr/local/lib/python3.12/dist-packages (from dask-cuda==25.6.*->cuml-cu12) (3.0.0)\n",
            "Requirement already satisfied: libraft-cu12==25.6.* in /usr/local/lib/python3.12/dist-packages (from libcuml-cu12==25.6.*->cuml-cu12) (25.6.0)\n",
            "Requirement already satisfied: rapids-logger==0.1.* in /usr/local/lib/python3.12/dist-packages (from libcuml-cu12==25.6.*->cuml-cu12) (0.1.1)\n",
            "Requirement already satisfied: distributed-ucxx-cu12==0.44.* in /usr/local/lib/python3.12/dist-packages (from raft-dask-cu12==25.6.*->cuml-cu12) (0.44.0)\n",
            "Requirement already satisfied: nvidia-nccl-cu12>=2.19 in /usr/local/lib/python3.12/dist-packages (from raft-dask-cu12==25.6.*->cuml-cu12) (2.27.3)\n",
            "Requirement already satisfied: ucx-py-cu12==0.44.* in /usr/local/lib/python3.12/dist-packages (from raft-dask-cu12==25.6.*->cuml-cu12) (0.44.0)\n",
            "Requirement already satisfied: dask==2025.5.0 in /usr/local/lib/python3.12/dist-packages (from rapids-dask-dependency==25.6.*->cuml-cu12) (2025.5.0)\n",
            "Requirement already satisfied: distributed==2025.5.0 in /usr/local/lib/python3.12/dist-packages (from rapids-dask-dependency==25.6.*->cuml-cu12) (2025.5.0)\n",
            "Requirement already satisfied: librmm-cu12==25.6.* in /usr/local/lib/python3.12/dist-packages (from rmm-cu12==25.6.*->cuml-cu12) (25.6.0)\n",
            "Requirement already satisfied: cloudpickle>=3.0.0 in /usr/local/lib/python3.12/dist-packages (from dask==2025.5.0->rapids-dask-dependency==25.6.*->cuml-cu12) (3.1.1)\n",
            "Requirement already satisfied: partd>=1.4.0 in /usr/local/lib/python3.12/dist-packages (from dask==2025.5.0->rapids-dask-dependency==25.6.*->cuml-cu12) (1.4.2)\n",
            "Requirement already satisfied: pyyaml>=5.3.1 in /usr/local/lib/python3.12/dist-packages (from dask==2025.5.0->rapids-dask-dependency==25.6.*->cuml-cu12) (6.0.3)\n",
            "Requirement already satisfied: toolz>=0.10.0 in /usr/local/lib/python3.12/dist-packages (from dask==2025.5.0->rapids-dask-dependency==25.6.*->cuml-cu12) (0.12.1)\n",
            "Requirement already satisfied: jinja2>=2.10.3 in /usr/local/lib/python3.12/dist-packages (from distributed==2025.5.0->rapids-dask-dependency==25.6.*->cuml-cu12) (3.1.6)\n",
            "Requirement already satisfied: locket>=1.0.0 in /usr/local/lib/python3.12/dist-packages (from distributed==2025.5.0->rapids-dask-dependency==25.6.*->cuml-cu12) (1.0.0)\n",
            "Requirement already satisfied: msgpack>=1.0.2 in /usr/local/lib/python3.12/dist-packages (from distributed==2025.5.0->rapids-dask-dependency==25.6.*->cuml-cu12) (1.1.2)\n",
            "Requirement already satisfied: psutil>=5.8.0 in /usr/local/lib/python3.12/dist-packages (from distributed==2025.5.0->rapids-dask-dependency==25.6.*->cuml-cu12) (5.9.5)\n",
            "Requirement already satisfied: sortedcontainers>=2.0.5 in /usr/local/lib/python3.12/dist-packages (from distributed==2025.5.0->rapids-dask-dependency==25.6.*->cuml-cu12) (2.4.0)\n",
            "Requirement already satisfied: tblib>=1.6.0 in /usr/local/lib/python3.12/dist-packages (from distributed==2025.5.0->rapids-dask-dependency==25.6.*->cuml-cu12) (3.1.0)\n",
            "Requirement already satisfied: tornado>=6.2.0 in /usr/local/lib/python3.12/dist-packages (from distributed==2025.5.0->rapids-dask-dependency==25.6.*->cuml-cu12) (6.4.2)\n",
            "Requirement already satisfied: urllib3>=1.26.5 in /usr/local/lib/python3.12/dist-packages (from distributed==2025.5.0->rapids-dask-dependency==25.6.*->cuml-cu12) (2.5.0)\n",
            "Requirement already satisfied: ucxx-cu12==0.44.* in /usr/local/lib/python3.12/dist-packages (from distributed-ucxx-cu12==0.44.*->raft-dask-cu12==25.6.*->cuml-cu12) (0.44.0)\n",
            "Requirement already satisfied: libkvikio-cu12==25.6.* in /usr/local/lib/python3.12/dist-packages (from libcudf-cu12==25.6.*->cudf-cu12==25.6.*->cuml-cu12) (25.6.0)\n",
            "Requirement already satisfied: libucx-cu12<1.19,>=1.15.0 in /usr/local/lib/python3.12/dist-packages (from ucx-py-cu12==0.44.*->raft-dask-cu12==25.6.*->cuml-cu12) (1.18.1)\n",
            "Requirement already satisfied: libucxx-cu12==0.44.* in /usr/local/lib/python3.12/dist-packages (from ucxx-cu12==0.44.*->distributed-ucxx-cu12==0.44.*->raft-dask-cu12==25.6.*->cuml-cu12) (0.44.0)\n",
            "Requirement already satisfied: fastrlock>=0.5 in /usr/local/lib/python3.12/dist-packages (from cupy-cuda12x>=12.0.0->cuml-cu12) (0.8.3)\n",
            "Requirement already satisfied: llvmlite<0.44,>=0.43.0dev0 in /usr/local/lib/python3.12/dist-packages (from numba<0.62.0a0,>=0.59.1->cuml-cu12) (0.43.0)\n",
            "Requirement already satisfied: threadpoolctl>=3.1.0 in /usr/local/lib/python3.12/dist-packages (from scikit-learn>=1.5->cuml-cu12) (3.6.0)\n",
            "Requirement already satisfied: nvidia-nvjitlink-cu12 in /usr/local/lib/python3.12/dist-packages (from nvidia-cufft-cu12->cuml-cu12) (12.6.85)\n",
            "Requirement already satisfied: python-dateutil>=2.8.2 in /usr/local/lib/python3.12/dist-packages (from pandas<2.2.4dev0,>=2.0->cudf-cu12==25.6.*->cuml-cu12) (2.9.0.post0)\n",
            "Requirement already satisfied: pytz>=2020.1 in /usr/local/lib/python3.12/dist-packages (from pandas<2.2.4dev0,>=2.0->cudf-cu12==25.6.*->cuml-cu12) (2025.2)\n",
            "Requirement already satisfied: tzdata>=2022.7 in /usr/local/lib/python3.12/dist-packages (from pandas<2.2.4dev0,>=2.0->cudf-cu12==25.6.*->cuml-cu12) (2025.2)\n",
            "Requirement already satisfied: nvidia-ml-py<13.0.0a0,>=12.0.0 in /usr/local/lib/python3.12/dist-packages (from pynvml<13.0.0a0,>=12.0.0->dask-cuda==25.6.*->cuml-cu12) (12.575.51)\n",
            "Requirement already satisfied: markdown-it-py>=2.2.0 in /usr/local/lib/python3.12/dist-packages (from rich->cudf-cu12==25.6.*->cuml-cu12) (4.0.0)\n",
            "Requirement already satisfied: pygments<3.0.0,>=2.13.0 in /usr/local/lib/python3.12/dist-packages (from rich->cudf-cu12==25.6.*->cuml-cu12) (2.19.2)\n",
            "Requirement already satisfied: MarkupSafe>=2.0 in /usr/local/lib/python3.12/dist-packages (from jinja2>=2.10.3->distributed==2025.5.0->rapids-dask-dependency==25.6.*->cuml-cu12) (3.0.3)\n",
            "Requirement already satisfied: mdurl~=0.1 in /usr/local/lib/python3.12/dist-packages (from markdown-it-py>=2.2.0->rich->cudf-cu12==25.6.*->cuml-cu12) (0.1.2)\n",
            "Requirement already satisfied: six>=1.5 in /usr/local/lib/python3.12/dist-packages (from python-dateutil>=2.8.2->pandas<2.2.4dev0,>=2.0->cudf-cu12==25.6.*->cuml-cu12) (1.17.0)\n"
          ]
        }
      ],
      "source": [
        "# !pip install cuml-cuda11 --extra-index-url=https://pypi.nvidia.com\n",
        "\n",
        "# !pip install --upgrade \"cuml>=24.4.0\" --extra-index-url=https://pypi.nvidia.com\n",
        "\n",
        "!pip install cudf-cu12 --extra-index-url=https://pypi.nvidia.com\n",
        "!pip install cuml-cu12 --extra-index-url=https://pypi.nvidia.com"
      ]
    },
    {
      "cell_type": "code",
      "source": [],
      "metadata": {
        "id": "MU756xKvCyJC"
      },
      "execution_count": null,
      "outputs": []
    },
    {
      "cell_type": "code",
      "source": [
        "\n",
        "# pip installs\n",
        "!pip install -q chromadb Items"
      ],
      "metadata": {
        "id": "j-DAUIubEx7f",
        "colab": {
          "base_uri": "https://localhost:8080/"
        },
        "outputId": "a2e0bd66-c334-4157-c746-6309941133f2"
      },
      "execution_count": null,
      "outputs": [
        {
          "output_type": "stream",
          "name": "stdout",
          "text": [
            "\u001b[?25l     \u001b[90m━━━━━━━━━━━━━━━━━━━━━━━━━━━━━━━━━━━━━━━━\u001b[0m \u001b[32m0.0/67.3 kB\u001b[0m \u001b[31m?\u001b[0m eta \u001b[36m-:--:--\u001b[0m\r\u001b[2K     \u001b[90m━━━━━━━━━━━━━━━━━━━━━━━━━━━━━━━━━━━━━━━━\u001b[0m \u001b[32m67.3/67.3 kB\u001b[0m \u001b[31m6.2 MB/s\u001b[0m eta \u001b[36m0:00:00\u001b[0m\n",
            "\u001b[?25h  Installing build dependencies ... \u001b[?25l\u001b[?25hdone\n",
            "  Getting requirements to build wheel ... \u001b[?25l\u001b[?25hdone\n",
            "  Preparing metadata (pyproject.toml) ... \u001b[?25l\u001b[?25hdone\n",
            "\u001b[2K   \u001b[90m━━━━━━━━━━━━━━━━━━━━━━━━━━━━━━━━━━━━━━━━\u001b[0m \u001b[32m19.9/19.9 MB\u001b[0m \u001b[31m114.1 MB/s\u001b[0m eta \u001b[36m0:00:00\u001b[0m\n",
            "\u001b[2K   \u001b[90m━━━━━━━━━━━━━━━━━━━━━━━━━━━━━━━━━━━━━━━━\u001b[0m \u001b[32m278.2/278.2 kB\u001b[0m \u001b[31m23.6 MB/s\u001b[0m eta \u001b[36m0:00:00\u001b[0m\n",
            "\u001b[2K   \u001b[90m━━━━━━━━━━━━━━━━━━━━━━━━━━━━━━━━━━━━━━━━\u001b[0m \u001b[32m2.0/2.0 MB\u001b[0m \u001b[31m83.2 MB/s\u001b[0m eta \u001b[36m0:00:00\u001b[0m\n",
            "\u001b[2K   \u001b[90m━━━━━━━━━━━━━━━━━━━━━━━━━━━━━━━━━━━━━━━━\u001b[0m \u001b[32m103.3/103.3 kB\u001b[0m \u001b[31m9.7 MB/s\u001b[0m eta \u001b[36m0:00:00\u001b[0m\n",
            "\u001b[2K   \u001b[90m━━━━━━━━━━━━━━━━━━━━━━━━━━━━━━━━━━━━━━━━\u001b[0m \u001b[32m17.4/17.4 MB\u001b[0m \u001b[31m106.2 MB/s\u001b[0m eta \u001b[36m0:00:00\u001b[0m\n",
            "\u001b[2K   \u001b[90m━━━━━━━━━━━━━━━━━━━━━━━━━━━━━━━━━━━━━━━━\u001b[0m \u001b[32m72.5/72.5 kB\u001b[0m \u001b[31m5.9 MB/s\u001b[0m eta \u001b[36m0:00:00\u001b[0m\n",
            "\u001b[2K   \u001b[90m━━━━━━━━━━━━━━━━━━━━━━━━━━━━━━━━━━━━━━━━\u001b[0m \u001b[32m105.4/105.4 kB\u001b[0m \u001b[31m10.0 MB/s\u001b[0m eta \u001b[36m0:00:00\u001b[0m\n",
            "\u001b[2K   \u001b[90m━━━━━━━━━━━━━━━━━━━━━━━━━━━━━━━━━━━━━━━━\u001b[0m \u001b[32m71.6/71.6 kB\u001b[0m \u001b[31m6.7 MB/s\u001b[0m eta \u001b[36m0:00:00\u001b[0m\n",
            "\u001b[2K   \u001b[90m━━━━━━━━━━━━━━━━━━━━━━━━━━━━━━━━━━━━━━━━\u001b[0m \u001b[32m517.7/517.7 kB\u001b[0m \u001b[31m33.7 MB/s\u001b[0m eta \u001b[36m0:00:00\u001b[0m\n",
            "\u001b[2K   \u001b[90m━━━━━━━━━━━━━━━━━━━━━━━━━━━━━━━━━━━━━━━━\u001b[0m \u001b[32m128.4/128.4 kB\u001b[0m \u001b[31m10.7 MB/s\u001b[0m eta \u001b[36m0:00:00\u001b[0m\n",
            "\u001b[2K   \u001b[90m━━━━━━━━━━━━━━━━━━━━━━━━━━━━━━━━━━━━━━━━\u001b[0m \u001b[32m4.7/4.7 MB\u001b[0m \u001b[31m95.7 MB/s\u001b[0m eta \u001b[36m0:00:00\u001b[0m\n",
            "\u001b[2K   \u001b[90m━━━━━━━━━━━━━━━━━━━━━━━━━━━━━━━━━━━━━━━━\u001b[0m \u001b[32m452.2/452.2 kB\u001b[0m \u001b[31m32.2 MB/s\u001b[0m eta \u001b[36m0:00:00\u001b[0m\n",
            "\u001b[2K   \u001b[90m━━━━━━━━━━━━━━━━━━━━━━━━━━━━━━━━━━━━━━━━\u001b[0m \u001b[32m46.0/46.0 kB\u001b[0m \u001b[31m3.8 MB/s\u001b[0m eta \u001b[36m0:00:00\u001b[0m\n",
            "\u001b[2K   \u001b[90m━━━━━━━━━━━━━━━━━━━━━━━━━━━━━━━━━━━━━━━━\u001b[0m \u001b[32m86.8/86.8 kB\u001b[0m \u001b[31m7.0 MB/s\u001b[0m eta \u001b[36m0:00:00\u001b[0m\n",
            "\u001b[?25h  Building wheel for pypika (pyproject.toml) ... \u001b[?25l\u001b[?25hdone\n"
          ]
        }
      ]
    },
    {
      "cell_type": "code",
      "source": [],
      "metadata": {
        "id": "J38Npf8zEyAF"
      },
      "execution_count": null,
      "outputs": []
    },
    {
      "cell_type": "markdown",
      "source": [
        "You need the `import torch` and the subsequent print statements for two main reasons: **Initialization** and **Verification** of your GPU environment in Colab.\n",
        "\n",
        "This code block ensures that the necessary foundation for high-performance computing (PyTorch) is loaded and that the system has correctly identified and connected to your GPU accelerator (like the L4 or A100).\n",
        "\n",
        "***\n",
        "\n",
        "## 1. Initialization (`import torch`)\n",
        "\n",
        "* **PyTorch Foundation:** The line `import torch` loads the entire **PyTorch** deep learning framework. PyTorch is the underlying library that the `SentenceTransformer` uses for all its heavy lifting, including matrix multiplication and model loading.\n",
        "* **CUDA Initialization:** When PyTorch is loaded, it automatically tries to initialize the CUDA driver on the Colab VM. If you are using a GPU runtime, this step is essential to prepare the GPU for accelerated computing.\n",
        "\n",
        "***\n",
        "\n",
        "## 2. Verification (`print` Statements)\n",
        "\n",
        "These lines are used to confirm that the initialization was successful and to give you confidence in the runtime configuration.\n",
        "\n",
        "| Code Line | What It Does | Why It's Needed |\n",
        "| :--- | :--- | :--- |\n",
        "| `print(f\"CUDA available: {torch.cuda.is_available()}\")` | Checks the CUDA status. | Confirms that the GPU accelerator is active and recognized by PyTorch. This should output `True` if you selected a GPU runtime. |\n",
        "| `print(f\"GPU device: {torch.cuda.get_device_name(0) if torch.cuda.is_available() else 'None'}\")` | Identifies the GPU model. | Tells you *which* GPU is allocated (e.g., 'NVIDIA A100', 'NVIDIA L4', 'Tesla T4'). This is vital because different GPUs offer drastically different performance (as you saw when vectorizing the 400k dataset).  |"
      ],
      "metadata": {
        "id": "2G_WXLZLEyMC"
      }
    },
    {
      "cell_type": "code",
      "source": [
        "# Check GPU availability\n",
        "\n",
        "import torch\n",
        "print(f\"CUDA available: {torch.cuda.is_available()}\")\n",
        "print(f\"GPU device: {torch.cuda.get_device_name(0) if torch.cuda.is_available() else 'None'}\")\n"
      ],
      "metadata": {
        "colab": {
          "base_uri": "https://localhost:8080/"
        },
        "id": "JJmoXmYPDhKP",
        "outputId": "573b7a4c-e952-45e9-a829-faed92f8369a"
      },
      "execution_count": null,
      "outputs": [
        {
          "output_type": "stream",
          "name": "stdout",
          "text": [
            "CUDA available: True\n",
            "GPU device: NVIDIA L4\n"
          ]
        }
      ]
    },
    {
      "cell_type": "code",
      "source": [],
      "metadata": {
        "id": "qZNrzyLpCyOT"
      },
      "execution_count": null,
      "outputs": []
    },
    {
      "cell_type": "markdown",
      "metadata": {
        "id": "Nj0VWw2wx_Md"
      },
      "source": [
        "### Conecet to Google Drive"
      ]
    },
    {
      "cell_type": "code",
      "execution_count": null,
      "metadata": {
        "colab": {
          "base_uri": "https://localhost:8080/"
        },
        "id": "mfXjlbToux5_",
        "outputId": "59f6f186-fd6c-49de-b2a6-18349a6474b9"
      },
      "outputs": [
        {
          "output_type": "stream",
          "name": "stdout",
          "text": [
            "Drive not mounted, so nothing to flush and unmount.\n",
            "Mounted at /content/drive\n",
            "Current directory: /content/drive/MyDrive/01-LLM-ed-donner/build_multi_agent_system\n",
            "\n",
            "Contents:\n",
            "  📁 agents\n",
            "  📁 data\n",
            "  📁 scripts\n",
            "  📄 130_131_week6_01_buildDatasetAgain.ipynb\n",
            "  📄 136_week6_01_useThis_buildDatasetAgain.ipynb\n",
            "  📄 138_week6_day2_convertedOldPickelToNew.ipynb\n",
            "  📁 products_vectorstore\n",
            "  📄 202_week8_day2_chroma_vector_db_advanced_rag_pipeline.ipynb\n",
            "  📄 202_week8_day2_CUDA-code-chroma_vector_db_advanced_rag_pipeline.ipynb\n",
            "  📄 205_week8_day2_test_RAG_pipeline.ipynb\n",
            "Full path: /content/drive/MyDrive/01-LLM-ed-donner/build_multi_agent_system/202_week8_day2_CUDA-code-chroma_vector_db_advanced_rag_pipeline.ipynb\n"
          ]
        }
      ],
      "source": [
        "# Mount Google Drive first\n",
        "from google.colab import drive\n",
        "import os\n",
        "\n",
        "\n",
        "# unmount if already drive mounted\n",
        "drive.flush_and_unmount()\n",
        "\n",
        "# remount\n",
        "drive.mount('/content/drive', force_remount=True)\n",
        "\n",
        "# Now navigate to your folder\n",
        "\n",
        "os.chdir('/content/drive/MyDrive/01-LLM-ed-donner/build_multi_agent_system')\n",
        "\n",
        "# Get current working directory (should show full path now)\n",
        "print(f\"Current directory: {os.getcwd()}\")\n",
        "\n",
        "# List contents\n",
        "print(\"\\nContents:\")\n",
        "for item in os.listdir('.'):\n",
        "    print(f\"  📁 {item}\" if os.path.isdir(item) else f\"  📄 {item}\")\n",
        "\n",
        "# To get the full path to a file in your current directory\n",
        "file_path = os.path.join(os.getcwd(), '202_week8_day2_CUDA-code-chroma_vector_db_advanced_rag_pipeline.ipynb')\n",
        "print(f\"Full path: {file_path}\")"
      ]
    },
    {
      "cell_type": "code",
      "source": [],
      "metadata": {
        "id": "lo-l-O8zFSvN"
      },
      "execution_count": null,
      "outputs": []
    },
    {
      "cell_type": "code",
      "source": [
        "\n"
      ],
      "metadata": {
        "id": "JFLuNcT7FS41"
      },
      "execution_count": null,
      "outputs": []
    },
    {
      "cell_type": "code",
      "source": [],
      "metadata": {
        "id": "d9p-yuyzFS8y"
      },
      "execution_count": null,
      "outputs": []
    },
    {
      "cell_type": "code",
      "source": [],
      "metadata": {
        "id": "pQ3L93e_FS_o"
      },
      "execution_count": null,
      "outputs": []
    },
    {
      "cell_type": "code",
      "execution_count": null,
      "metadata": {
        "colab": {
          "base_uri": "https://localhost:8080/"
        },
        "id": "8mTHrMG1ux9N",
        "outputId": "deec80bc-3628-4f0f-e2f5-b3b81be52eb7"
      },
      "outputs": [
        {
          "output_type": "stream",
          "name": "stdout",
          "text": [
            "Current working directory: /content/drive/MyDrive/01-LLM-ed-donner/build_multi_agent_system\n",
            "sys.path: ['/content', '/env/python', '/usr/lib/python312.zip', '/usr/lib/python3.12', '/usr/lib/python3.12/lib-dynload', '', '/usr/local/lib/python3.12/dist-packages', '/usr/lib/python3/dist-packages', '/usr/local/lib/python3.12/dist-packages/IPython/extensions', '/root/.ipython', '/tmp/tmpcdjkh3z2']\n",
            "Does scripts folder exist? True\n"
          ]
        }
      ],
      "source": [
        "# imports\n",
        "import sys\n",
        "\n",
        "base_path = '/content/drive/MyDrive/01-LLM-ed-donner/build_multi_agent_system'\n",
        "# Change working directory to project root\n",
        "os.chdir(base_path)\n",
        "print(\"Current working directory:\", os.getcwd())\n",
        "print(\"sys.path:\", sys.path)\n",
        "print(\"Does scripts folder exist?\", os.path.exists(os.path.join(base_path, 'scripts')))\n",
        "\n",
        "# # Add to Python path (optional but recommended)\n",
        "sys.path.insert(0, os.path.join(base_path, 'scripts'))\n",
        "\n",
        "# Create __init__.py in scripts folder to make it a package\n",
        "init_file = os.path.join(base_path, 'scripts', '__init__.py')\n",
        "if not os.path.exists(init_file):\n",
        "    with open(init_file, 'w') as f:\n",
        "        f.write('')\n",
        "\n",
        "import re\n",
        "import math\n",
        "import json\n",
        "import random\n",
        "from dotenv import load_dotenv\n",
        "from datetime import datetime\n",
        "import pickle\n",
        "\n",
        "from tqdm import tqdm\n",
        "from google.colab import userdata\n",
        "# from huggingface_hub import login, whoami\n",
        "# from datasets import load_dataset, Dataset, DatasetDict\n",
        "\n",
        "import torch\n",
        "from sentence_transformers import SentenceTransformer\n",
        "\n",
        "import chromadb\n",
        "\n",
        "from preprocess_data import Item\n",
        "\n",
        "from testing import Tester\n",
        "\n",
        "from sklearn.manifold import TSNE\n",
        "\n",
        "import numpy as np\n",
        "import plotly.graph_objects as go\n",
        "\n",
        "\n",
        "\n"
      ]
    },
    {
      "cell_type": "code",
      "execution_count": null,
      "metadata": {
        "id": "M4PpJdV-ux_d"
      },
      "outputs": [],
      "source": []
    },
    {
      "cell_type": "markdown",
      "metadata": {
        "id": "jv-GJiS17rYb"
      },
      "source": [
        "## List data folder"
      ]
    },
    {
      "cell_type": "code",
      "execution_count": null,
      "metadata": {
        "colab": {
          "base_uri": "https://localhost:8080/"
        },
        "id": "BGDnkK7Pzao_",
        "outputId": "292ac87a-0844-4020-d5b5-06843462fb6f"
      },
      "outputs": [
        {
          "output_type": "stream",
          "name": "stdout",
          "text": [
            "\n",
            "📂 Contents of: /content/drive/MyDrive/01-LLM-ed-donner/build_multi_agent_system\n",
            "\n",
            "================================================================================\n",
            "\n",
            "📁 agents/\n",
            "\n",
            "📁 data/\n",
            "   📁 final_v_02/\n",
            "      📄 test.pkl                                  37.72 MB\n",
            "      📄 train.pkl                                560.36 MB\n",
            "\n",
            "📁 products_vectorstore/\n",
            "   📁 11d4a57a-e300-4096-ad10-58d9d1cc8560/\n",
            "      📄 data_level0.bin                          638.32 MB\n",
            "      📄 header.bin                                100.00 B\n",
            "      📄 index_metadata.pickle                     15.02 MB\n",
            "      📄 length.bin                                 1.52 MB\n",
            "      📄 link_lists.bin                             3.23 MB\n",
            "   📄 chroma.sqlite3                                1.77 GB\n",
            "\n",
            "📁 scripts/\n",
            "   📄 __init__.py                                    0.00 B\n",
            "   📁 __pycache__/\n",
            "      📄 __init__.cpython-312.pyc                  181.00 B\n",
            "      📄 items.cpython-312.pyc                      5.63 KB\n",
            "      📄 loaders.cpython-312.pyc                    4.91 KB\n",
            "      📄 loaders_for_colab.cpython-312.pyc          5.33 KB\n",
            "      📄 loaders_for_colab_version_two.cpython-312.pyc      5.75 KB\n",
            "      📄 preprocess_data.cpython-312.pyc            5.64 KB\n",
            "      📄 simple_item.cpython-312.pyc                2.59 KB\n",
            "      📄 testing.cpython-312.pyc                    5.34 KB\n",
            "   📄 items.py                                      3.41 KB\n",
            "   📄 loaders.py                                    3.19 KB\n",
            "   📄 loaders_for_colab.py                          3.76 KB\n",
            "   📄 loaders_for_colab_version_two.py              4.14 KB\n",
            "   📄 preprocess_data.py                            3.47 KB\n",
            "   📄 testing.py                                    2.45 KB\n",
            "\n",
            "📄 Files in root:\n",
            "   130_131_week6_01_buildDatasetAgain.ipynb    424.58 KB\n",
            "   136_week6_01_useThis_buildDatasetAgain.ipynb    131.49 KB\n",
            "   138_week6_day2_convertedOldPickelToNew.ipynb     53.38 KB\n",
            "   202_week8_day2_CUDA-code-chroma_vector_db_advanced_rag_pipeline.ipynb      3.40 MB\n",
            "   202_week8_day2_chroma_vector_db_advanced_rag_pipeline.ipynb      7.35 MB\n",
            "   205_week8_day2_test_RAG_pipeline.ipynb      380.54 KB\n",
            "\n",
            "================================================================================\n",
            "\n",
            "📊 Total size: 3.01 GB\n"
          ]
        }
      ],
      "source": [
        "import os\n",
        "\n",
        "data_folder = '/content/drive/MyDrive/01-LLM-ed-donner/build_multi_agent_system'\n",
        "\n",
        "def format_size(size_bytes):\n",
        "    \"\"\"Convert bytes to human readable format\"\"\"\n",
        "    for unit in ['B', 'KB', 'MB', 'GB']:\n",
        "        if size_bytes < 1024.0:\n",
        "            return f\"{size_bytes:.2f} {unit}\"\n",
        "        size_bytes /= 1024.0\n",
        "    return f\"{size_bytes:.2f} TB\"\n",
        "\n",
        "print(f\"\\n📂 Contents of: {data_folder}\\n\")\n",
        "print(\"=\" * 80)\n",
        "\n",
        "# Get all items in data folder\n",
        "items = os.listdir(data_folder)\n",
        "\n",
        "# Separate folders and files\n",
        "folders = []\n",
        "files = []\n",
        "\n",
        "for item in items:\n",
        "    full_path = os.path.join(data_folder, item)\n",
        "    if os.path.isdir(full_path):\n",
        "        folders.append(item)\n",
        "    else:\n",
        "        files.append(item)\n",
        "\n",
        "# Display folders first\n",
        "for folder in sorted(folders):\n",
        "    folder_path = os.path.join(data_folder, folder)\n",
        "    print(f\"\\n📁 {folder}/\")\n",
        "\n",
        "    # List items inside this folder\n",
        "    try:\n",
        "        sub_items = os.listdir(folder_path)\n",
        "        for sub_item in sorted(sub_items):\n",
        "            sub_path = os.path.join(folder_path, sub_item)\n",
        "            if os.path.isfile(sub_path):\n",
        "                size = os.path.getsize(sub_path)\n",
        "                print(f\"   📄 {sub_item:40s} {format_size(size):>12s}\")\n",
        "            else:\n",
        "                # It's a nested folder - show its contents too\n",
        "                print(f\"   📁 {sub_item}/\")\n",
        "                try:\n",
        "                    nested_items = os.listdir(sub_path)\n",
        "                    for nested_item in sorted(nested_items):\n",
        "                        nested_file_path = os.path.join(sub_path, nested_item)\n",
        "                        if os.path.isfile(nested_file_path):\n",
        "                            size = os.path.getsize(nested_file_path)\n",
        "                            print(f\"      📄 {nested_item:37s} {format_size(size):>12s}\")\n",
        "                except PermissionError:\n",
        "                    print(f\"      ⚠️  Permission denied\")\n",
        "    except PermissionError:\n",
        "        print(f\"   ⚠️  Permission denied\")\n",
        "\n",
        "# Display files in root data folder\n",
        "if files:\n",
        "    print(f\"\\n📄 Files in root:\")\n",
        "    for file in sorted(files):\n",
        "        file_path = os.path.join(data_folder, file)\n",
        "        size = os.path.getsize(file_path)\n",
        "        print(f\"   {file:40s} {format_size(size):>12s}\")\n",
        "\n",
        "print(\"\\n\" + \"=\" * 80)\n",
        "\n",
        "# Total size\n",
        "total_size = 0\n",
        "for root, dirs, files_list in os.walk(data_folder):\n",
        "    for file in files_list:\n",
        "        file_path = os.path.join(root, file)\n",
        "        total_size += os.path.getsize(file_path)\n",
        "\n",
        "print(f\"\\n📊 Total size: {format_size(total_size)}\")"
      ]
    },
    {
      "cell_type": "code",
      "execution_count": null,
      "metadata": {
        "id": "Hg83O4WKzaso"
      },
      "outputs": [],
      "source": []
    },
    {
      "cell_type": "code",
      "execution_count": null,
      "metadata": {
        "id": "vqj4u08CEm40"
      },
      "outputs": [],
      "source": []
    },
    {
      "cell_type": "markdown",
      "metadata": {
        "id": "k2qvanm_8qY0"
      },
      "source": [
        "## Copy dataset from Pickle file format to Colab VM for faster access"
      ]
    },
    {
      "cell_type": "markdown",
      "source": [
        " We can significantly speed up the data loading by first copying the entire data folder from Google Drive to the Colab VM's local, high-speed disk (/content/) before opening the files."
      ],
      "metadata": {
        "id": "OfqxlqrJPqum"
      }
    },
    {
      "cell_type": "code",
      "source": [
        "# Load the new pickle files (like the author does)\n",
        "print(\"=\"*70)\n",
        "print(\"LOADING NEW PICKLE FILES\")\n",
        "print(\"=\"*70)\n",
        "\n",
        "# --- START OPTIMIZATION ---\n",
        "\n",
        "# 1. Define the SOURCE path on Google Drive\n",
        "drive_data_folder = \"/content/drive/MyDrive/01-LLM-ed-donner/build_multi_agent_system/data/final_v_02\"\n",
        "\n",
        "# 2. Define the DESTINATION path on the local Colab disk\n",
        "local_data_folder = \"/content/final_data\"\n",
        "\n",
        "# 3. Use the 'cp -r' command to copy the entire folder from Drive to the local disk\n",
        "print(f\"Copying data from Google Drive to local disk ({local_data_folder})...\")\n",
        "!cp -r \"$drive_data_folder\" \"$local_data_folder\"\n",
        "print(\"✓ Copy complete.\")\n",
        "\n",
        "# 4. Update the 'data_folder' variable to point to the FAST, local path\n",
        "data_folder = local_data_folder\n",
        "\n",
        "# --- END OPTIMIZATION ---\n",
        "\n",
        "\n",
        "import os\n",
        "import pickle # Added to ensure pickle is defined\n",
        "\n",
        "# Load files from the FAST local disk\n",
        "with open(os.path.join(data_folder, \"train.pkl\"), 'rb') as file:\n",
        "    train = pickle.load(file)\n",
        "\n",
        "with open(os.path.join(data_folder, \"test.pkl\"), 'rb') as file:\n",
        "    test = pickle.load(file)\n",
        "\n",
        "\n",
        "print(f\"✓ Loaded train: {len(train)} items\")\n",
        "print(f\"✓ Loaded test: {len(test)} items\")"
      ],
      "metadata": {
        "colab": {
          "base_uri": "https://localhost:8080/"
        },
        "id": "ssx1lpgOPjhb",
        "outputId": "58384ef5-08ad-4a9f-fd49-c2aaa36ba274"
      },
      "execution_count": null,
      "outputs": [
        {
          "output_type": "stream",
          "name": "stdout",
          "text": [
            "======================================================================\n",
            "LOADING NEW PICKLE FILES\n",
            "======================================================================\n",
            "Copying data from Google Drive to local disk (/content/final_data)...\n",
            "✓ Copy complete.\n",
            "✓ Loaded train: 400000 items\n",
            "✓ Loaded test: 26934 items\n"
          ]
        }
      ]
    },
    {
      "cell_type": "code",
      "source": [],
      "metadata": {
        "id": "uO0elWbPPjkf"
      },
      "execution_count": null,
      "outputs": []
    },
    {
      "cell_type": "code",
      "execution_count": null,
      "metadata": {
        "id": "K7e4NKvZ7YeW"
      },
      "outputs": [],
      "source": []
    },
    {
      "cell_type": "markdown",
      "metadata": {
        "id": "xI07ui6tKJkA"
      },
      "source": [
        "## Looking into Train dataset"
      ]
    },
    {
      "cell_type": "code",
      "execution_count": null,
      "metadata": {
        "id": "lT_h_wrHEnAG"
      },
      "outputs": [],
      "source": []
    },
    {
      "cell_type": "code",
      "execution_count": null,
      "metadata": {
        "colab": {
          "base_uri": "https://localhost:8080/"
        },
        "id": "dLhZI3eONdCq",
        "outputId": "83196a57-f6f8-4824-e5a4-46f604a0ed48"
      },
      "outputs": [
        {
          "output_type": "execute_result",
          "data": {
            "text/plain": [
              "400000"
            ]
          },
          "metadata": {},
          "execution_count": 40
        }
      ],
      "source": [
        "len(train)"
      ]
    },
    {
      "cell_type": "code",
      "execution_count": null,
      "metadata": {
        "colab": {
          "base_uri": "https://localhost:8080/"
        },
        "id": "DNo2U5_mNdwm",
        "outputId": "76139e44-3a4b-4c99-cd7c-0f544f49b8f9"
      },
      "outputs": [
        {
          "output_type": "execute_result",
          "data": {
            "text/plain": [
              "<GASLAND Chef ES609MBN1 Single Wall Oven, 24\" Built-in Electric Wall Oven, 240V 3200W 2.3Cu.f Convection Wall Oven with Rotisserie, 9 Cooking Modes, Mechanical Knob Control, Transparent Window, Black = $569.99>"
            ]
          },
          "metadata": {},
          "execution_count": 41
        }
      ],
      "source": [
        "train[1]"
      ]
    },
    {
      "cell_type": "code",
      "execution_count": null,
      "metadata": {
        "colab": {
          "base_uri": "https://localhost:8080/",
          "height": 88
        },
        "id": "N96oMpv0EnDO",
        "outputId": "41794acd-ebf8-45bc-941d-c71e7b71efd1"
      },
      "outputs": [
        {
          "output_type": "execute_result",
          "data": {
            "text/plain": [
              "'How much does this cost to the nearest dollar?\\n\\nFront Strut Coil Spring Sway Bar Link Kit - 4 Piece - Compatible with 2010-2016 Cadillac SRX (without RPO Code F45)\\nFront Strut Coil Spring Sway Bar Link Kit 4 Piece Set - Compatible with 2010 - 2016 Cadillac SRXPosition  FrontNote  Front; without RPO Code F45  Real Time Damping Chassis ; Except RPO Code F45  Real Time Damping Chassis Quantity  4 Piece SetPackage Contents  Sway Bar LinksFeatures   - Matched Parts - Pre-AssembledCompatible With or Fits   - 2010 - 2016 Cadillac SRX Front; without RPO Code F45  Real Time Damping Chassis ; Except RPO Code F45  Real Time\\n\\nPrice is $269.00'"
            ],
            "application/vnd.google.colaboratory.intrinsic+json": {
              "type": "string"
            }
          },
          "metadata": {},
          "execution_count": 42
        }
      ],
      "source": [
        "train[0].prompt"
      ]
    },
    {
      "cell_type": "code",
      "execution_count": null,
      "metadata": {
        "id": "Hur-m5raEnGW"
      },
      "outputs": [],
      "source": []
    },
    {
      "cell_type": "code",
      "execution_count": null,
      "metadata": {
        "id": "Mf6wb1O3Fm6O"
      },
      "outputs": [],
      "source": [
        "def description(item):\n",
        "    text = item.prompt.replace(\"How much does this cost to the nearest dollar?\\n\\n\", \"\")\n",
        "    return text.split('\\n\\nPrice is $')[0]"
      ]
    },
    {
      "cell_type": "code",
      "execution_count": null,
      "metadata": {
        "colab": {
          "base_uri": "https://localhost:8080/",
          "height": 140
        },
        "id": "UYflOlDQFm9y",
        "outputId": "7ba6e754-1015-4533-f4ae-cbd480de13a3"
      },
      "outputs": [
        {
          "output_type": "execute_result",
          "data": {
            "text/plain": [
              "'Front Strut Coil Spring Sway Bar Link Kit - 4 Piece - Compatible with 2010-2016 Cadillac SRX (without RPO Code F45)\\nFront Strut Coil Spring Sway Bar Link Kit 4 Piece Set - Compatible with 2010 - 2016 Cadillac SRXPosition  FrontNote  Front; without RPO Code F45  Real Time Damping Chassis ; Except RPO Code F45  Real Time Damping Chassis Quantity  4 Piece SetPackage Contents  Sway Bar LinksFeatures   - Matched Parts - Pre-AssembledCompatible With or Fits   - 2010 - 2016 Cadillac SRX Front; without RPO Code F45  Real Time Damping Chassis ; Except RPO Code F45  Real Time'"
            ],
            "application/vnd.google.colaboratory.intrinsic+json": {
              "type": "string"
            }
          },
          "metadata": {},
          "execution_count": 14
        }
      ],
      "source": [
        "description(train[0])"
      ]
    },
    {
      "cell_type": "code",
      "execution_count": null,
      "metadata": {
        "id": "0JHx-GvPFnA5"
      },
      "outputs": [],
      "source": []
    },
    {
      "cell_type": "markdown",
      "metadata": {
        "id": "kw__eNedKFHl"
      },
      "source": [
        "## Looking into Test dataset"
      ]
    },
    {
      "cell_type": "code",
      "execution_count": null,
      "metadata": {
        "colab": {
          "base_uri": "https://localhost:8080/"
        },
        "id": "G7PNsNi48xye",
        "outputId": "58dea7a6-210a-471d-fd8a-f07a9de8e6cd"
      },
      "outputs": [
        {
          "output_type": "execute_result",
          "data": {
            "text/plain": [
              "26934"
            ]
          },
          "metadata": {},
          "execution_count": 44
        }
      ],
      "source": [
        "len(test)"
      ]
    },
    {
      "cell_type": "code",
      "execution_count": null,
      "metadata": {
        "colab": {
          "base_uri": "https://localhost:8080/"
        },
        "id": "T7eSo-vYEnJc",
        "outputId": "0679ecd5-e315-4ea0-c07b-939362db3996"
      },
      "outputs": [
        {
          "output_type": "execute_result",
          "data": {
            "text/plain": [
              "<Sony Dt 55-200mm F4-5.6 SAM SAL55200-2 - International Version (No Warranty) = $82.99>"
            ]
          },
          "metadata": {},
          "execution_count": 45
        }
      ],
      "source": [
        "test[0]"
      ]
    },
    {
      "cell_type": "code",
      "execution_count": null,
      "metadata": {
        "colab": {
          "base_uri": "https://localhost:8080/",
          "height": 88
        },
        "id": "_bn7CZzXEnMm",
        "outputId": "89e30609-0c1c-4a20-aa41-b96fd53717ff"
      },
      "outputs": [
        {
          "output_type": "execute_result",
          "data": {
            "text/plain": [
              "'How much does this cost to the nearest dollar?\\n\\nSony Dt 55-200mm F4-5.6 SAM SAL55200-2 - International Version (No Warranty)\\nThis is an international version  an international version item is a product not originally intended for sale in the U.S. Depending on the country of origin,, international versions of a product may differ from domestic versions in their default settings,, packaging,, AC adapters,, accessories,, Manufacturer warranties,, and other features. Lens  \"Product Dimensions\"  \"9 x 7 x 5 inches\",, \"Item Weight\"  \"10.8 ounces\",, \"Item model number\"  \"Is Discontinued By Manufacturer\"  \"No\",, \"Date First Available\"  \"September 13,, \"Manufacturer\"  \"Sony\",, \"Brand\"  \"Sony\",,\\n\\nPrice is $83.00'"
            ],
            "application/vnd.google.colaboratory.intrinsic+json": {
              "type": "string"
            }
          },
          "metadata": {},
          "execution_count": 46
        }
      ],
      "source": [
        "test[0].prompt"
      ]
    },
    {
      "cell_type": "code",
      "execution_count": null,
      "metadata": {
        "id": "SaI-C01f_5pn"
      },
      "outputs": [],
      "source": []
    },
    {
      "cell_type": "code",
      "execution_count": null,
      "metadata": {
        "id": "Hm4_utlmmvo6"
      },
      "outputs": [],
      "source": []
    },
    {
      "cell_type": "markdown",
      "source": [
        "# Below code is to create Vector database, but we are skipping below step as Vector databse already exist, created previosly"
      ],
      "metadata": {
        "id": "VLx11y0v7QvB"
      }
    },
    {
      "cell_type": "code",
      "execution_count": null,
      "metadata": {
        "colab": {
          "base_uri": "https://localhost:8080/"
        },
        "id": "9Zob3SlXFdfr",
        "outputId": "99ab0810-4813-4b45-95e9-14a36c62cd2d"
      },
      "outputs": [
        {
          "output_type": "stream",
          "name": "stdout",
          "text": [
            "✓ Collection 'products' created at /content/products_vectorstore\n"
          ]
        }
      ],
      "source": [
        "# import chromadb\n",
        "# import os\n",
        "\n",
        "# # Use the existing folder path from your Drive\n",
        "# DB = \"products_vectorstore\"\n",
        "# # db_path = \"/content/drive/MyDrive/01-LLM-ed-donner/build_multi_agent_system/products_vectorstore\"\n",
        "\n",
        "# # Use the Colab content directory for fast local storage\n",
        "# db_path = f\"/content/{DB}\"\n",
        "\n",
        "# # Create client\n",
        "# # Initializes the ChromaDB client. The use of PersistentClient means that all data added to the database will be saved to the specified db_path folder.\n",
        "# client = chromadb.PersistentClient(path=db_path)\n",
        "\n",
        "\n",
        "# # Check and delete collection if exists\n",
        "\n",
        "# # Sets the name of the vector collection i.e. \"products\"(similar to a table in a traditional database) that will store your product vectors.\n",
        "# collection_name = \"products\"\n",
        "\n",
        "# existing_collection_names = [collection.name for collection in client.list_collections()]\n",
        "\n",
        "\n",
        "# # Checks if the \"products\" collection is in the list of existing collections.If the collection \"products\" exists, it is permanently deleted.\n",
        "# if collection_name in existing_collection_names:\n",
        "#     client.delete_collection(collection_name)\n",
        "#     print(f\"Deleted old collection: {collection_name}\")\n",
        "\n",
        "# # Create collection\n",
        "# # Creates a new, empty vector collection named \"products\" and assigns the resulting collection object to the collection variable. This object is what you use to add, query, or delete vectors.\n",
        "# collection = client.create_collection(collection_name)\n",
        "# print(f\"✓ Collection '{collection_name}' created at {db_path}\")"
      ]
    },
    {
      "cell_type": "code",
      "execution_count": null,
      "metadata": {
        "id": "NaC9Hu_EOCDv"
      },
      "outputs": [],
      "source": []
    },
    {
      "cell_type": "markdown",
      "source": [
        "Certainly. This single list comprehension line is a very efficient and Pythonic way to perform a two-step operation on the ChromaDB client: **retrieve data** and then **extract a specific attribute** from that data.\n",
        "\n",
        "The line you're asking about is:\n",
        "\n",
        "```python\n",
        "existing_collection_names = [collection.name for collection in client.list_collections()]\n",
        "```\n",
        "\n",
        "-----\n",
        "\n",
        "## Detailed Breakdown\n",
        "\n",
        "This code is equivalent to a short loop, and it breaks down into two main parts:\n",
        "\n",
        "### 1\\. The Function Call: `client.list_collections()`\n",
        "\n",
        "  * **Action:** When you call `client.list_collections()`, the ChromaDB client connects to the underlying database (which, in your case, is the persistent file store on the local Colab disk).\n",
        "  * **Output:** This function returns a **list of collection objects**. Each object in this list is a structured container representing a collection currently stored in the database.\n",
        "  * **Example Output (Conceptual):** The client doesn't return names directly; it returns structured objects. Imagine the output looks conceptually like this:\n",
        "    ```\n",
        "    [\n",
        "        <chromadb.api.models.Collection(id=uuid1, name='products', count=40000)>,\n",
        "        <chromadb.api.models.Collection(id=uuid2, name='temp_vectors', count=100)>\n",
        "    ]\n",
        "    ```\n",
        "\n",
        "### 2\\. The List Comprehension: `[collection.name for collection in ...]`\n",
        "\n",
        "The list comprehension iterates over the list of collection objects returned in the previous step and extracts only the name.\n",
        "\n",
        "| Part of Code | Python's Action | Resulting Value (for one collection) |\n",
        "| :--- | :--- | :--- |\n",
        "| `for collection in ...` | Python iterates through the list of collection objects returned by `list_collections()`. | The variable `collection` temporarily holds one collection object at a time. |\n",
        "| `collection.name` | Python accesses the `.name` attribute (the string name) of the current collection object. | `'products'` or `'temp_vectors'` |\n",
        "| `[...]` | Python adds the extracted name to the new list, `existing_collection_names`. | `['products', 'temp_vectors']` |\n",
        "\n",
        "## Summary\n",
        "\n",
        "The entire operation efficiently transforms the complex list of ChromaDB collection objects into a simple, flat list of strings, making it easy to check if your desired collection name (`\"products\"`) exists using the standard Python `in` operator."
      ],
      "metadata": {
        "id": "2N_93wKYwAHv"
      }
    },
    {
      "cell_type": "code",
      "source": [],
      "metadata": {
        "id": "ZCmrVhd9v_KY"
      },
      "execution_count": null,
      "outputs": []
    },
    {
      "cell_type": "code",
      "source": [],
      "metadata": {
        "id": "V1D-PIksv_OB"
      },
      "execution_count": null,
      "outputs": []
    },
    {
      "cell_type": "markdown",
      "source": [
        "You want to update the previous code to use the specific Google Drive path shown in the image when defining the source and destination for saving/loading the vector database.\n",
        "\n",
        "Here is the updated code snippet for **saving (copying)** the vector database from the fast local Colab disk back to your Google Drive path.\n",
        "\n",
        "-----\n",
        "\n",
        "## Updated Code to Save to Google Drive\n",
        "\n",
        "This code assumes you have successfully created your vector database in the local Colab folder: `/content/products_vectorstore`. It ensures the final, permanent copy is saved to the location shown in your image.\n",
        "\n",
        "```python\n",
        "# 1. Define the source (local Colab disk) and destination (Google Drive) paths\n",
        "\n",
        "# The vector database folder created during the session\n",
        "local_db_folder = \"/content/products_vectorstore\"\n",
        "\n",
        "# The precise Google Drive folder path from your image:\n",
        "# 'My Drive > 01-LLM-ed-donner > build_multi_agent_system'\n",
        "# We are copying the 'products_vectorstore' folder INTO this directory.\n",
        "drive_db_destination = \"/content/drive/MyDrive/01-LLM-ed-donner/build_multi_agent_system/\"\n",
        "\n",
        "print(\"=\"*70)\n",
        "print(\"SAVING VECTOR DATABASE from local disk to Google Drive...\")\n",
        "print(f\"Source: {local_db_folder}\")\n",
        "print(f\"Destination: {drive_db_destination}\")\n",
        "print(\"=\"*70)\n",
        "\n",
        "# 2. Use the 'cp -r' command to copy the entire folder\n",
        "# This will overwrite the existing 'products_vectorstore' folder in your Drive path\n",
        "!cp -r \"$local_db_folder\" \"$drive_db_destination\"\n",
        "\n",
        "print(\"✓ Database saved permanently to Google Drive.\")\n",
        "```\n",
        "\n",
        "-----\n",
        "\n",
        "## How to Reuse the Database (Loading in a New Session)\n",
        "\n",
        "For completeness, here is the corresponding code you would use in a **new Colab session** to quickly load the saved database back to the fast local disk:\n",
        "\n",
        "```python\n",
        "import chromadb\n",
        "# 1. Define paths\n",
        "\n",
        "# The precise Google Drive folder path where the database is stored\n",
        "drive_db_source = \"/content/drive/MyDrive/01-LLM-ed-donner/build_multi_agent_system/products_vectorstore\"\n",
        "\n",
        "# The fast local disk path for operation\n",
        "local_db_path = \"/content/products_vectorstore\"\n",
        "\n",
        "# 2. Copy the database from Drive to the local disk\n",
        "print(\"Loading database from Drive to local disk for fast access...\")\n",
        "# We copy the source folder INTO /content/\n",
        "!cp -r \"$drive_db_source\" /content/\n",
        "print(\"✓ Load complete.\")\n",
        "\n",
        "# 3. Create ChromaDB Client connected to the local copy\n",
        "client = chromadb.PersistentClient(path=local_db_path)\n",
        "\n",
        "# You can now retrieve the collection and use it instantly\n",
        "collection = client.get_or_create_collection('products')\n",
        "print(\"Client connected to the fast local copy.\")\n",
        "print(f\"Collection count: {collection.count()} items\")\n",
        "```\n",
        "\n",
        "# cp vector database to colab VM for faster performance"
      ],
      "metadata": {
        "id": "QNpY-ba0H85t"
      }
    },
    {
      "cell_type": "code",
      "source": [
        "import chromadb\n",
        "# 1. Define paths\n",
        "\n",
        "# The precise Google Drive folder path where the database is stored\n",
        "drive_db_source = \"/content/drive/MyDrive/01-LLM-ed-donner/build_multi_agent_system/products_vectorstore\"\n",
        "\n",
        "# The fast local disk path for operation\n",
        "local_db_path = \"/content/products_vectorstore\"\n",
        "\n",
        "# 2. Copy the database from Drive to the local disk\n",
        "print(\"Loading database from Drive to local disk for fast access...\")\n",
        "# We copy the source folder INTO /content/\n",
        "!cp -r \"$drive_db_source\" /content/\n",
        "print(\"✓ Load complete.\")\n",
        "\n",
        "# 3. Create ChromaDB Client connected to the local copy\n",
        "client = chromadb.PersistentClient(path=local_db_path)\n",
        "\n",
        "# You can now retrieve the collection and use it instantly\n",
        "collection = client.get_or_create_collection('products')\n",
        "print(\"Client connected to the fast local copy.\")\n",
        "print(f\"Collection count: {collection.count()} items\")"
      ],
      "metadata": {
        "id": "PyLmEb1Pv_Ri",
        "colab": {
          "base_uri": "https://localhost:8080/"
        },
        "outputId": "59fafa7f-fd19-416d-c9e1-b20825fa5d39"
      },
      "execution_count": null,
      "outputs": [
        {
          "output_type": "stream",
          "name": "stdout",
          "text": [
            "Loading database from Drive to local disk for fast access...\n",
            "✓ Load complete.\n",
            "Client connected to the fast local copy.\n",
            "Collection count: 400000 items\n"
          ]
        }
      ]
    },
    {
      "cell_type": "code",
      "execution_count": null,
      "metadata": {
        "id": "7GSujZYGFdl4"
      },
      "outputs": [],
      "source": []
    },
    {
      "cell_type": "markdown",
      "metadata": {
        "id": "D8p6L8txUh4v"
      },
      "source": [
        "**SentenceTransformer Tokenizer & Embeddings:**\n",
        "\n",
        "**Tokenizer:**\n",
        "- Converts text → token IDs (integers)\n",
        "- Uses BERT-style tokenization (WordPiece)\n",
        "- Max length: typically 512 tokens\n",
        "- Adds special tokens: `[CLS]`, `[SEP]`\n",
        "\n",
        "**Dimensions:**\n",
        "- Popular models:\n",
        "  - `all-MiniLM-L6-v2`: **384 dimensions**\n",
        "  - `all-mpnet-base-v2`: **768 dimensions**\n",
        "  - `multi-qa-mpnet-base`: **768 dimensions**\n",
        "\n",
        "**Dense Vector:**\n",
        "- Single continuous vector representing entire sentence\n",
        "- Example: `[0.23, -0.45, 0.89, ..., 0.12]` (384 or 768 floats)\n",
        "- Each dimension captures semantic meaning\n",
        "- Used for similarity: cosine similarity between vectors\n",
        "\n",
        "**Quick example:**\n",
        "```python\n",
        "from sentence_transformers import SentenceTransformer\n",
        "\n",
        "model = SentenceTransformer('all-MiniLM-L6-v2')\n",
        "embedding = model.encode(\"Hello world\")\n",
        "\n",
        "print(embedding.shape)  # (384,)\n",
        "print(type(embedding))  # numpy array\n",
        "```\n",
        "\n",
        "Dense = all values are meaningful (vs sparse where most are 0).\n",
        "\n",
        "\n",
        "** Each **sentence/text** gets ONE 384-dim embedding, not each word.\n",
        "\n",
        "**Key difference:**\n",
        "\n",
        "**SentenceTransformer:**\n",
        "- Input: \"Hello world\"\n",
        "- Output: **ONE vector** [0.23, -0.45, ..., 0.12] (384 dims)\n",
        "- Represents the **entire sentence**\n",
        "\n",
        "**Word embeddings (Word2Vec, GloVe):**\n",
        "- Input: \"Hello world\"\n",
        "- Output: **TWO vectors**\n",
        "  - \"Hello\" → [0.1, 0.2, ...]\n",
        "  - \"world\" → [0.3, 0.4, ...]\n",
        "- Each word gets its own vector\n",
        "\n",
        "**Example:**\n",
        "```python\n",
        "model = SentenceTransformer('all-MiniLM-L6-v2')\n",
        "\n",
        "text = \"This is a long sentence with many words\"\n",
        "embedding = model.encode(text)\n",
        "\n",
        "print(embedding.shape)  # (384,) - ONE vector for entire text\n",
        "```\n",
        "\n",
        "Doesn't matter if 5 words or 100 words → always ONE 384-dim vector."
      ]
    },
    {
      "cell_type": "code",
      "execution_count": null,
      "metadata": {
        "id": "e1qSOgBzWk8G"
      },
      "outputs": [],
      "source": []
    },
    {
      "cell_type": "code",
      "execution_count": null,
      "metadata": {
        "id": "NVr0Nz5iWn5n"
      },
      "outputs": [],
      "source": []
    },
    {
      "cell_type": "code",
      "execution_count": null,
      "metadata": {
        "id": "00y-fz7LUg7r"
      },
      "outputs": [],
      "source": [
        "# Load model on GPU\n",
        "device = 'cuda' if torch.cuda.is_available() else 'cpu'\n",
        "model_sentence_transformer = SentenceTransformer('all-MiniLM-L6-v2', device=device)"
      ]
    },
    {
      "cell_type": "code",
      "execution_count": null,
      "metadata": {
        "id": "hbpZr3ztVlyX"
      },
      "outputs": [],
      "source": []
    },
    {
      "cell_type": "code",
      "execution_count": null,
      "metadata": {
        "colab": {
          "base_uri": "https://localhost:8080/"
        },
        "id": "OjRi7NZfV1aw",
        "outputId": "19de3e05-bd68-43e4-f3c9-827b948da7e1"
      },
      "outputs": [
        {
          "output_type": "execute_result",
          "data": {
            "text/plain": [
              "<Front Strut Coil Spring Sway Bar Link Kit - 4 Piece - Compatible with 2010-2016 Cadillac SRX (without RPO Code F45) = $268.95>"
            ]
          },
          "metadata": {},
          "execution_count": 110
        }
      ],
      "source": [
        "train[0]"
      ]
    },
    {
      "cell_type": "code",
      "execution_count": null,
      "metadata": {
        "colab": {
          "base_uri": "https://localhost:8080/",
          "height": 88
        },
        "id": "0GTKWMfNV1eE",
        "outputId": "16b321e9-2301-4b0a-f2e6-806efd76de95"
      },
      "outputs": [
        {
          "output_type": "execute_result",
          "data": {
            "text/plain": [
              "'How much does this cost to the nearest dollar?\\n\\nFront Strut Coil Spring Sway Bar Link Kit - 4 Piece - Compatible with 2010-2016 Cadillac SRX (without RPO Code F45)\\nFront Strut Coil Spring Sway Bar Link Kit 4 Piece Set - Compatible with 2010 - 2016 Cadillac SRXPosition  FrontNote  Front; without RPO Code F45  Real Time Damping Chassis ; Except RPO Code F45  Real Time Damping Chassis Quantity  4 Piece SetPackage Contents  Sway Bar LinksFeatures   - Matched Parts - Pre-AssembledCompatible With or Fits   - 2010 - 2016 Cadillac SRX Front; without RPO Code F45  Real Time Damping Chassis ; Except RPO Code F45  Real Time\\n\\nPrice is $269.00'"
            ],
            "application/vnd.google.colaboratory.intrinsic+json": {
              "type": "string"
            }
          },
          "metadata": {},
          "execution_count": 111
        }
      ],
      "source": [
        "train[0].prompt"
      ]
    },
    {
      "cell_type": "code",
      "execution_count": null,
      "metadata": {
        "id": "2n0_JW4b65Cs"
      },
      "outputs": [],
      "source": []
    },
    {
      "cell_type": "code",
      "execution_count": null,
      "metadata": {
        "id": "z-_80-7sV1hD"
      },
      "outputs": [],
      "source": [
        "def description(item):\n",
        "  text = item.prompt.replace(\"How much does this cost to the nearest dollar?\\n\\n\", \"\")\n",
        "  return text.split(\"\\n\\nPrice is $\")[0]"
      ]
    },
    {
      "cell_type": "code",
      "execution_count": null,
      "metadata": {
        "colab": {
          "base_uri": "https://localhost:8080/",
          "height": 88
        },
        "id": "ZfEFOTCGV1mi",
        "outputId": "387af623-2ef2-4bdc-cffe-cb97a0d0a54f"
      },
      "outputs": [
        {
          "output_type": "execute_result",
          "data": {
            "text/plain": [
              "'Front Strut Coil Spring Sway Bar Link Kit - 4 Piece - Compatible with 2010-2016 Cadillac SRX (without RPO Code F45)\\nFront Strut Coil Spring Sway Bar Link Kit 4 Piece Set - Compatible with 2010 - 2016 Cadillac SRXPosition  FrontNote  Front; without RPO Code F45  Real Time Damping Chassis ; Except RPO Code F45  Real Time Damping Chassis Quantity  4 Piece SetPackage Contents  Sway Bar LinksFeatures   - Matched Parts - Pre-AssembledCompatible With or Fits   - 2010 - 2016 Cadillac SRX Front; without RPO Code F45  Real Time Damping Chassis ; Except RPO Code F45  Real Time'"
            ],
            "application/vnd.google.colaboratory.intrinsic+json": {
              "type": "string"
            }
          },
          "metadata": {},
          "execution_count": 113
        }
      ],
      "source": [
        "# note we just get the desription of the product\n",
        "# note - vector database below we are cearting will have only description of products. note No Price of item.\n",
        "description(train[0])"
      ]
    },
    {
      "cell_type": "code",
      "execution_count": null,
      "metadata": {
        "id": "2lDi61kfV1pb"
      },
      "outputs": [],
      "source": []
    },
    {
      "cell_type": "code",
      "source": [],
      "metadata": {
        "id": "4o3Dmrhr7Yn7"
      },
      "execution_count": null,
      "outputs": []
    },
    {
      "cell_type": "code",
      "source": [],
      "metadata": {
        "id": "lulyL3T_7eSg"
      },
      "execution_count": null,
      "outputs": []
    },
    {
      "cell_type": "markdown",
      "source": [
        "## Python Function for Generating Product Context\n",
        "\n",
        "```python\n",
        "def make_context(similars, prices):\n",
        "    message = \"To provide some context, here are some other items that might be similar to the item you need to estimate.\\n\\n\"\n",
        "    for similar, price in zip(similars, prices):\n",
        "        message += f\"Potentially related product:\\n{similar}\\nPrice is ${price:.2f}\\n\\n\"\n",
        "    return message\n",
        "```\n",
        "\n",
        "-----\n",
        "\n",
        "## Code Explanation\n",
        "\n",
        "This Python code defines a function called `make_context` that takes two lists as input: `similars` (a list of product names or descriptions) and `prices` (a corresponding list of prices for those products). Its purpose is to create a formatted text string that lists these similar items and their prices to provide contextual information.\n",
        "\n",
        "### Components\n",
        "\n",
        "1.  **Function Definition:** `def make_context(similars, prices):` defines the function which accepts two arguments, presumably lists of the same length.\n",
        "2.  **Initialization:** `message = \"To provide some context, here are some other items that might be similar to the item you need to estimate.\\n\\n\"` initializes the output string with a standard introductory sentence, followed by two newline characters (`\\n\\n`) for spacing.\n",
        "3.  **Iteration:** `for similar, price in zip(similars, prices):` iterates through both the `similars` and `prices` lists simultaneously using the `zip()` function. In each iteration, it assigns a product name/description to `similar` and its price to `price`.\n",
        "4.  **String Concatenation:** `message += f\"Potentially related product:\\n{similar}\\nPrice is ${price:.2f}\\n\\n\"` appends (adds to) the `message` string in each loop.\n",
        "      * It uses an **f-string** for formatting.\n",
        "      * `\\n` inserts a newline for better readability.\n",
        "      * `{price:.2f}` formats the price to always show **two decimal places** (standard currency format).\n",
        "5.  **Return Value:** `return message` outputs the final, formatted string containing the initial context statement followed by the list of similar products and their prices."
      ],
      "metadata": {
        "id": "xGo3NcHr8hNI"
      }
    },
    {
      "cell_type": "code",
      "source": [
        "def make_context(similars, prices):\n",
        "    message = \"To provide some context, here are some other items that might be similar to the item you need to estimate.\\n\\n\"\n",
        "    for similar, price in zip(similars, prices):\n",
        "        message += f\"Potentially related product:\\n{similar}\\nPrice is ${price:.2f}\\n\\n\"\n",
        "    return message"
      ],
      "metadata": {
        "id": "jMvusKkB8YHP"
      },
      "execution_count": null,
      "outputs": []
    },
    {
      "cell_type": "code",
      "source": [],
      "metadata": {
        "id": "UQ0KY3UK8YLR"
      },
      "execution_count": null,
      "outputs": []
    },
    {
      "cell_type": "code",
      "source": [],
      "metadata": {
        "id": "dHmKLvIq8YN_"
      },
      "execution_count": null,
      "outputs": []
    },
    {
      "cell_type": "markdown",
      "source": [
        "## Python Function for Creating Contextual Price Estimation Messages\n",
        "\n",
        "```python\n",
        "def messages_for(item, similars, prices):\n",
        "    system_message = \"You estimate prices of items. Reply only with the price, no explanation\"\n",
        "    user_prompt = make_context(similars, prices)\n",
        "    user_prompt += \"\\nAnd now the question for you:\\n\\n\"\n",
        "    user_prompt += item.test_prompt().replace(\" to the nearest dollar\", \"\").replace(\"\\n\\nPrice is $\", \"\")\n",
        "    return [\n",
        "        {\"role\": \"system\", \"content\": system_message},\n",
        "        {\"role\": \"user\", \"content\": user_prompt},\n",
        "        {\"role\": \"assistant\", \"content\": \"Price is $\"}\n",
        "    ]\n",
        "```\n",
        "\n",
        "-----\n",
        "\n",
        "## Code Explanation\n",
        "\n",
        "The Python code defines a function named `messages_for` which is designed to construct a structured list of messages, likely for use with a **conversational AI model** (like a large language model). This setup provides the model with context to estimate the price of a target item.\n",
        "\n",
        "### Components\n",
        "\n",
        "1.  **Function Definition:** `def messages_for(item, similars, prices):` accepts three arguments:\n",
        "      * `item`: An object (or similar structure) representing the item whose price needs to be estimated.\n",
        "      * `similars`: A list of similar product names/descriptions.\n",
        "      * `prices`: A list of corresponding prices for the similar products.\n",
        "2.  **`system_message`:** `system_message = \"You estimate prices of items. Reply only with the price, no explanation\"` sets the instructions for the AI model, telling it its role is to estimate prices and specifying the desired output format (price only).\n",
        "3.  **Context Generation:** `user_prompt = make_context(similars, prices)` calls a presumed external function (`make_context`, as seen in the previous example) to generate the introductory text listing the similar products and their prices. This provides the AI with **contextual data**.\n",
        "4.  **Prompt Construction:**\n",
        "      * `user_prompt += \"\\nAnd now the question for you:\\n\\n\"` adds a transition phrase to separate the context from the question.\n",
        "      * `user_prompt += item.test_prompt().replace(\" to the nearest dollar\", \"\").replace(\"\\n\\nPrice is $\", \"\")` appends the actual question about the target item's price.\n",
        "          * It retrieves the question text using `item.test_prompt()`.\n",
        "          * It then cleans up the question by using the **`.replace()`** method twice to remove specific phrases: `\" to the nearest dollar\"` and `\"\\\\n\\\\nPrice is $\"` (which might be included in the original prompt template).\n",
        "5.  **Return Value (Message List):** The function returns a **list of dictionaries**, which is the standard format for passing conversation history or prompt segments to many modern AI APIs:\n",
        "      * **`{\"role\": \"system\", \"content\": system_message}`:** Sets the overall behavior and constraints for the model.\n",
        "      * **`{\"role\": \"user\", \"content\": user_prompt}`:** Contains the full prompt and context generated for the model to process.\n",
        "      * **`{\"role\": \"assistant\", \"content\": \"Price is $\"}`:** Provides a **partial start to the AI's expected response**, priming it to output only the dollar amount immediately following \"Price is $\" (due to the strict instructions in the system message)."
      ],
      "metadata": {
        "id": "z49A2wx886Rx"
      }
    },
    {
      "cell_type": "code",
      "source": [
        "def messages_for(item, similars, prices):\n",
        "    system_message = \"You estimate prices of items. Reply only with the price, no explanation\"\n",
        "    user_prompt = make_context(similars, prices)\n",
        "    user_prompt += \"\\nAnd now the question for you:\\n\\n\"\n",
        "    user_prompt += item.test_prompt().replace(\" to the nearest dollar\", \"\").replace(\"\\n\\nPrice is $\", \"\")\n",
        "    return [\n",
        "        {\"role\": \"system\", \"content\": system_message},\n",
        "        {\"role\": \"user\", \"content\": user_prompt},\n",
        "        {\"role\": \"assistant\", \"content\": \"Price is $\"}\n",
        "    ]"
      ],
      "metadata": {
        "id": "Orx4DEnL81S9"
      },
      "execution_count": null,
      "outputs": []
    },
    {
      "cell_type": "code",
      "source": [],
      "metadata": {
        "id": "2CjO7VWx81Xd"
      },
      "execution_count": null,
      "outputs": []
    },
    {
      "cell_type": "code",
      "source": [],
      "metadata": {
        "id": "ys-k6JmD81aW"
      },
      "execution_count": null,
      "outputs": []
    },
    {
      "cell_type": "code",
      "source": [
        "def description(item):\n",
        "    text = item.prompt.replace(\"How much does this cost to the nearest dollar?\\n\\n\", \"\")\n",
        "    return text.split('\\n\\nPrice is $')[0]"
      ],
      "metadata": {
        "id": "-XVp8Ix981dU"
      },
      "execution_count": null,
      "outputs": []
    },
    {
      "cell_type": "code",
      "source": [
        "test[0]"
      ],
      "metadata": {
        "colab": {
          "base_uri": "https://localhost:8080/"
        },
        "id": "KuqsUNe781gJ",
        "outputId": "3f359282-4918-4407-da5e-da1397e982d7"
      },
      "execution_count": null,
      "outputs": [
        {
          "output_type": "execute_result",
          "data": {
            "text/plain": [
              "<Sony Dt 55-200mm F4-5.6 SAM SAL55200-2 - International Version (No Warranty) = $82.99>"
            ]
          },
          "metadata": {},
          "execution_count": 118
        }
      ]
    },
    {
      "cell_type": "code",
      "source": [
        "test[0].prompt"
      ],
      "metadata": {
        "colab": {
          "base_uri": "https://localhost:8080/",
          "height": 88
        },
        "id": "_HYOWChj8YR7",
        "outputId": "882aaf5f-e10c-4a44-b5d3-00a454bb3811"
      },
      "execution_count": null,
      "outputs": [
        {
          "output_type": "execute_result",
          "data": {
            "text/plain": [
              "'How much does this cost to the nearest dollar?\\n\\nSony Dt 55-200mm F4-5.6 SAM SAL55200-2 - International Version (No Warranty)\\nThis is an international version  an international version item is a product not originally intended for sale in the U.S. Depending on the country of origin,, international versions of a product may differ from domestic versions in their default settings,, packaging,, AC adapters,, accessories,, Manufacturer warranties,, and other features. Lens  \"Product Dimensions\"  \"9 x 7 x 5 inches\",, \"Item Weight\"  \"10.8 ounces\",, \"Item model number\"  \"Is Discontinued By Manufacturer\"  \"No\",, \"Date First Available\"  \"September 13,, \"Manufacturer\"  \"Sony\",, \"Brand\"  \"Sony\",,\\n\\nPrice is $83.00'"
            ],
            "application/vnd.google.colaboratory.intrinsic+json": {
              "type": "string"
            }
          },
          "metadata": {},
          "execution_count": 119
        }
      ]
    },
    {
      "cell_type": "code",
      "source": [],
      "metadata": {
        "id": "3Evep4tG8YUn"
      },
      "execution_count": null,
      "outputs": []
    },
    {
      "cell_type": "code",
      "source": [
        "description(test[0])"
      ],
      "metadata": {
        "colab": {
          "base_uri": "https://localhost:8080/",
          "height": 88
        },
        "id": "81iwjYKF-B_c",
        "outputId": "bad8f832-5e4c-4682-e962-2fdd7ecf6304"
      },
      "execution_count": null,
      "outputs": [
        {
          "output_type": "execute_result",
          "data": {
            "text/plain": [
              "'Sony Dt 55-200mm F4-5.6 SAM SAL55200-2 - International Version (No Warranty)\\nThis is an international version  an international version item is a product not originally intended for sale in the U.S. Depending on the country of origin,, international versions of a product may differ from domestic versions in their default settings,, packaging,, AC adapters,, accessories,, Manufacturer warranties,, and other features. Lens  \"Product Dimensions\"  \"9 x 7 x 5 inches\",, \"Item Weight\"  \"10.8 ounces\",, \"Item model number\"  \"Is Discontinued By Manufacturer\"  \"No\",, \"Date First Available\"  \"September 13,, \"Manufacturer\"  \"Sony\",, \"Brand\"  \"Sony\",,'"
            ],
            "application/vnd.google.colaboratory.intrinsic+json": {
              "type": "string"
            }
          },
          "metadata": {},
          "execution_count": 120
        }
      ]
    },
    {
      "cell_type": "code",
      "source": [],
      "metadata": {
        "id": "JiYARL3L-CD2"
      },
      "execution_count": null,
      "outputs": []
    },
    {
      "cell_type": "code",
      "source": [],
      "metadata": {
        "id": "WA6VY4TD-CGv"
      },
      "execution_count": null,
      "outputs": []
    },
    {
      "cell_type": "markdown",
      "source": [
        "## Python Function for Item Vectorization\n",
        "\n",
        "```python\n",
        "def vector(item):\n",
        "    return model.encode([description(item)])\n",
        "```\n",
        "\n",
        "-----\n",
        "\n",
        "## Code Explanation\n",
        "\n",
        "This concise Python function, **`vector(item)`**, is designed to generate a **vector representation** (or **embedding**) for a given item, a common task in machine learning and information retrieval.\n",
        "\n",
        "### Components\n",
        "\n",
        "1.  **Function Definition:** `def vector(item):` defines the function that accepts a single argument, **`item`**, which represents the object or data structure whose description is to be vectorized.\n",
        "2.  **Description Extraction:** `description(item)` is a call to another function (presumed to be defined elsewhere) that extracts the relevant textual **description** from the input `item`.\n",
        "3.  **Encoding/Vectorization:** `model.encode(...)` is the core operation.\n",
        "      * **`model`** is a presumed external object (likely an instance of a pre-trained **transformer model** or sentence embedding model like S-BERT, or a similar embedding framework).\n",
        "      * The `description(item)` is passed inside a **list** (`[...]`) to the `encode` method, as these models often expect a list of strings (even if it's a list with only one string) as input.\n",
        "      * The `encode` method processes the text and converts it into a **dense numerical vector** (an array of numbers) that captures the semantic meaning of the description.\n",
        "4.  **Return Value:** The function \\*\\*`return`\\*\\*s this generated vector, which is used to represent the item in a high-dimensional space where items with similar meanings are mapped closer together.\n",
        "\n",
        "\n",
        "That function snippet, **`def description(item):`**, is designed to extract a clean item description from a text field within an `item` object, specifically by stripping away common prompt and price components often used in price estimation tasks.\n",
        "\n",
        "Here is the function converted to text and added to the documentation, with a complete explanation and concise title.\n",
        "\n",
        "-----\n",
        "\n",
        "## Python Function for Item Description Extraction\n",
        "\n",
        "```python\n",
        "def description(item):\n",
        "    text = item.prompt.replace(\"How much does this cost to the nearest dollar?\\n\\n\", \"\")\n",
        "    return text.split('\\n\\nPrice is $')[0]\n",
        "```\n",
        "\n",
        "*(Note: I've corrected a likely syntax error in the original prompt's function by removing the trailing dot (`.`) after `[0]`.)*\n",
        "\n",
        "-----\n",
        "\n",
        "## Code Explanation\n",
        "\n",
        "This function, **`description(item)`**, takes an `item` object (likely a structured data type used in a machine learning or data pipeline) and isolates the core textual description of the product from a larger formatted prompt string.\n",
        "\n",
        "### Components\n",
        "\n",
        "1.  **Function Definition:** `def description(item):` defines the function, accepting one argument, **`item`**, which is explained below to have a property or attribute named `prompt`.\n",
        "2.  **Removing the Question:**\n",
        "      * `text = item.prompt.replace(\"How much does this cost to the nearest dollar?\\n\\n\", \"\")` accesses the full prompt text via `item.prompt`.\n",
        "      * It then uses the **`.replace()`** method to find and remove a specific question string, `\"How much does this cost to the nearest dollar?\\n\\n\"`, from the beginning of the prompt. This leaves the item's description potentially followed by price placeholders or other cleanup text.\n",
        "3.  **Splitting and Isolating the Description:**\n",
        "      * `return text.split('\\n\\nPrice is $')[0]` performs the final cleanup and extraction.\n",
        "      * The **`.split()`** method divides the remaining `text` string into a list of substrings, using the phrase `'\\n\\nPrice is $'` as the delimiter. This phrase is often found *after* the description and *before* the price value in many datasets.\n",
        "      * By selecting the first element of the resulting list (`[0]`), the function isolates and returns **only the text that precedes** the price placeholder, which is the clean product description itself.\n",
        "\n",
        "This function is essential for the `vector(item)` function (previously documented), as it ensures that the model only encodes the semantic information of the item description and not the extraneous prompt or price template text."
      ],
      "metadata": {
        "id": "ibavJtjo-Zzs"
      }
    },
    {
      "cell_type": "code",
      "source": [
        "def vector(item):\n",
        "    return model_sentence_transformer.encode([description(item)])"
      ],
      "metadata": {
        "id": "0yuv74Us-CJs"
      },
      "execution_count": null,
      "outputs": []
    },
    {
      "cell_type": "code",
      "source": [],
      "metadata": {
        "id": "xPMjJoos-CMj"
      },
      "execution_count": null,
      "outputs": []
    },
    {
      "cell_type": "markdown",
      "source": [
        "## Python Function for Finding Similar Items\n",
        "\n",
        "```python\n",
        "def find_similars(item):\n",
        "    results = collection.query(query_embeddings=vector(item).astype(float).tolist(), n_results=5)\n",
        "    documents = results['documents'][0][:]\n",
        "    prices = [m['price'] for m in results['metadatas'][0][:]]\n",
        "    return documents, prices\n",
        "```\n",
        "\n",
        "-----\n",
        "\n",
        "## Code Explanation\n",
        "\n",
        "This Python function, **`find_similars(item)`**, is designed to query a vector database (represented by `collection`) to find items that are semantically similar to a given **`item`** and retrieve their descriptions and prices. This is a common operation in recommendation systems or context generation tasks.\n",
        "\n",
        "### Components\n",
        "\n",
        "1.  **Function Definition:** `def find_similars(item):` defines the function that takes one argument, the target **`item`**.\n",
        "2.  **Vector Query and Retrieval:**\n",
        "      * `results = collection.query(...)` executes a similarity search against the **`collection`** object (which is an assumed vector store or database).\n",
        "      * **`query_embeddings=vector(item).astype(float).tolist()`:** This is the search query. It first calls the presumed **`vector(item)`** function (as seen in previous examples) to get the numerical embedding (vector) of the target item. It then ensures the vector's data type is **`float`** and converts it to a standard Python **`list`** format, which is required for the query.\n",
        "      * **`n_results=5`:** Specifies that the search should return the **top 5** most similar items found in the collection.\n",
        "3.  **Extracting Documents (Item Descriptions):**\n",
        "      * `documents = results['documents'][0][:]` extracts the list of retrieved document strings (the descriptions of the similar items) from the query `results`.\n",
        "      * The results are structured: `results['documents']` is a list where the first element (`[0]`) is the list of documents corresponding to the first query (since only one query vector was provided).\n",
        "4.  **Extracting Prices (Metadata):**\n",
        "      * `prices = [m['price'] for m in results['metadatas'][0][:]]` uses a **list comprehension** to extract the price for each similar item.\n",
        "      * The `results['metadatas']` key holds a list of dictionaries associated with each document.\n",
        "      * It iterates through the metadata dictionaries in the first result set (`results['metadatas'][0]`) and retrieves the value associated with the key **`'price'`** for each one.\n",
        "5.  **Return Value:** `return documents, prices` returns two lists:\n",
        "      * **`documents`**: A list of descriptions for the 5 most similar items.\n",
        "      * **`prices`**: A list of the corresponding prices for those similar items."
      ],
      "metadata": {
        "id": "o2j9R7ym_beS"
      }
    },
    {
      "cell_type": "code",
      "source": [
        "def find_similars(item):\n",
        "    results = collection.query(query_embeddings=vector(item).astype(float).tolist(), n_results=5)\n",
        "    documents = results['documents'][0][:]\n",
        "    prices = [m['price'] for m in results['metadatas'][0][:]]\n",
        "    return documents, prices"
      ],
      "metadata": {
        "id": "XdL-T8ot_ZL0"
      },
      "execution_count": null,
      "outputs": []
    },
    {
      "cell_type": "code",
      "source": [],
      "metadata": {
        "id": "wtgabVdw_ZOt"
      },
      "execution_count": null,
      "outputs": []
    },
    {
      "cell_type": "code",
      "source": [
        "test[1]"
      ],
      "metadata": {
        "colab": {
          "base_uri": "https://localhost:8080/"
        },
        "id": "HRQZv1IO_ZRx",
        "outputId": "db6b74c2-3b21-4381-b584-3f7907894b05"
      },
      "execution_count": null,
      "outputs": [
        {
          "output_type": "execute_result",
          "data": {
            "text/plain": [
              "<BearHoHo Escape Room Props Puzzles Scale Sensor Put The Right Weight on Scale Sensor to Open 12V Electromagnetic Locks for Room Escape and Exit Game Owners (with Audio) = $140.0>"
            ]
          },
          "metadata": {},
          "execution_count": 123
        }
      ]
    },
    {
      "cell_type": "code",
      "source": [
        "test[1].prompt"
      ],
      "metadata": {
        "colab": {
          "base_uri": "https://localhost:8080/",
          "height": 105
        },
        "id": "OGwJtE0O_ZUq",
        "outputId": "9466f4a9-1d1d-4c2c-f48a-8c10f13d373c"
      },
      "execution_count": null,
      "outputs": [
        {
          "output_type": "execute_result",
          "data": {
            "text/plain": [
              "'How much does this cost to the nearest dollar?\\n\\nBearHoHo Escape Room Props Puzzles Scale Sensor Put The Right Weight on Scale Sensor to Open 12V Electromagnetic Locks for Room Escape and Exit Game Owners (with Audio)\\nThere is one controller with one weight sensors which room escape owners can installed in desk or wooden board,, players have to figure out the puzzle and find out the target weight,, and put the right object wanted weight on the weight sensor. If the scale sensor has been place the right weight,, the door will open. HIGHTLIGHTS 1. Support owner revise the trigger weight of your own.  2. Support users to change audio content  built-in TF card,, audio format MP3,, no more than 128M. PACKING LIST 1 x Controller 1 x 12V Power\\n\\nPrice is $140.00'"
            ],
            "application/vnd.google.colaboratory.intrinsic+json": {
              "type": "string"
            }
          },
          "metadata": {},
          "execution_count": 124
        }
      ]
    },
    {
      "cell_type": "code",
      "source": [],
      "metadata": {
        "id": "kHkpI9xrqx5j"
      },
      "execution_count": null,
      "outputs": []
    },
    {
      "cell_type": "code",
      "source": [],
      "metadata": {
        "id": "6rRgDebxqx8u"
      },
      "execution_count": null,
      "outputs": []
    },
    {
      "cell_type": "code",
      "source": [
        "documents, prices = find_similars(test[0])"
      ],
      "metadata": {
        "id": "xPS-U_b-_Zb_"
      },
      "execution_count": null,
      "outputs": []
    },
    {
      "cell_type": "code",
      "source": [
        "print(make_context(documents, prices))"
      ],
      "metadata": {
        "colab": {
          "base_uri": "https://localhost:8080/"
        },
        "id": "QbNU5Th7_ZfJ",
        "outputId": "2306ae22-a672-4588-e304-df70fc128c6d"
      },
      "execution_count": null,
      "outputs": [
        {
          "output_type": "stream",
          "name": "stdout",
          "text": [
            "To provide some context, here are some other items that might be similar to the item you need to estimate.\n",
            "\n",
            "Potentially related product:\n",
            "SONY DT 18-135mm F3.5-5.6 SA Sony A-mount lens SAL18135 - International Version (No Warranty)\n",
            "\"Package Dimensions\"  \"7.72 x 4.88 x 4.8 inches\",, \"Item Weight\"  \"14.1 ounces\",, \"Item model number\"  \"Is Discontinued By Manufacturer\"  \"No\",, \"Date First Available\"  \"November 2,, \"Manufacturer\"  \"Sony\",, \"Brand\"  \"Sony\",, \"Lens Type\"  \"Telephoto\",, \"Compatible Mountings\"  \"Sony A\",, \"Camera Lens Description\"  mm\",, \"Maximum Focal Length\"  \"135 Millimeters\"\n",
            "Price is $254.52\n",
            "\n",
            "Potentially related product:\n",
            "SONY 75-300mm F4.5-5.6 SAL75300 - International Version (No Warranty)\n",
            "SKU Used Sony  A-mnt Maxxum  Lens  \"Product Dimensions\"  \"4.4 x 4.2 x 8.1 inches\",, \"Item Weight\"  \"1.01 pounds\",, \"Item model number\"  \"Best Sellers Rank\"   \"Camera Lenses\"  7634,, \"Is Discontinued By Manufacturer\"  \"No\",, \"Date First Available\"  \"June 17,, \"Manufacturer\"  \"Sony\",, \"Brand\"  \"Sony\",, \"Focal Length Description\"  millimeters\",, \"Lens Type\"  \"Telephoto\",, \"Camera Lens Description\" \n",
            "Price is $148.00\n",
            "\n",
            "Potentially related product:\n",
            "Sony E PZ 18-105mm f/4 G OSS Lens for Sony Digital SLR Cameras - International Version (No Warranty)\n",
            "SONY E PZ F4 G OSS e-mount power zoom lens - International Version  No Warranty   \"Product Dimensions\"  \"3.03 x 5.59 x 3.03 inches\",, \"Item Weight\"  \"15.1 ounces\",, \"Item model number\"  \"Best Sellers Rank\"   \"Camera Lenses\"  3128,, \"Is Discontinued By Manufacturer\"  \"No\",, \"Date First Available\"  \"March 17,, \"Manufacturer\"  \"Shop Smart Deals\",, \"Country of Origin\"  \"China\",, \"Brand\"  \"Sony\",, \"Lens Type\"\n",
            "Price is $499.95\n",
            "\n",
            "Potentially related product:\n",
            "Sony Single Focus Lens E 35mm F1.8 OSS SEL35F18 - International Version (No Warranty)\n",
            "Sony Single focus lens E 35mm F1.8 OSS - International Version  No Warranty  This version is originally intended for sale outside the US and may contain adapters,, manuals,, and warranties not compatible with US standards.  \"Product Dimensions\"  \"4.1 x 3.9 x 5.3 inches\",, \"Item Weight\"  \"5.4 ounces\",, \"Item model number\"  \"Batteries\"  \"2 Lithium Ion batteries required.\",, \"Best Sellers Rank\"   \"SLR Camera Lenses\"  2924,, \"Is Discontinued By Manufacturer\"  \"No\",, \"Date First Available\"\n",
            "Price is $420.00\n",
            "\n",
            "Potentially related product:\n",
            "Sony E 50mm F1.8 OSS SEL50F18 -S (Silver) for Sony E-Mount Nex Cameras - International Version (No Warranty)\n",
            "Item was cleaned and tested. Great cosmetic condition. Includes original box,, lens cap,, connection end cap and user manual. 30-day money back guarantee.  \"Package Dimensions\"  \"6.77 x 3.54 x 3.43 inches\",, \"Item Weight\"  \"7.1 ounces\",, \"Item model number\"  \"Batteries\"  \"1 Lithium Ion batteries required.\",, \"Best Sellers Rank\"   \"Digital Camera Accessory Kits\"  3449,, \"Is Discontinued By Manufacturer\"  \"No\",, \"Date First Available\"  \"June 19\n",
            "Price is $225.00\n",
            "\n",
            "\n"
          ]
        }
      ]
    },
    {
      "cell_type": "code",
      "source": [],
      "metadata": {
        "id": "FHHjFSf2_ZiH"
      },
      "execution_count": null,
      "outputs": []
    },
    {
      "cell_type": "code",
      "source": [],
      "metadata": {
        "id": "dBRmWT60CWo1"
      },
      "execution_count": null,
      "outputs": []
    },
    {
      "cell_type": "code",
      "source": [
        "print(messages_for(test[10], documents, prices))"
      ],
      "metadata": {
        "colab": {
          "base_uri": "https://localhost:8080/"
        },
        "id": "yEwv1F3CCWsC",
        "outputId": "83a612fb-7216-4b06-beef-c512fe4728a2"
      },
      "execution_count": null,
      "outputs": [
        {
          "output_type": "stream",
          "name": "stdout",
          "text": [
            "[{'role': 'system', 'content': 'You estimate prices of items. Reply only with the price, no explanation'}, {'role': 'user', 'content': 'To provide some context, here are some other items that might be similar to the item you need to estimate.\\n\\nPotentially related product:\\nSONY DT 18-135mm F3.5-5.6 SA Sony A-mount lens SAL18135 - International Version (No Warranty)\\n\"Package Dimensions\"  \"7.72 x 4.88 x 4.8 inches\",, \"Item Weight\"  \"14.1 ounces\",, \"Item model number\"  \"Is Discontinued By Manufacturer\"  \"No\",, \"Date First Available\"  \"November 2,, \"Manufacturer\"  \"Sony\",, \"Brand\"  \"Sony\",, \"Lens Type\"  \"Telephoto\",, \"Compatible Mountings\"  \"Sony A\",, \"Camera Lens Description\"  mm\",, \"Maximum Focal Length\"  \"135 Millimeters\"\\nPrice is $254.52\\n\\nPotentially related product:\\nSONY 75-300mm F4.5-5.6 SAL75300 - International Version (No Warranty)\\nSKU Used Sony  A-mnt Maxxum  Lens  \"Product Dimensions\"  \"4.4 x 4.2 x 8.1 inches\",, \"Item Weight\"  \"1.01 pounds\",, \"Item model number\"  \"Best Sellers Rank\"   \"Camera Lenses\"  7634,, \"Is Discontinued By Manufacturer\"  \"No\",, \"Date First Available\"  \"June 17,, \"Manufacturer\"  \"Sony\",, \"Brand\"  \"Sony\",, \"Focal Length Description\"  millimeters\",, \"Lens Type\"  \"Telephoto\",, \"Camera Lens Description\" \\nPrice is $148.00\\n\\nPotentially related product:\\nSony E PZ 18-105mm f/4 G OSS Lens for Sony Digital SLR Cameras - International Version (No Warranty)\\nSONY E PZ F4 G OSS e-mount power zoom lens - International Version  No Warranty   \"Product Dimensions\"  \"3.03 x 5.59 x 3.03 inches\",, \"Item Weight\"  \"15.1 ounces\",, \"Item model number\"  \"Best Sellers Rank\"   \"Camera Lenses\"  3128,, \"Is Discontinued By Manufacturer\"  \"No\",, \"Date First Available\"  \"March 17,, \"Manufacturer\"  \"Shop Smart Deals\",, \"Country of Origin\"  \"China\",, \"Brand\"  \"Sony\",, \"Lens Type\"\\nPrice is $499.95\\n\\nPotentially related product:\\nSony Single Focus Lens E 35mm F1.8 OSS SEL35F18 - International Version (No Warranty)\\nSony Single focus lens E 35mm F1.8 OSS - International Version  No Warranty  This version is originally intended for sale outside the US and may contain adapters,, manuals,, and warranties not compatible with US standards.  \"Product Dimensions\"  \"4.1 x 3.9 x 5.3 inches\",, \"Item Weight\"  \"5.4 ounces\",, \"Item model number\"  \"Batteries\"  \"2 Lithium Ion batteries required.\",, \"Best Sellers Rank\"   \"SLR Camera Lenses\"  2924,, \"Is Discontinued By Manufacturer\"  \"No\",, \"Date First Available\"\\nPrice is $420.00\\n\\nPotentially related product:\\nSony E 50mm F1.8 OSS SEL50F18 -S (Silver) for Sony E-Mount Nex Cameras - International Version (No Warranty)\\nItem was cleaned and tested. Great cosmetic condition. Includes original box,, lens cap,, connection end cap and user manual. 30-day money back guarantee.  \"Package Dimensions\"  \"6.77 x 3.54 x 3.43 inches\",, \"Item Weight\"  \"7.1 ounces\",, \"Item model number\"  \"Batteries\"  \"1 Lithium Ion batteries required.\",, \"Best Sellers Rank\"   \"Digital Camera Accessory Kits\"  3449,, \"Is Discontinued By Manufacturer\"  \"No\",, \"Date First Available\"  \"June 19\\nPrice is $225.00\\n\\n\\nAnd now the question for you:\\n\\nHow much does this cost?\\n\\nMatte Black Big Horn Style Horizontal Front Hood Bumper Grill Grille Guard ABS With Shell Compatible With 10-18 Dodge Ram 2500/3500 / 4500/5500\\nApplication  Compatible With 2010 Dodge Ram 2500   3500   4500   5500 All Models,, Ram 2500   3500   4500   5500 All Models   Will Not Fit Ram 2500   3500   4500   5500 Fifth Generation Models   Front Grill Grille Big Horn Horizontal Style Direct Bolt-On Replacement,, Professional Installation Is Highly Recommended Color  Matte Black  \"Color\"  \"Black\",, \"Brand\"  \"Topline_autopart\",, \"Vehicle Service Type\"  \"Car'}, {'role': 'assistant', 'content': 'Price is $'}]\n"
          ]
        }
      ]
    },
    {
      "cell_type": "code",
      "source": [],
      "metadata": {
        "id": "9VA4Jdl5_Zy1"
      },
      "execution_count": null,
      "outputs": []
    },
    {
      "cell_type": "code",
      "source": [],
      "metadata": {
        "id": "7Ht9nO0gbKou"
      },
      "execution_count": null,
      "outputs": []
    },
    {
      "cell_type": "code",
      "source": [],
      "metadata": {
        "id": "WJiALPL8_Z2I"
      },
      "execution_count": null,
      "outputs": []
    },
    {
      "cell_type": "code",
      "source": [],
      "metadata": {
        "id": "YRRvHbZT_Z5K"
      },
      "execution_count": null,
      "outputs": []
    },
    {
      "cell_type": "code",
      "source": [],
      "metadata": {
        "id": "9-AyvNRE7eWI"
      },
      "execution_count": null,
      "outputs": []
    },
    {
      "cell_type": "markdown",
      "source": [
        "## 206. Day 2 - RAG Pipeline Implementation: Enhancing LLMs with Retrieval Techniques  \n",
        "7min  "
      ],
      "metadata": {
        "id": "UNyt3Ih97hIS"
      }
    },
    {
      "cell_type": "code",
      "source": [],
      "metadata": {
        "id": "6HyHllc4XXVh"
      },
      "execution_count": null,
      "outputs": []
    },
    {
      "cell_type": "code",
      "source": [
        "def get_price(s):\n",
        "    s = s.replace('$','').replace(',','')\n",
        "    match = re.search(r\"[-+]?\\d*\\.?\\d+\", s)\n",
        "    return float(match.group()) if match else 0"
      ],
      "metadata": {
        "id": "Kwz8Bq3TIv2C"
      },
      "execution_count": null,
      "outputs": []
    },
    {
      "cell_type": "code",
      "source": [],
      "metadata": {
        "id": "HulYPCrZIbHO"
      },
      "execution_count": null,
      "outputs": []
    },
    {
      "cell_type": "code",
      "source": [
        "def llama_rag(item):\n",
        "    documents, prices = find_similars(item)\n",
        "    context = make_context(documents, prices)\n",
        "\n",
        "    # Simple prompt without chat template\n",
        "    prompt = f\"\"\"You estimate prices. Reply only with the price number.\n",
        "\n",
        "{context}\n",
        "\n",
        "How much does this cost?\n",
        "{description(item)}\n",
        "\n",
        "Price is $\"\"\"\n",
        "\n",
        "    inputs = tokenizer(prompt, return_tensors=\"pt\").to(model.device)\n",
        "\n",
        "    outputs = model.generate(\n",
        "        **inputs,\n",
        "        max_new_tokens=10,\n",
        "        do_sample=False,\n",
        "        pad_token_id=tokenizer.eos_token_id\n",
        "    )\n",
        "\n",
        "    input_length = inputs['input_ids'].shape[1]\n",
        "    reply = tokenizer.decode(outputs[0][input_length:], skip_special_tokens=True).strip()\n",
        "\n",
        "    return get_price(reply)"
      ],
      "metadata": {
        "id": "xAa93_9yIbKK"
      },
      "execution_count": null,
      "outputs": []
    },
    {
      "cell_type": "code",
      "source": [],
      "metadata": {
        "id": "9WoBg7k-KpJb"
      },
      "execution_count": null,
      "outputs": []
    },
    {
      "cell_type": "code",
      "source": [],
      "metadata": {
        "id": "il6mujYrnVpI"
      },
      "execution_count": null,
      "outputs": []
    },
    {
      "cell_type": "code",
      "source": [
        "Tester.test(llama_rag, test)"
      ],
      "metadata": {
        "id": "l3Pk4yDKKpMi",
        "colab": {
          "base_uri": "https://localhost:8080/",
          "height": 1000
        },
        "outputId": "f99dc7f4-852e-43ca-db73-daeeeb2b49a1"
      },
      "execution_count": null,
      "outputs": [
        {
          "output_type": "stream",
          "name": "stdout",
          "text": [
            "\u001b[91m1: Guess: $199.00 Truth: $82.99 Error: $116.01 SLE: 0.75 Item: Sony Dt 55-200mm F4-5.6 SAM SAL55200-2 -...\u001b[0m\n",
            "\u001b[93m2: Guess: $79.00 Truth: $140.00 Error: $61.00 SLE: 0.32 Item: BearHoHo Escape Room Props Puzzles Scale...\u001b[0m\n",
            "\u001b[92m3: Guess: $69.99 Truth: $91.00 Error: $21.01 SLE: 0.07 Item: Avaya Partner 18D Display Telephone Refu...\u001b[0m\n",
            "\u001b[93m4: Guess: $98.99 Truth: $49.99 Error: $49.00 SLE: 0.45 Item: 5J.J3T05.001 Replacement Lamp Special Up...\u001b[0m\n",
            "\u001b[92m5: Guess: $29.99 Truth: $11.00 Error: $18.99 SLE: 0.90 Item: Traxxas 3232X Super Duty Long Glow Plug,...\u001b[0m\n",
            "\u001b[92m6: Guess: $65.00 Truth: $65.00 Error: $0.00 SLE: 0.00 Item: Bellroy Phone Case for iPhone 13 Pro wit...\u001b[0m\n",
            "\u001b[91m7: Guess: $9.99 Truth: $136.15 Error: $126.16 SLE: 6.37 Item: Big Horn 19505 Preppin Weapon Kit - 5 As...\u001b[0m\n",
            "\u001b[92m8: Guess: $11.99 Truth: $11.99 Error: $0.00 SLE: 0.00 Item: Evil Eye Popsocket for Phone Evil Eye Po...\u001b[0m\n",
            "\u001b[92m9: Guess: $24.99 Truth: $25.99 Error: $1.00 SLE: 0.00 Item: 12 Pieces Mini Stuffed Forest Animals Ju...\u001b[0m\n",
            "\u001b[93m10: Guess: $299.99 Truth: $449.00 Error: $149.01 SLE: 0.16 Item: GPS Drones with 4K UHD Camera for Adults...\u001b[0m\n",
            "\u001b[92m11: Guess: $175.00 Truth: $182.00 Error: $7.00 SLE: 0.00 Item: Matte Black Big Horn Style Horizontal Fr...\u001b[0m\n",
            "\u001b[91m12: Guess: $199.99 Truth: $89.95 Error: $110.04 SLE: 0.63 Item: J-Tech Digital 1X2 Wireless HDMI Extende...\u001b[0m\n",
            "\u001b[92m13: Guess: $52.95 Truth: $52.95 Error: $0.00 SLE: 0.00 Item: Holiday Special! Focalink 12 Holes Alto ...\u001b[0m\n",
            "\u001b[91m14: Guess: $93.39 Truth: $2.73 Error: $90.66 SLE: 10.44 Item: Yellow Standard Anti Slip Tape 6\"x 24\"\u001b[0m\n",
            "\u001b[91m15: Guess: $447.70 Truth: $255.00 Error: $192.70 SLE: 0.31 Item: ARB 814301 Retractable Awning 1250 x 210...\u001b[0m\n",
            "\u001b[92m16: Guess: $9.99 Truth: $5.99 Error: $4.00 SLE: 0.20 Item: Pop Fidget Notebook, Spiral Notebook, Pu...\u001b[0m\n",
            "\u001b[91m17: Guess: $81.35 Truth: $282.04 Error: $200.69 SLE: 1.52 Item: Denso 234-5052 Air Fuel Ratio Sensor\u001b[0m\n",
            "\u001b[92m18: Guess: $104.97 Truth: $111.97 Error: $7.00 SLE: 0.00 Item: Desktop PC Computer Compatible with Dell...\u001b[0m\n",
            "\u001b[92m19: Guess: $69.99 Truth: $101.00 Error: $31.01 SLE: 0.13 Item: Great White 19-D622/S 13-Gauge Dyneema/L...\u001b[0m\n",
            "\u001b[92m20: Guess: $19.99 Truth: $16.99 Error: $3.00 SLE: 0.02 Item: CCA CA2 in Ear Earbuds Wired Extra Bass ...\u001b[0m\n",
            "\u001b[92m21: Guess: $80.95 Truth: $52.25 Error: $28.70 SLE: 0.19 Item: NECA Heroes of The Storm 7\" Scale Illida...\u001b[0m\n",
            "\u001b[91m22: Guess: $99.99 Truth: $18.89 Error: $81.10 SLE: 2.64 Item: CCD Color Sony chip Car Back Up Rear Vie...\u001b[0m\n",
            "\u001b[92m23: Guess: $399.00 Truth: $399.00 Error: $0.00 SLE: 0.00 Item: GMKtec Mini PC,Intel Nuc i5-1135G7 4-Cor...\u001b[0m\n",
            "\u001b[92m24: Guess: $330.20 Truth: $409.72 Error: $79.52 SLE: 0.05 Item: NEW BILSTEIN FRONT & REAR SHOCKS FOR 86-...\u001b[0m\n",
            "\u001b[92m25: Guess: $242.98 Truth: $227.38 Error: $15.60 SLE: 0.00 Item: HP EliteDesk 800 G2 Fast Desktop Compute...\u001b[0m\n",
            "\u001b[91m26: Guess: $29.99 Truth: $168.48 Error: $138.49 SLE: 2.89 Item: Amana Tool RC-1028 V Groove Router Bit C...\u001b[0m\n",
            "\u001b[93m27: Guess: $299.00 Truth: $417.16 Error: $118.16 SLE: 0.11 Item: EBS MicroBass 3 2-Channel Preamp\u001b[0m\n",
            "\u001b[91m28: Guess: $1,000.00 Truth: $585.71 Error: $414.29 SLE: 0.29 Item: Microsoft Surface Book (Intel Core i5, 8...\u001b[0m\n",
            "\u001b[92m29: Guess: $299.99 Truth: $315.00 Error: $15.01 SLE: 0.00 Item: Honda Genuine Factory OEM 08Z04-SCV-100B...\u001b[0m\n",
            "\u001b[91m30: Guess: $499.00 Truth: $279.00 Error: $220.00 SLE: 0.34 Item: Hydraulic Gear Puller with Locking Nut B...\u001b[0m\n",
            "\u001b[93m31: Guess: $499.99 Truth: $799.00 Error: $299.01 SLE: 0.22 Item: Epson WorkForce WF-7620 Wireless Color A...\u001b[0m\n",
            "\u001b[92m32: Guess: $5.72 Truth: $17.40 Error: $11.68 SLE: 1.01 Item: Lang Schoolhouse 2021 Wall Calendar (219...\u001b[0m\n",
            "\u001b[92m33: Guess: $299.99 Truth: $257.14 Error: $42.85 SLE: 0.02 Item: Spyder Men's Vertex Jacket\u001b[0m\n",
            "\u001b[92m34: Guess: $165.58 Truth: $143.99 Error: $21.59 SLE: 0.02 Item: KINGSTON BRASS KB3631ALSO Vintage Pressu...\u001b[0m\n",
            "\u001b[93m35: Guess: $214.03 Truth: $167.98 Error: $46.05 SLE: 0.06 Item: LEGO The Lord of the Rings Hobbit Shelob...\u001b[0m\n",
            "\u001b[92m36: Guess: $49.99 Truth: $60.99 Error: $11.00 SLE: 0.04 Item: 3 Layer Wood Pen Display Box 34 Pen Orga...\u001b[0m\n",
            "\u001b[92m37: Guess: $22.99 Truth: $26.99 Error: $4.00 SLE: 0.02 Item: A-Premium Front Hood Lift Supports Strut...\u001b[0m\n",
            "\u001b[92m38: Guess: $3.49 Truth: $3.79 Error: $0.30 SLE: 0.00 Item: IFLASH iPhone 12 Pro, iPhone 12 Tempered...\u001b[0m\n",
            "\u001b[91m39: Guess: $1,199.99 Truth: $499.99 Error: $700.00 SLE: 0.76 Item: HomeCraft Black Stainless Steel Full-Siz...\u001b[0m\n",
            "\u001b[91m40: Guess: $1,000.00 Truth: $639.92 Error: $360.08 SLE: 0.20 Item: Elkay Crosstown ECTRU32179LDBG 40/60 Dou...\u001b[0m\n",
            "\u001b[93m41: Guess: $6.99 Truth: $48.44 Error: $41.45 SLE: 3.32 Item: Osram 133531 - FPL18EX-N Single Tube 4 P...\u001b[0m\n",
            "\u001b[93m42: Guess: $105.62 Truth: $173.35 Error: $67.73 SLE: 0.24 Item: Mitsubishi Genuine All Weather Floor Mat...\u001b[0m\n",
            "\u001b[92m43: Guess: $149.99 Truth: $169.00 Error: $19.01 SLE: 0.01 Item: starink Compatible Replacement for HP 97...\u001b[0m\n",
            "\u001b[92m44: Guess: $19.99 Truth: $29.95 Error: $9.96 SLE: 0.15 Item: Giraffe - Easter Eggs Bulk Plastic Easte...\u001b[0m\n",
            "\u001b[92m45: Guess: $54.78 Truth: $76.94 Error: $22.16 SLE: 0.11 Item: Centric Parts 131.67010 Brake Master Cyl...\u001b[0m\n",
            "\u001b[92m46: Guess: $162.51 Truth: $163.23 Error: $0.72 SLE: 0.00 Item: JONATHAN Y JYL8006A Peacock Tiffany-Styl...\u001b[0m\n",
            "\u001b[92m47: Guess: $19.99 Truth: $14.95 Error: $5.04 SLE: 0.08 Item: Cherry Blossoms Floral Stationary Paper ...\u001b[0m\n",
            "\u001b[92m48: Guess: $119.00 Truth: $119.00 Error: $0.00 SLE: 0.00 Item: Seymour Duncan - 11103-49-W - TB-PG1b Pe...\u001b[0m\n",
            "\u001b[93m49: Guess: $30.89 Truth: $101.10 Error: $70.21 SLE: 1.35 Item: LG EAU61505013 Fan Motor, Yellow\u001b[0m\n",
            "\u001b[92m50: Guess: $150.63 Truth: $178.08 Error: $27.45 SLE: 0.03 Item: Draw-Tite 24812 Class 1 Trailer Hitch, 1...\u001b[0m\n",
            "\u001b[93m51: Guess: $99.99 Truth: $166.38 Error: $66.39 SLE: 0.26 Item: Dolan Designs 3782-09 Ellipse 2 Light Ba...\u001b[0m\n",
            "\u001b[92m52: Guess: $206.96 Truth: $236.99 Error: $30.03 SLE: 0.02 Item: Yokohama Geolandar G95A Radial Tire - 22...\u001b[0m\n",
            "\u001b[92m53: Guess: $299.75 Truth: $274.75 Error: $25.00 SLE: 0.01 Item: Think Tank Mindshift Rotation 22L Camera...\u001b[0m\n",
            "\u001b[92m54: Guess: $106.29 Truth: $131.29 Error: $25.00 SLE: 0.04 Item: LSAILON 8pcs Inner Tie Rod Ends Lower Co...\u001b[0m\n",
            "\u001b[92m55: Guess: $349.99 Truth: $319.99 Error: $30.00 SLE: 0.01 Item: 52CC Gas Powered T-Post Driver, JACKCHEN...\u001b[0m\n",
            "\u001b[93m56: Guess: $387.50 Truth: $282.85 Error: $104.65 SLE: 0.10 Item: R1 Concepts Eline Drilled Slotted Brake ...\u001b[0m\n",
            "\u001b[93m57: Guess: $170.71 Truth: $249.61 Error: $78.90 SLE: 0.14 Item: Akro-Mils 33105 Akro-Grid Plastic Slotte...\u001b[0m\n",
            "\u001b[91m58: Guess: $128.39 Truth: $282.77 Error: $154.38 SLE: 0.62 Item: ROHL 1795APC Wall OUTLETS, Polished Chro...\u001b[0m\n",
            "\u001b[92m59: Guess: $217.50 Truth: $226.96 Error: $9.46 SLE: 0.00 Item: H&R 54427-2 Sport Spring\u001b[0m\n",
            "\u001b[91m60: Guess: $2,250.00 Truth: $555.00 Error: $1,695.00 SLE: 1.96 Item: BlueDEF DEF002 Diesel Exhaust Fluid - 2....\u001b[0m\n",
            "\u001b[91m61: Guess: $29.99 Truth: $123.95 Error: $93.96 SLE: 1.94 Item: KFI Products 101030 Winches, regular\u001b[0m\n",
            "\u001b[92m62: Guess: $190.99 Truth: $185.95 Error: $5.04 SLE: 0.00 Item: ZMAUTOPARTS Dual Halo LED Projector Head...\u001b[0m\n",
            "\u001b[92m63: Guess: $99.99 Truth: $102.28 Error: $2.29 SLE: 0.00 Item: Hyloft 00630 48\" x 24\" Garage Wall Shelf...\u001b[0m\n",
            "\u001b[92m64: Guess: $134.19 Truth: $134.15 Error: $0.04 SLE: 0.00 Item: Mazda BAN7-59-310B, Door Lock Actuator M...\u001b[0m\n",
            "\u001b[92m65: Guess: $102.84 Truth: $132.23 Error: $29.39 SLE: 0.06 Item: Paititi 4/4 Full Size Professional Oblon...\u001b[0m\n",
            "\u001b[91m66: Guess: $1,000.00 Truth: $299.99 Error: $700.01 SLE: 1.44 Item: Genuine Hyundai 97701-3R000 Compressor A...\u001b[0m\n",
            "\u001b[92m67: Guess: $19.99 Truth: $42.99 Error: $23.00 SLE: 0.55 Item: X-Haibei 12 Pack Tubular Cam Locks Keyed...\u001b[0m\n",
            "\u001b[92m68: Guess: $39.99 Truth: $50.95 Error: $10.96 SLE: 0.06 Item: Bruder 02446 Cat Small Wheel Excavator\u001b[0m\n",
            "\u001b[92m69: Guess: $99.99 Truth: $71.99 Error: $28.00 SLE: 0.11 Item: PRYSM Drive Motor Replaces DC31-00055G\u001b[0m\n",
            "\u001b[92m70: Guess: $399.00 Truth: $339.00 Error: $60.00 SLE: 0.03 Item: Apple MacBook Pro with Intel Core i5, 2....\u001b[0m\n",
            "\u001b[93m71: Guess: $49.00 Truth: $92.01 Error: $43.01 SLE: 0.39 Item: Goodman 0150M00008SP Condenser Fan Blade...\u001b[0m\n",
            "\u001b[92m72: Guess: $379.00 Truth: $329.00 Error: $50.00 SLE: 0.02 Item: Polaris Sportsman 570 (2015-2020) 450 (2...\u001b[0m\n",
            "\u001b[92m73: Guess: $14.99 Truth: $5.97 Error: $9.02 SLE: 0.69 Item: Wyze Cam Plus 3 Month Subscription (Pack...\u001b[0m\n",
            "\u001b[92m74: Guess: $399.99 Truth: $397.99 Error: $2.00 SLE: 0.00 Item: Panasonic Lumix DC-FZ80 Digital Point & ...\u001b[0m\n",
            "\u001b[93m75: Guess: $214.95 Truth: $334.95 Error: $120.00 SLE: 0.20 Item: Platinum Shield Weatherproof Hummer Cove...\u001b[0m\n",
            "\u001b[91m76: Guess: $138.99 Truth: $58.31 Error: $80.68 SLE: 0.74 Item: Mitsubishi WD-73736 DLP TV Assembly with...\u001b[0m\n",
            "\u001b[92m77: Guess: $99.99 Truth: $127.07 Error: $27.08 SLE: 0.06 Item: Garage-Pro Ignition Coil SET Compatible ...\u001b[0m\n",
            "\u001b[91m78: Guess: $93.58 Truth: $269.93 Error: $176.35 SLE: 1.11 Item: Motorcraft TM101 Automatic Transmission ...\u001b[0m\n",
            "\u001b[92m79: Guess: $19.99 Truth: $34.35 Error: $14.36 SLE: 0.27 Item: ZAGG Gear4 Crystal Palace Iridescent Com...\u001b[0m\n",
            "\u001b[92m80: Guess: $197.13 Truth: $197.13 Error: $0.00 SLE: 0.00 Item: Detroit Axle - Brake Kit for Buick Raini...\u001b[0m\n",
            "\u001b[91m81: Guess: $99.99 Truth: $189.99 Error: $90.00 SLE: 0.41 Item: OTC 8104A-SET One Person Vacuum Brake Bl...\u001b[0m\n",
            "\u001b[92m82: Guess: $338.95 Truth: $338.95 Error: $0.00 SLE: 0.00 Item: Honeywell SV9501M2726 Upgraded Replaceme...\u001b[0m\n",
            "\u001b[92m83: Guess: $139.99 Truth: $163.34 Error: $23.35 SLE: 0.02 Item: Bosch Automotive 67969 OE Electric Fuel ...\u001b[0m\n",
            "\u001b[92m84: Guess: $142.99 Truth: $142.99 Error: $0.00 SLE: 0.00 Item: wall26 - Underground Facility with a Big...\u001b[0m\n",
            "\u001b[93m85: Guess: $199.99 Truth: $299.99 Error: $100.00 SLE: 0.16 Item: 6 in 1 Toddler Slide Set, Kids Slide for...\u001b[0m\n",
            "\u001b[93m86: Guess: $199.99 Truth: $259.99 Error: $60.00 SLE: 0.07 Item: Capresso EC Select Espresso Machine and ...\u001b[0m\n",
            "\u001b[91m87: Guess: $799.95 Truth: $480.00 Error: $319.95 SLE: 0.26 Item: Nikon AF-S DX NIKKOR 16-80mm f/2.8-4E ED...\u001b[0m\n",
            "\u001b[92m88: Guess: $142.10 Truth: $107.88 Error: $34.22 SLE: 0.07 Item: Spyder Dodge Caravan 96-00 / 98-03 Duran...\u001b[0m\n",
            "\u001b[92m89: Guess: $41.49 Truth: $41.41 Error: $0.08 SLE: 0.00 Item: PILOT : VBall Liquid Ink Stick Roller Ba...\u001b[0m\n",
            "\u001b[92m90: Guess: $199.10 Truth: $187.96 Error: $11.14 SLE: 0.00 Item: Kingston Brass KS1761ALLS Vintage Kitche...\u001b[0m\n",
            "\u001b[92m91: Guess: $32.89 Truth: $32.98 Error: $0.09 SLE: 0.00 Item: Love Mei for Samsung Galaxy S10 Plus,Out...\u001b[0m\n",
            "\u001b[92m92: Guess: $12.99 Truth: $25.99 Error: $13.00 SLE: 0.43 Item: Ai-Fun 2 Pack Magnetic Induction Light a...\u001b[0m\n",
            "\u001b[93m93: Guess: $399.99 Truth: $329.99 Error: $70.00 SLE: 0.04 Item: Aquatic AV Bluetooth Stereo AQ-MP-5BT-H ...\u001b[0m\n",
            "\u001b[93m94: Guess: $399.97 Truth: $534.95 Error: $134.98 SLE: 0.08 Item: 509 Allied Insulated Mono Suit (Black Op...\u001b[0m\n",
            "\u001b[93m95: Guess: $511.99 Truth: $381.06 Error: $130.93 SLE: 0.09 Item: HON 512Pq Two-Drawer Full-Suspension Fil...\u001b[0m\n",
            "\u001b[93m96: Guess: $469.00 Truth: $379.00 Error: $90.00 SLE: 0.05 Item: BeaverLAB TW1 Standard Smart Digital Tel...\u001b[0m\n",
            "\u001b[92m97: Guess: $299.99 Truth: $290.64 Error: $9.35 SLE: 0.00 Item: Planet Audio P100CPAC Car Stereo System ...\u001b[0m\n",
            "\u001b[92m98: Guess: $22.99 Truth: $36.99 Error: $14.00 SLE: 0.21 Item: BRIKSMAX Creator 3-in-1 Ferris Wheel Led...\u001b[0m\n",
            "\u001b[92m99: Guess: $759.98 Truth: $639.99 Error: $119.99 SLE: 0.03 Item: LOSSIGY 2Packs 12V100Ah Lifepo4 Lithium ...\u001b[0m\n",
            "\u001b[92m100: Guess: $220.00 Truth: $228.75 Error: $8.75 SLE: 0.00 Item: PILOT Custom 912 Fountain Pen, Black Bar...\u001b[0m\n",
            "\u001b[93m101: Guess: $199.99 Truth: $272.99 Error: $73.00 SLE: 0.10 Item: AKKON - Fits 2008-16 Ford F250/F350/F450...\u001b[0m\n",
            "\u001b[93m102: Guess: $150.99 Truth: $228.99 Error: $78.00 SLE: 0.17 Item: Xtune ALT-JH-IG3503-LEDLB-BK Tail Light,...\u001b[0m\n",
            "\u001b[92m103: Guess: $29.99 Truth: $42.99 Error: $13.00 SLE: 0.12 Item: Speed Fabrication 8 Slot TIG Welding Rod...\u001b[0m\n",
            "\u001b[92m104: Guess: $128.00 Truth: $125.00 Error: $3.00 SLE: 0.00 Item: Miyili Vessel Sink Rectangle Matte Black...\u001b[0m\n",
            "\u001b[91m105: Guess: $1,000.00 Truth: $345.00 Error: $655.00 SLE: 1.13 Item: Leica RE 160 Digital Rugby Rod Eye 160 D...\u001b[0m\n",
            "\u001b[93m106: Guess: $170.51 Truth: $277.99 Error: $107.48 SLE: 0.24 Item: Sierra International 18-6767-1 Tilt/Trim...\u001b[0m\n",
            "\u001b[92m107: Guess: $4.99 Truth: $2.50 Error: $2.49 SLE: 0.29 Item: 2-Inch Stainless Mesh Strainer for Batht...\u001b[0m\n",
            "\u001b[92m108: Guess: $19.99 Truth: $33.99 Error: $14.00 SLE: 0.26 Item: MUUJEE You Will Forever Be My Always 3 S...\u001b[0m\n",
            "\u001b[92m109: Guess: $129.99 Truth: $159.99 Error: $30.00 SLE: 0.04 Item: display4top Mig Welder, 130A Portable We...\u001b[0m\n",
            "\u001b[92m110: Guess: $99.99 Truth: $66.49 Error: $33.50 SLE: 0.16 Item: Amazon Basics AMZN-PB-TLRO4RCT-5PK Annua...\u001b[0m\n",
            "\u001b[92m111: Guess: $56.12 Truth: $67.81 Error: $11.69 SLE: 0.03 Item: ACDelco Gold K060930HD Heavy Duty V-Ribb...\u001b[0m\n",
            "\u001b[91m112: Guess: $1,000.00 Truth: $93.00 Error: $907.00 SLE: 5.60 Item: Capital Lighting 1794BB-293 Vanity with ...\u001b[0m\n",
            "\u001b[92m113: Guess: $229.99 Truth: $192.35 Error: $37.64 SLE: 0.03 Item: Kuryakyn 6773 Motorcycle Accessory: Omni...\u001b[0m\n",
            "\u001b[92m114: Guess: $299.99 Truth: $316.99 Error: $17.00 SLE: 0.00 Item: NZXT N7 B650E - N7-B65XT-B1 - AMD B650 c...\u001b[0m\n",
            "\u001b[92m115: Guess: $332.00 Truth: $332.00 Error: $0.00 SLE: 0.00 Item: Bam Trekking 3027SB Single Black Clarine...\u001b[0m\n",
            "\u001b[92m116: Guess: $169.99 Truth: $164.99 Error: $5.00 SLE: 0.00 Item: AKLWY Intel Compute Stick Mini PC Stick ...\u001b[0m\n",
            "\u001b[92m117: Guess: $299.99 Truth: $274.99 Error: $25.00 SLE: 0.01 Item: TiVo BOLT VOX for Cable, 1TB DVR and 4K ...\u001b[0m\n",
            "\u001b[92m118: Guess: $199.00 Truth: $182.16 Error: $16.84 SLE: 0.01 Item: HPI SOURCING - NEW Chromebook 11A G8 EE ...\u001b[0m\n",
            "\u001b[92m119: Guess: $108.33 Truth: $103.70 Error: $4.63 SLE: 0.00 Item: TSMST 36\" Bi-Folding Sliding Barn Door H...\u001b[0m\n",
            "\u001b[91m120: Guess: $339.99 Truth: $229.99 Error: $110.00 SLE: 0.15 Item: kemimoto X3 Insulated Cargo Box SxS Stor...\u001b[0m\n",
            "\u001b[92m121: Guess: $44.99 Truth: $72.00 Error: $27.01 SLE: 0.21 Item: 3M Respirator Filter Adapter 502, 20/Pac...\u001b[0m\n",
            "\u001b[92m122: Guess: $186.99 Truth: $210.99 Error: $24.00 SLE: 0.01 Item: AB Side Arm Heat Exchanger 38\" Double Wa...\u001b[0m\n",
            "\u001b[93m123: Guess: $170.00 Truth: $267.01 Error: $97.01 SLE: 0.20 Item: Genuine Acura (08P46-TZ5-200B) Rear Bump...\u001b[0m\n",
            "\u001b[93m124: Guess: $1,000.00 Truth: $750.00 Error: $250.00 SLE: 0.08 Item: HP Color Laserjet 4600DN Printer (C9661A...\u001b[0m\n",
            "\u001b[92m125: Guess: $12.99 Truth: $1.99 Error: $11.00 SLE: 2.38 Item: Mllkcao Flywheel Spinning Toy Spinner Fi...\u001b[0m\n",
            "\u001b[93m126: Guess: $213.56 Truth: $274.54 Error: $60.98 SLE: 0.06 Item: EBC Brakes GD7189 Rotor\u001b[0m\n",
            "\u001b[92m127: Guess: $217.41 Truth: $217.41 Error: $0.00 SLE: 0.00 Item: COMPLETESTRUTS - Front Complete Strut As...\u001b[0m\n",
            "\u001b[92m128: Guess: $199.99 Truth: $169.99 Error: $30.00 SLE: 0.03 Item: Hawkko Telescope, Telescopes for Adults ...\u001b[0m\n",
            "\u001b[91m129: Guess: $417.14 Truth: $740.48 Error: $323.34 SLE: 0.33 Item: Walker Exhaust CalCat Carb 82312 Univers...\u001b[0m\n",
            "\u001b[93m130: Guess: $199.99 Truth: $277.36 Error: $77.37 SLE: 0.11 Item: MTG Magic The Gathering Battlebond Boost...\u001b[0m\n",
            "\u001b[93m131: Guess: $185.00 Truth: $136.00 Error: $49.00 SLE: 0.09 Item: E-35110-85010 DirectFit™ Tractor Seat fo...\u001b[0m\n",
            "\u001b[92m132: Guess: $32.99 Truth: $22.99 Error: $10.00 SLE: 0.12 Item: Dongar Dashcam Power Adapter (10-pin Typ...\u001b[0m\n",
            "\u001b[91m133: Guess: $1,000.00 Truth: $653.00 Error: $347.00 SLE: 0.18 Item: Alcoa 24.5\" x 8.25\" Dura Bright EVO 10 L...\u001b[0m\n",
            "\u001b[92m134: Guess: $191.99 Truth: $165.99 Error: $26.00 SLE: 0.02 Item: CURT 12070 Class 2 Trailer Hitch, 1-1/4-...\u001b[0m\n",
            "\u001b[92m135: Guess: $399.99 Truth: $374.99 Error: $25.00 SLE: 0.00 Item: A-Premium K03 Turbo Turbocharger Kit wit...\u001b[0m\n",
            "\u001b[91m136: Guess: $1,000.00 Truth: $655.68 Error: $344.32 SLE: 0.18 Item: Geberit 115.640.SI.1 Toilets and Bidets,...\u001b[0m\n",
            "\u001b[92m137: Guess: $899.99 Truth: $819.00 Error: $80.99 SLE: 0.01 Item: SAMSUNG Galaxy S22 Ultra 5G Dual-SIM Fac...\u001b[0m\n",
            "\u001b[91m138: Guess: $1,000.00 Truth: $635.00 Error: $365.00 SLE: 0.21 Item: ZEBRA Technologies ZT23042-T01000FZ ZT23...\u001b[0m\n",
            "\u001b[92m139: Guess: $154.00 Truth: $140.00 Error: $14.00 SLE: 0.01 Item: DTA DT1911791161 Front Driver and Passen...\u001b[0m\n",
            "\u001b[92m140: Guess: $210.57 Truth: $200.91 Error: $9.66 SLE: 0.00 Item: Bridgestone Battlax Racing Street RS11 R...\u001b[0m\n",
            "\u001b[91m141: Guess: $148.51 Truth: $264.93 Error: $116.42 SLE: 0.33 Item: KOHLER 148912 Diverter Bath Spout.5, Pol...\u001b[0m\n",
            "\u001b[92m142: Guess: $249.89 Truth: $217.99 Error: $31.90 SLE: 0.02 Item: AmeriLite 2005-2011 for Toyota Tacoma Du...\u001b[0m\n",
            "\u001b[92m143: Guess: $99.99 Truth: $109.00 Error: $9.01 SLE: 0.01 Item: Big Joe Aquaria Avena Lounge Durable Foa...\u001b[0m\n",
            "\u001b[93m144: Guess: $54.50 Truth: $112.46 Error: $57.96 SLE: 0.51 Item: Yamaha 4VR833240000 Front Flasher Light\u001b[0m\n",
            "\u001b[92m145: Guess: $499.99 Truth: $529.95 Error: $29.96 SLE: 0.00 Item: Panasonic V770 Full HD Camcorder Bundle ...\u001b[0m\n",
            "\u001b[92m146: Guess: $55.99 Truth: $58.99 Error: $3.00 SLE: 0.00 Item: 14 Inch Rodeo Touch Lamp\u001b[0m\n",
            "\u001b[92m147: Guess: $20.99 Truth: $20.99 Error: $0.00 SLE: 0.00 Item: Wallmonkeys Asian Man Reading a Book Loo...\u001b[0m\n",
            "\u001b[92m148: Guess: $599.99 Truth: $549.99 Error: $50.00 SLE: 0.01 Item: Vance & Hines Shortshots Staggered Exhau...\u001b[0m\n",
            "\u001b[92m149: Guess: $190.66 Truth: $204.02 Error: $13.36 SLE: 0.00 Item: Burly Brand Black 12&Prime, Ape Hanger C...\u001b[0m\n",
            "\u001b[92m150: Guess: $161.95 Truth: $151.95 Error: $10.00 SLE: 0.00 Item: New Chrome Starter Compatible with 1993-...\u001b[0m\n",
            "\u001b[93m151: Guess: $299.99 Truth: $380.00 Error: $80.01 SLE: 0.06 Item: Bose Companion 3 Series II Multimedia Sp...\u001b[0m\n",
            "\u001b[92m152: Guess: $49.99 Truth: $54.99 Error: $5.00 SLE: 0.01 Item: SBrick Toy Interlocking Building Accesso...\u001b[0m\n",
            "\u001b[93m153: Guess: $120.99 Truth: $173.99 Error: $53.00 SLE: 0.13 Item: Dorman 526-768 Front Passenger Side Lowe...\u001b[0m\n",
            "\u001b[92m154: Guess: $99.99 Truth: $74.59 Error: $25.40 SLE: 0.08 Item: (10 Pack) UNIELE 20 Amp Non-Tamper Resis...\u001b[0m\n",
            "\u001b[93m155: Guess: $99.00 Truth: $46.97 Error: $52.03 SLE: 0.54 Item: Techtronics Ryobi ONE+ 18V PRT100B Cordl...\u001b[0m\n",
            "\u001b[92m156: Guess: $399.99 Truth: $345.00 Error: $54.99 SLE: 0.02 Item: Acer Aspire 5 A515-46-R14K Slim Laptop |...\u001b[0m\n",
            "\u001b[93m157: Guess: $199.95 Truth: $148.45 Error: $51.50 SLE: 0.09 Item: Hand-carved Classical Heartwood Djembe D...\u001b[0m\n",
            "\u001b[93m158: Guess: $99.00 Truth: $145.00 Error: $46.00 SLE: 0.14 Item: Makita DUB182Z 18V LXT® Lithium-Ion Cord...\u001b[0m\n",
            "\u001b[91m159: Guess: $349.99 Truth: $249.99 Error: $100.00 SLE: 0.11 Item: VAIS Technlogy GSR-FD02 SiriusXM Satelli...\u001b[0m\n",
            "\u001b[92m160: Guess: $219.35 Truth: $247.48 Error: $28.13 SLE: 0.01 Item: Kingston Brass KS8928DL Concord Widespre...\u001b[0m\n",
            "\u001b[92m161: Guess: $208.78 Truth: $238.69 Error: $29.91 SLE: 0.02 Item: Aolemi Freestanding Tub Filler Brushed N...\u001b[0m\n",
            "\u001b[92m162: Guess: $249.99 Truth: $248.96 Error: $1.03 SLE: 0.00 Item: Sapphire AMD FirePro W7000 4GB GDDR5 Qua...\u001b[0m\n",
            "\u001b[92m163: Guess: $399.00 Truth: $343.45 Error: $55.55 SLE: 0.02 Item: Genuine Acura Accessories 08L92-STX-200 ...\u001b[0m\n",
            "\u001b[92m164: Guess: $29.99 Truth: $41.78 Error: $11.79 SLE: 0.10 Item: B.FRIENDIT Backlit Wired USB Keyboard, C...\u001b[0m\n",
            "\u001b[93m165: Guess: $299.00 Truth: $231.20 Error: $67.80 SLE: 0.07 Item: Grote LPF-002 Semi-Hollow Body Electric ...\u001b[0m\n",
            "\u001b[92m166: Guess: $99.99 Truth: $86.00 Error: $13.99 SLE: 0.02 Item: Blackhawk By Proto BWO-1220 Fractional O...\u001b[0m\n",
            "\u001b[92m167: Guess: $449.99 Truth: $499.95 Error: $49.96 SLE: 0.01 Item: X-Plus Godzilla 12\" Series Godzilla vs. ...\u001b[0m\n",
            "\u001b[92m168: Guess: $475.95 Truth: $469.95 Error: $6.00 SLE: 0.00 Item: Aiphone Corporation JOS-1V Box Set for J...\u001b[0m\n",
            "\u001b[92m169: Guess: $131.55 Truth: $122.21 Error: $9.34 SLE: 0.01 Item: Legrand Adorne Touch Dimmer, Wireless RE...\u001b[0m\n",
            "\u001b[92m170: Guess: $299.00 Truth: $264.35 Error: $34.65 SLE: 0.02 Item: Steelcase Turnstone TSBUOY Seating, Blue\u001b[0m\n",
            "\u001b[91m171: Guess: $1,000.00 Truth: $344.02 Error: $655.98 SLE: 1.13 Item: Acme Electric AE020075 AE Industrial Con...\u001b[0m\n",
            "\u001b[93m172: Guess: $592.99 Truth: $805.00 Error: $212.01 SLE: 0.09 Item: Spclty Gas Reg, Inert Gas, CGA-580\u001b[0m\n",
            "\u001b[91m173: Guess: $332.99 Truth: $213.79 Error: $119.20 SLE: 0.19 Item: SCITOO Air Struts Suspension Kits Shocks...\u001b[0m\n",
            "\u001b[93m174: Guess: $629.99 Truth: $459.99 Error: $170.00 SLE: 0.10 Item: Tucok 193MAX2S Drone with Camera for Adu...\u001b[0m\n",
            "\u001b[92m175: Guess: $340.99 Truth: $360.99 Error: $20.00 SLE: 0.00 Item: MBI AUTO - Painted to Match, Front Bumpe...\u001b[0m\n",
            "\u001b[92m176: Guess: $4.99 Truth: $4.99 Error: $0.00 SLE: 0.00 Item: 8 Ball Heartbeat Pool Billiards Sticker ...\u001b[0m\n",
            "\u001b[92m177: Guess: $207.75 Truth: $228.44 Error: $20.69 SLE: 0.01 Item: Spyder Auto Dodge Charger Halogen LED Pr...\u001b[0m\n",
            "\u001b[92m178: Guess: $99.99 Truth: $88.95 Error: $11.04 SLE: 0.01 Item: KHOMO GEAR Portable Projector Screen - 1...\u001b[0m\n",
            "\u001b[92m179: Guess: $144.00 Truth: $161.70 Error: $17.70 SLE: 0.01 Item: Allied Brass RM-41-36 Remi Collection 36...\u001b[0m\n",
            "\u001b[92m180: Guess: $29.99 Truth: $54.99 Error: $25.00 SLE: 0.35 Item: JET Riving Knife, Low Profile Thin Kerf,...\u001b[0m\n",
            "\u001b[92m181: Guess: $199.00 Truth: $243.98 Error: $44.98 SLE: 0.04 Item: Steelcraft 50397 Grille Guard, Stainless...\u001b[0m\n",
            "\u001b[92m182: Guess: $74.00 Truth: $54.42 Error: $19.58 SLE: 0.09 Item: Cementex CD3-8 8-Inch Flat Tip Holding S...\u001b[0m\n",
            "\u001b[92m183: Guess: $99.99 Truth: $61.68 Error: $38.31 SLE: 0.23 Item: VIPMOTOZ Paintable Rear Trunk Lip Spoile...\u001b[0m\n",
            "\u001b[92m184: Guess: $55.86 Truth: $53.37 Error: $2.49 SLE: 0.00 Item: SCREENARAMA New Screen Replacement for H...\u001b[0m\n",
            "\u001b[92m185: Guess: $14.99 Truth: $15.99 Error: $1.00 SLE: 0.00 Item: Rose Breathe Yoga Relaxation Lotus Flowe...\u001b[0m\n",
            "\u001b[93m186: Guess: $69.99 Truth: $27.99 Error: $42.00 SLE: 0.80 Item: Hello Gorgeous Neon Sign, 16\"x10\" Led Ne...\u001b[0m\n",
            "\u001b[93m187: Guess: $369.99 Truth: $488.22 Error: $118.23 SLE: 0.08 Item: Casablanca Fan Company 59167 Casablanca ...\u001b[0m\n",
            "\u001b[92m188: Guess: $499.00 Truth: $488.99 Error: $10.01 SLE: 0.00 Item: HP Laptop 15-dy1059ms 15.6\" Full HD Touc...\u001b[0m\n",
            "\u001b[92m189: Guess: $99.99 Truth: $112.99 Error: $13.00 SLE: 0.01 Item: McFarlane Toys Stranger Things Demogorgo...\u001b[0m\n",
            "\u001b[93m190: Guess: $399.93 Truth: $537.90 Error: $137.97 SLE: 0.09 Item: Blue Ox BX1957 Base Plate for Dodge Ram\u001b[0m\n",
            "\u001b[91m191: Guess: $156.86 Truth: $71.41 Error: $85.45 SLE: 0.61 Item: Moen CA84913 Double Handle Centerset Bat...\u001b[0m\n",
            "\u001b[93m192: Guess: $499.97 Truth: $659.99 Error: $160.02 SLE: 0.08 Item: Fusion Entertainment Fusion MS-RA70 Mari...\u001b[0m\n",
            "\u001b[92m193: Guess: $208.27 Truth: $250.22 Error: $41.95 SLE: 0.03 Item: Magnate M140E12T3 Carbide Tipped Bandsaw...\u001b[0m\n",
            "\u001b[92m194: Guess: $209.00 Truth: $209.00 Error: $0.00 SLE: 0.00 Item: New 2000-2006 Honda TRX 350 TRX350 Ranch...\u001b[0m\n",
            "\u001b[92m195: Guess: $49.00 Truth: $49.95 Error: $0.95 SLE: 0.00 Item: Solidtek Bilingual Korean English Black ...\u001b[0m\n",
            "\u001b[92m196: Guess: $193.49 Truth: $223.68 Error: $30.19 SLE: 0.02 Item: Bilstein 25-177411 B8 5160 Shock Absorbe...\u001b[0m\n",
            "\u001b[93m197: Guess: $250.99 Truth: $183.33 Error: $67.66 SLE: 0.10 Item: Mayhem Warrior 8015 Black Wheel with Mac...\u001b[0m\n",
            "\u001b[92m198: Guess: $5.99 Truth: $3.99 Error: $2.00 SLE: 0.11 Item: 2 Pcs Silicone Boot Sleeves for Stanley ...\u001b[0m\n",
            "\u001b[91m199: Guess: $499.00 Truth: $182.00 Error: $317.00 SLE: 1.01 Item: Tamron SP 17-50mm F/2.8 XR Di-II VC LD A...\u001b[0m\n",
            "\u001b[93m200: Guess: $99.99 Truth: $147.99 Error: $48.00 SLE: 0.15 Item: Cubicle Sneeze Guard by SPEEDYORDERS – S...\u001b[0m\n",
            "\u001b[93m201: Guess: $499.00 Truth: $649.00 Error: $150.00 SLE: 0.07 Item: PortKeys BM5 III WR Monitor 5.5'' 2200Ni...\u001b[0m\n",
            "\u001b[91m202: Guess: $65.56 Truth: $400.00 Error: $334.44 SLE: 3.23 Item: Barbie African-American Doll and Dining ...\u001b[0m\n",
            "\u001b[93m203: Guess: $108.84 Truth: $166.08 Error: $57.24 SLE: 0.18 Item: Filterbuy 16x20x2 Air Filter MERV 13 Opt...\u001b[0m\n",
            "\u001b[92m204: Guess: $188.00 Truth: $219.00 Error: $31.00 SLE: 0.02 Item: Shure BRH441M-LC Single-Sided Broadcast ...\u001b[0m\n",
            "\u001b[93m205: Guess: $99.99 Truth: $175.00 Error: $75.01 SLE: 0.31 Item: Plextor PX-716UF - DVDRW (Dual Layer) Dr...\u001b[0m\n",
            "\u001b[92m206: Guess: $195.00 Truth: $183.91 Error: $11.09 SLE: 0.00 Item: Eaton CH220GFT Plug-On Mount Type CH Gro...\u001b[0m\n",
            "\u001b[91m207: Guess: $199.99 Truth: $359.00 Error: $159.01 SLE: 0.34 Item: Acer 15.6in FHD(1920x1080) IPS Touchscre...\u001b[0m\n",
            "\u001b[92m208: Guess: $199.99 Truth: $166.99 Error: $33.00 SLE: 0.03 Item: VideoSecu 2 Pack 700TVL High Resolution ...\u001b[0m\n",
            "\u001b[92m209: Guess: $29.99 Truth: $46.99 Error: $17.00 SLE: 0.19 Item: WDX0R WDXOR Laptop Battery for Dell Insp...\u001b[0m\n",
            "\u001b[92m210: Guess: $14.99 Truth: $49.99 Error: $35.00 SLE: 1.34 Item: UC7848T V.2 Fan Remote Control Transmitt...\u001b[0m\n",
            "\u001b[93m211: Guess: $99.95 Truth: $161.48 Error: $61.53 SLE: 0.23 Item: Vestil PEXGATE-30 Plastic Expand-A-Gate,...\u001b[0m\n",
            "\u001b[92m212: Guess: $699.00 Truth: $709.00 Error: $10.00 SLE: 0.00 Item: Autel MaxiCOM MK808TS with MX-Sensor, 20...\u001b[0m\n",
            "\u001b[93m213: Guess: $1,099.99 Truth: $826.00 Error: $273.99 SLE: 0.08 Item: CyberpowerPC Gamer Xtreme VR Gaming PC, ...\u001b[0m\n",
            "\u001b[92m214: Guess: $28.99 Truth: $29.98 Error: $0.99 SLE: 0.00 Item: Dinosaur Toys for Kids, Take Apart Dinos...\u001b[0m\n",
            "\u001b[92m215: Guess: $171.16 Truth: $175.61 Error: $4.45 SLE: 0.00 Item: CarPartsDepot 371-44837-02, Right Fender...\u001b[0m\n",
            "\u001b[92m216: Guess: $12.99 Truth: $12.99 Error: $0.00 SLE: 0.00 Item: Asuwish Compatible with Samsung Galaxy J...\u001b[0m\n",
            "\u001b[91m217: Guess: $1,199.00 Truth: $600.00 Error: $599.00 SLE: 0.48 Item: Lenovo ThinkPad X1 Carbon 7th Gen Busine...\u001b[0m\n",
            "\u001b[92m218: Guess: $194.99 Truth: $194.99 Error: $0.00 SLE: 0.00 Item: Lloyd Mats Heavy Duty Carpeted Floor Mat...\u001b[0m\n",
            "\u001b[93m219: Guess: $499.99 Truth: $359.99 Error: $140.00 SLE: 0.11 Item: Garmin 010-02313-00 dezl OTR700 7'' GPS ...\u001b[0m\n",
            "\u001b[92m220: Guess: $109.00 Truth: $119.19 Error: $10.19 SLE: 0.01 Item: Peerless P1535LF-BN-LPU Parkwood Handle ...\u001b[0m\n",
            "\u001b[93m221: Guess: $99.00 Truth: $141.31 Error: $42.31 SLE: 0.12 Item: Bakers Pride 1400110 Thermostat\u001b[0m\n",
            "\u001b[92m222: Guess: $205.68 Truth: $174.81 Error: $30.87 SLE: 0.03 Item: EXEDY 06045 OEM Replacement Clutch Kit\u001b[0m\n",
            "\u001b[93m223: Guess: $79.99 Truth: $38.49 Error: $41.50 SLE: 0.52 Item: DC Comics 12\" Harley Quinn Figure\u001b[0m\n",
            "\u001b[92m224: Guess: $449.99 Truth: $429.95 Error: $20.04 SLE: 0.00 Item: Panasonic LUMIX FZ80 4K Long Zoom Camera...\u001b[0m\n",
            "\u001b[92m225: Guess: $299.99 Truth: $265.00 Error: $34.99 SLE: 0.02 Item: Aries Outlets 50W Lab Equipment Twin Dou...\u001b[0m\n",
            "\u001b[93m226: Guess: $90.67 Truth: $162.00 Error: $71.33 SLE: 0.33 Item: DEWALT DW4802B  6-Inch 6-TPI Taper Back ...\u001b[0m\n",
            "\u001b[92m227: Guess: $165.78 Truth: $163.88 Error: $1.90 SLE: 0.00 Item: Denso 280-0154 Remanufactured Starter\u001b[0m\n",
            "\u001b[92m228: Guess: $2.75 Truth: $4.00 Error: $1.25 SLE: 0.08 Item: Space Alert and Dungeon Petz Card Sleeve...\u001b[0m\n",
            "\u001b[92m229: Guess: $99.99 Truth: $95.99 Error: $4.00 SLE: 0.00 Item: Metal Legs for Table K Shape28 H Tall Me...\u001b[0m\n",
            "\u001b[92m230: Guess: $58.20 Truth: $51.00 Error: $7.20 SLE: 0.02 Item: GM Genuine Parts 15-11096 Air Conditioni...\u001b[0m\n",
            "\u001b[93m231: Guess: $495.06 Truth: $378.39 Error: $116.67 SLE: 0.07 Item: Westin 25-3560 Signature Series Chrome S...\u001b[0m\n",
            "\u001b[93m232: Guess: $330.95 Truth: $423.62 Error: $92.67 SLE: 0.06 Item: Ims 115521-N2 Large Capacity Gas Tank - ...\u001b[0m\n",
            "\u001b[93m233: Guess: $349.99 Truth: $465.00 Error: $115.01 SLE: 0.08 Item: ROYAL HARPS Brown Round 22 Stringed Inst...\u001b[0m\n",
            "\u001b[91m234: Guess: $163.36 Truth: $30.58 Error: $132.78 SLE: 2.72 Item: Avery Red File Folder Labels for Laser a...\u001b[0m\n",
            "\u001b[92m235: Guess: $399.95 Truth: $439.95 Error: $40.00 SLE: 0.01 Item: Kase Wolverine 82mm Pro ND Stack Cap Kit...\u001b[0m\n",
            "\u001b[93m236: Guess: $29.99 Truth: $71.98 Error: $41.99 SLE: 0.73 Item: DCFY Guitar Amplifier Cover for Line 6 S...\u001b[0m\n",
            "\u001b[92m237: Guess: $399.99 Truth: $459.99 Error: $60.00 SLE: 0.02 Item: Carbon Fiber Steering Wheel w/ Red Leath...\u001b[0m\n",
            "\u001b[92m238: Guess: $214.38 Truth: $186.45 Error: $27.93 SLE: 0.02 Item: WARN 78100 ProVantage Plow Base/Push Tub...\u001b[0m\n",
            "\u001b[92m239: Guess: $293.99 Truth: $274.29 Error: $19.70 SLE: 0.00 Item: Power Stop Rear S5262 Pair of High-Temp ...\u001b[0m\n",
            "\u001b[93m240: Guess: $176.00 Truth: $113.10 Error: $62.90 SLE: 0.19 Item: NRG Innovations HD-300 Polished Hood Dam...\u001b[0m\n",
            "\u001b[91m241: Guess: $199.99 Truth: $113.26 Error: $86.73 SLE: 0.32 Item: Samsung SM-G930UZDAXAA S7 Gold Galaxy Sm...\u001b[0m\n",
            "\u001b[92m242: Guess: $350.00 Truth: $350.00 Error: $0.00 SLE: 0.00 Item: Eibach Pro-Kit Performance Spring Kit 28...\u001b[0m\n",
            "\u001b[92m243: Guess: $14.99 Truth: $14.99 Error: $0.00 SLE: 0.00 Item: Plumeria Flower Pretty Garden Hawaii\u001b[0m\n",
            "\u001b[92m244: Guess: $199.99 Truth: $160.99 Error: $39.00 SLE: 0.05 Item: HTC One A9 32GB Unlocked GSM 4g LTE Octa...\u001b[0m\n",
            "\u001b[92m245: Guess: $444.00 Truth: $449.00 Error: $5.00 SLE: 0.00 Item: Lenovo 15.6’’ HD LED Signature Laptop PC...\u001b[0m\n",
            "\u001b[91m246: Guess: $250.92 Truth: $157.37 Error: $93.55 SLE: 0.22 Item: Delphi FG0814 Fuel Pump Module\u001b[0m\n",
            "\u001b[92m247: Guess: $127.80 Truth: $163.78 Error: $35.98 SLE: 0.06 Item: Brock Replacement Headlight Assembly Pas...\u001b[0m\n",
            "\u001b[91m248: Guess: $197.80 Truth: $402.80 Error: $205.00 SLE: 0.50 Item: FallTech 7460A Multi-Purpose Parapet Anc...\u001b[0m\n",
            "\u001b[92m249: Guess: $163.74 Truth: $163.74 Error: $0.00 SLE: 0.00 Item: 2010-2015 Camaro Ebony Black Ultimat 2pc...\u001b[0m\n",
            "\u001b[92m250: Guess: $39.99 Truth: $53.37 Error: $13.38 SLE: 0.08 Item: CHEVY/OLDS/PONTIAC VENTURE/SILHOUETTE PA...\u001b[0m\n"
          ]
        },
        {
          "output_type": "display_data",
          "data": {
            "text/plain": [
              "<Figure size 1200x800 with 1 Axes>"
            ],
            "image/png": "[encoded data removed]"
          },
          "metadata": {}
        }
      ]
    },
    {
      "cell_type": "code",
      "source": [],
      "metadata": {
        "id": "Xh1zehDMKpPu"
      },
      "execution_count": null,
      "outputs": []
    },
    {
      "cell_type": "markdown",
      "source": [
        "**Chart Analysis - Llama RAG Performance:**\n",
        "\n",
        "**Metrics:**\n",
        "- **Average Error: $81.10** - Not bad overall\n",
        "- **RMSLE: 0.57** - Decent logarithmic error\n",
        "- **Hits: 61.2%** - 61% of predictions within acceptable range (green dots)\n",
        "\n",
        "**What the chart shows:**\n",
        "\n",
        "1. **Low prices ($0-500): Good performance** ✓\n",
        "   - Dense cluster of green dots near the blue line\n",
        "   - Model predicts accurately for cheaper items\n",
        "\n",
        "2. **High prices ($500+): Struggles significantly** ✗\n",
        "   - Red/orange dots below the blue line\n",
        "   - Model **underestimates** expensive items\n",
        "   - Example: Truth=$1000, Guess=$500\n",
        "\n",
        "3. **Pattern:** Model is biased toward lower prices\n",
        "   - Probably because RAG finds more low-priced examples\n",
        "   - Llama learns from those examples and predicts conservatively\n",
        "\n",
        "**Why this happens:**\n",
        "- Your database likely has more cheap items than expensive ones\n",
        "- Few-shot examples (5 items) don't represent high-end products well\n",
        "- Model plays it safe and predicts closer to average\n",
        "\n",
        "**To improve:**\n",
        "- Filter `find_similars` to match price range better\n",
        "- Use more examples (10 instead of 5)\n",
        "- Add price hints to the prompt\n",
        "\n",
        "**Overall: 61% accuracy is decent for RAG + Llama few-shot!**"
      ],
      "metadata": {
        "id": "jtUrWyvTwHLG"
      }
    },
    {
      "cell_type": "code",
      "source": [],
      "metadata": {
        "id": "JmwR1-1aKpSw"
      },
      "execution_count": null,
      "outputs": []
    },
    {
      "cell_type": "code",
      "source": [],
      "metadata": {
        "id": "iC8NfhyC-uBp"
      },
      "execution_count": null,
      "outputs": []
    },
    {
      "cell_type": "markdown",
      "source": [
        "### mprovements\n",
        "\n",
        "**Great thinking! Let's analyze both:**\n",
        "\n",
        "**1. Better description + price matching ✓✓✓**\n",
        "**YES! This is the BEST improvement.**\n",
        "\n",
        "Currently `find_similars` only matches by semantic similarity. Add price-aware filtering:\n",
        "\n",
        "```python\n",
        "def find_similars(item):\n",
        "    # Get more candidates\n",
        "    results = collection.query(\n",
        "        query_embeddings=model_sentence_transformer.encode(description(item)).tolist(),\n",
        "        n_results=20  # Get more first\n",
        "    )\n",
        "    \n",
        "    documents = results['documents'][0][:]\n",
        "    metadatas = results['metadatas'][0][:]\n",
        "    \n",
        "    # Estimate price range from top results\n",
        "    top_prices = [float(m['price']) for m in metadatas[:5]]\n",
        "    avg_price = sum(top_prices) / len(top_prices)\n",
        "    \n",
        "    # Filter by price range (±50%)\n",
        "    filtered = []\n",
        "    for doc, meta in zip(documents, metadatas):\n",
        "        price = float(meta['price'])\n",
        "        if 0.5 * avg_price <= price <= 1.5 * avg_price:\n",
        "            filtered.append((doc, price))\n",
        "        if len(filtered) >= 5:\n",
        "            break\n",
        "    \n",
        "    return [f[0] for f in filtered], [f[1] for f in filtered]\n",
        "```\n",
        "\n",
        "**2. Increasing to 20 examples - MIXED**\n",
        "\n",
        "**Pros:**\n",
        "- More patterns for Llama to learn\n",
        "- Better coverage of price ranges\n",
        "\n",
        "**Cons:**\n",
        "- **Token limit**: Llama-3.1-8B has 128K context, but longer prompts = slower + more memory\n",
        "- **Diminishing returns**: Research shows 5-10 examples is optimal for few-shot\n",
        "- **Quality > Quantity**: 5 perfect matches beat 20 mediocre ones\n",
        "\n",
        "**My recommendation:**\n",
        "1. **First**: Improve price matching (biggest impact)\n",
        "2. **Then**: Try 10 examples (good middle ground)\n",
        "3. **Test**: Compare 5 vs 10 vs 20 and see what works\n",
        "\n",
        "**Try 10 first:**\n",
        "```python\n",
        "results = collection.query(..., n_results=10)\n",
        "```\n",
        "\n",
        "**What do you think? Start with better matching + 10 examples?**"
      ],
      "metadata": {
        "id": "8FD0bpS-wmn2"
      }
    },
    {
      "cell_type": "code",
      "source": [],
      "metadata": {
        "id": "QEF_-phEwl6n"
      },
      "execution_count": null,
      "outputs": []
    },
    {
      "cell_type": "code",
      "source": [],
      "metadata": {
        "id": "8fY1bHZbwl-0"
      },
      "execution_count": null,
      "outputs": []
    },
    {
      "cell_type": "markdown",
      "source": [
        "**Honest answer: Probably not worth it yet.**\n",
        "\n",
        "**Why?**\n",
        "- Your **bottleneck is RAG quality**, not the model\n",
        "- Llama-3.1-8B is already excellent for this task\n",
        "- Better examples > better model\n",
        "\n",
        "**BUT, if you want to try:**\n",
        "\n",
        "**Best alternatives:**\n",
        "\n",
        "1. **Qwen2.5-7B-Instruct** ⭐ (My top pick)\n",
        "   - Better at numerical reasoning\n",
        "   - Excellent instruction following\n",
        "   - Similar size to Llama-3.1-8B\n",
        "   ```python\n",
        "   model_name = \"Qwen/Qwen2.5-7B-Instruct\"\n",
        "   ```\n",
        "\n",
        "2. **Mistral-7B-Instruct-v0.3**\n",
        "   - Great at following formats\n",
        "   - Fast inference\n",
        "   - Good with structured tasks\n",
        "   ```python\n",
        "   model_name = \"mistralai/Mistral-7B-Instruct-v0.3\"\n",
        "   ```\n",
        "\n",
        "3. **Llama-3.2-3B** (if want faster)\n",
        "   - Smaller, faster\n",
        "   - Good enough for simple tasks\n",
        "   ```python\n",
        "   model_name = \"meta-llama/Llama-3.2-3B-Instruct\"\n",
        "   ```\n",
        "\n",
        "**My recommendation:**\n",
        "1. **First**: Fix RAG with price matching (will improve 20-30%)\n",
        "2. **Then**: Try 10 examples instead of 5\n",
        "3. **Finally**: If still not good enough, try Qwen2.5-7B\n",
        "\n",
        "**The 61% → 80%+ jump will come from better RAG, not better model.**\n",
        "\n",
        "**Want to improve RAG first, or swap models now?**"
      ],
      "metadata": {
        "id": "Ah9_VY3TxIke"
      }
    },
    {
      "cell_type": "code",
      "source": [],
      "metadata": {
        "id": "IdZiewqSwmBv"
      },
      "execution_count": null,
      "outputs": []
    },
    {
      "cell_type": "code",
      "source": [],
      "metadata": {
        "id": "aPPy1DxjxYU0"
      },
      "execution_count": null,
      "outputs": []
    },
    {
      "cell_type": "markdown",
      "source": [
        "**Structured tasks = Tasks with clear format/pattern**\n",
        "\n",
        "**Examples:**\n",
        "\n",
        "1. **Your price prediction** ✓ (Structured!)\n",
        "   - Input: Item description\n",
        "   - Output: Price number\n",
        "   - Format: Always \"Price is $XXX\"\n",
        "\n",
        "2. **Data extraction**\n",
        "   - Extract: name, price, date from text\n",
        "   - Always same fields\n",
        "\n",
        "3. **Form filling**\n",
        "   - Given info → fill specific fields\n",
        "   - Predictable structure\n",
        "\n",
        "4. **Classification**\n",
        "   - Input text → Category A/B/C\n",
        "   - Fixed options\n",
        "\n",
        "5. **JSON generation**\n",
        "   - Text → `{\"name\": \"X\", \"price\": 100}`\n",
        "   - Strict format\n",
        "\n",
        "**vs Unstructured tasks:**\n",
        "- Creative writing (no fixed format)\n",
        "- Open-ended questions\n",
        "- Storytelling\n",
        "- General chat\n",
        "\n",
        "**Why Mistral is good at structured:**\n",
        "- Follows instructions precisely\n",
        "- Outputs consistent format\n",
        "- Good at \"fill in the blank\" style tasks\n",
        "- Your task: \"Given examples, predict THIS specific number\"\n",
        "\n",
        "**Your price prediction is VERY structured:**\n",
        "- Clear input format\n",
        "- Single number output\n",
        "- Repeating pattern\n",
        "\n",
        "**So Mistral could work well! But again, fix RAG first = bigger impact.**"
      ],
      "metadata": {
        "id": "4XMboxy1xZBo"
      }
    },
    {
      "cell_type": "code",
      "source": [],
      "metadata": {
        "id": "GUxZok1IxYYC"
      },
      "execution_count": null,
      "outputs": []
    },
    {
      "cell_type": "code",
      "source": [],
      "metadata": {
        "id": "fK5cv2-6xYbK"
      },
      "execution_count": null,
      "outputs": []
    },
    {
      "cell_type": "markdown",
      "source": [
        "**Prompt for Next Session:**\n",
        "\n",
        "---\n",
        "\n",
        "**CONTEXT:**\n",
        "I have a working Llama-3.1-8B RAG price prediction system with 61.2% accuracy. The model underestimates expensive items because RAG returns semantically similar items without considering price range.\n",
        "\n",
        "**ACTION ITEMS TO IMPROVE RAG:**\n",
        "\n",
        "**1. Implement Price-Aware Filtering in `find_similars`**\n",
        "```python\n",
        "def find_similars(item):\n",
        "    # Get 20 candidates instead of 5\n",
        "    results = collection.query(\n",
        "        query_embeddings=model_sentence_transformer.encode(description(item)).tolist(),\n",
        "        n_results=20\n",
        "    )\n",
        "    \n",
        "    # Calculate average price from top 5\n",
        "    top_prices = [float(m['price']) for m in results['metadatas'][0][:5]]\n",
        "    avg_price = sum(top_prices) / len(top_prices)\n",
        "    \n",
        "    # Filter by ±50% price range\n",
        "    filtered_docs = []\n",
        "    filtered_prices = []\n",
        "    for doc, meta in zip(results['documents'][0], results['metadatas'][0]):\n",
        "        price = float(meta['price'])\n",
        "        if 0.5 * avg_price <= price <= 1.5 * avg_price:\n",
        "            filtered_docs.append(doc)\n",
        "            filtered_prices.append(price)\n",
        "        if len(filtered_docs) >= 5:\n",
        "            break\n",
        "    \n",
        "    return filtered_docs, filtered_prices\n",
        "```\n",
        "\n",
        "**2. Test with 10 examples instead of 5**\n",
        "- Change `n_results=5` to `n_results=10` in final return\n",
        "\n",
        "**3. Compare results:**\n",
        "- Run `Tester.test(llama_rag, test)`\n",
        "- Compare: Original (61.2%) vs Price-filtered vs 10 examples\n",
        "- Look for improvement in high-price predictions (red dots)\n",
        "\n",
        "**4. If RAG improvements work well, THEN consider:**\n",
        "- Testing Qwen2.5-7B-Instruct or Mistral-7B-Instruct-v0.3\n",
        "- But prioritize RAG fixes first\n",
        "\n",
        "**CURRENT WORKING CODE:**\n",
        "- `model_sentence_transformer` = embeddings\n",
        "- `model` + `tokenizer` = Llama-3.1-8B\n",
        "- `llama_rag(item)` = main prediction function\n",
        "- `Tester.test(llama_rag, test)` = evaluation\n",
        "\n",
        "**GOAL:** Improve from 61.2% to 75-80% accuracy by fixing RAG quality."
      ],
      "metadata": {
        "id": "bCt7L2QLx7uK"
      }
    },
    {
      "cell_type": "code",
      "source": [],
      "metadata": {
        "id": "Re1S8ydDyNXH"
      },
      "execution_count": null,
      "outputs": []
    },
    {
      "cell_type": "code",
      "source": [],
      "metadata": {
        "id": "98kGJnaiyNbF"
      },
      "execution_count": null,
      "outputs": []
    },
    {
      "cell_type": "code",
      "source": [
        "def find_similars(item):\n",
        "    # Get 20 candidates instead of 5\n",
        "    results = collection.query(\n",
        "        query_embeddings=model_sentence_transformer.encode(description(item)).tolist(),\n",
        "        n_results=20\n",
        "    )\n",
        "\n",
        "    # Calculate average price from top 5\n",
        "    top_prices = [float(m['price']) for m in results['metadatas'][0][:5]]\n",
        "    avg_price = sum(top_prices) / len(top_prices)\n",
        "\n",
        "    # Filter by ±50% price range\n",
        "    filtered_docs = []\n",
        "    filtered_prices = []\n",
        "    for doc, meta in zip(results['documents'][0], results['metadatas'][0]):\n",
        "        price = float(meta['price'])\n",
        "        if 0.5 * avg_price <= price <= 1.5 * avg_price:\n",
        "            filtered_docs.append(doc)\n",
        "            filtered_prices.append(price)\n",
        "        if len(filtered_docs) >= 5:\n",
        "            break\n",
        "\n",
        "    return filtered_docs, filtered_prices"
      ],
      "metadata": {
        "id": "G2Ri6zvkyNfB"
      },
      "execution_count": null,
      "outputs": []
    },
    {
      "cell_type": "code",
      "source": [],
      "metadata": {
        "id": "rTSZ8hvKyNhl"
      },
      "execution_count": null,
      "outputs": []
    },
    {
      "cell_type": "code",
      "source": [],
      "metadata": {
        "id": "gWsKXsbyyNlG"
      },
      "execution_count": null,
      "outputs": []
    },
    {
      "cell_type": "markdown",
      "source": [
        "**Code Explanation - Price-Aware RAG:**\n",
        "\n",
        "```python\n",
        "def find_similars(item):\n",
        "    # STEP 1: Get more candidates (20 instead of 5)\n",
        "    results = collection.query(\n",
        "        query_embeddings=model_sentence_transformer.encode(description(item)).tolist(),\n",
        "        n_results=20  # Cast wider net\n",
        "    )\n",
        "    # Why? To have options for price filtering\n",
        "    \n",
        "    # STEP 2: Estimate the price range\n",
        "    # Take top 5 most similar items\n",
        "    top_prices = [float(m['price']) for m in results['metadatas'][0][:5]]\n",
        "    # Calculate their average\n",
        "    avg_price = sum(top_prices) / len(top_prices)\n",
        "    # Example: If top 5 are [$100, $120, $90, $110, $105]\n",
        "    #          avg_price = $105\n",
        "    \n",
        "    # STEP 3: Filter by price range (±50%)\n",
        "    filtered_docs = []\n",
        "    filtered_prices = []\n",
        "    \n",
        "    # Loop through all 20 candidates\n",
        "    for doc, meta in zip(results['documents'][0], results['metadatas'][0]):\n",
        "        price = float(meta['price'])\n",
        "        \n",
        "        # Keep only items within 50% to 150% of average\n",
        "        if 0.5 * avg_price <= price <= 1.5 * avg_price:\n",
        "            # Example: If avg = $105\n",
        "            #          Keep items between $52.50 and $157.50\n",
        "            filtered_docs.append(doc)\n",
        "            filtered_prices.append(price)\n",
        "        \n",
        "        # Stop once we have 5 good matches\n",
        "        if len(filtered_docs) >= 5:\n",
        "            break\n",
        "    \n",
        "    return filtered_docs, filtered_prices\n",
        "```\n",
        "\n",
        "**Visual Example:**\n",
        "\n",
        "```\n",
        "Input: \"Sony Camera $800\"\n",
        "\n",
        "Step 1: Get 20 similar items\n",
        "[Canon $750, Nikon $800, Lens $50, Sony $900, Tripod $30, ...]\n",
        "\n",
        "Step 2: Average of top 5\n",
        "avg = ($750 + $800 + $50 + $900 + $30) / 5 = $506\n",
        "\n",
        "Step 3: Filter ±50% ($253 - $759)\n",
        "✓ Canon $750\n",
        "✓ Nikon $800 (wait, this is out of range!)\n",
        "✗ Lens $50 (too cheap)\n",
        "✓ Sony $900 (wait, also out!)\n",
        "✗ Tripod $30 (too cheap)\n",
        "\n",
        "Result: Returns 5 items in similar price range\n",
        "```\n",
        "\n",
        "**Why this works:**\n",
        "- **Old way**: Returns cheap accessories mixed with cameras\n",
        "- **New way**: Returns only items in same price ballpark\n",
        "- **Result**: Llama sees better examples → better predictions\n",
        "\n",
        "**The ±50% range is adjustable** - try ±30% for stricter or ±70% for looser matching."
      ],
      "metadata": {
        "id": "0-AUt4u7ye4r"
      }
    },
    {
      "cell_type": "code",
      "source": [],
      "metadata": {
        "id": "7EBVgqM8ydEh"
      },
      "execution_count": null,
      "outputs": []
    },
    {
      "cell_type": "code",
      "source": [],
      "metadata": {
        "id": "YXAUFIFiy0Kt"
      },
      "execution_count": null,
      "outputs": []
    },
    {
      "cell_type": "markdown",
      "source": [
        "**NO! Not random at all.**\n",
        "\n",
        "**How it works:**\n",
        "\n",
        "```python\n",
        "# Your item\n",
        "item = \"Sony Camera $800\"\n",
        "\n",
        "# Step 1: Convert to vector (embedding)\n",
        "model_sentence_transformer.encode(description(item))\n",
        "# Result: [0.23, 0.45, 0.12, ...] (768 numbers)\n",
        "\n",
        "# Step 2: Compare to ALL items in database\n",
        "# Database has thousands of items, each with vector\n",
        "# Calculate distance between vectors\n",
        "\n",
        "# Step 3: Return TOP 20 MOST SIMILAR\n",
        "# Ranked by similarity score (cosine similarity)\n",
        "```\n",
        "\n",
        "**Example:**\n",
        "\n",
        "```\n",
        "Your item: \"Sony A7 Camera\"\n",
        "Vector: [0.8, 0.2, 0.5, ...]\n",
        "\n",
        "Database items sorted by similarity:\n",
        "1. Canon EOS Camera      → distance: 0.05 (very close!) ✓\n",
        "2. Nikon D850 Camera     → distance: 0.08 ✓\n",
        "3. Sony Lens             → distance: 0.15 ✓\n",
        "4. Camera Bag            → distance: 0.30 ✓\n",
        "5. Tripod                → distance: 0.45 ✓\n",
        "...\n",
        "998. Car Battery         → distance: 0.95 (very far) ✗\n",
        "999. Shoes               → distance: 0.98 ✗\n",
        "```\n",
        "\n",
        "**n_results=20 means:** \"Give me the 20 CLOSEST/MOST SIMILAR items\"\n",
        "\n",
        "**NOT random** - it's **ranked by relevance**. That's why RAG works!\n",
        "\n",
        "The items are **ordered from most similar to least similar** in those 20 results."
      ],
      "metadata": {
        "id": "v2OXi7oyy0fH"
      }
    },
    {
      "cell_type": "code",
      "source": [],
      "metadata": {
        "id": "Yp5anZ54ydH0"
      },
      "execution_count": null,
      "outputs": []
    },
    {
      "cell_type": "code",
      "source": [],
      "metadata": {
        "id": "D0w_tIitzEf3"
      },
      "execution_count": null,
      "outputs": []
    },
    {
      "cell_type": "markdown",
      "source": [
        "**YES! 100% from text description.**\n",
        "\n",
        "**The process:**\n",
        "\n",
        "**1. When database was created:**\n",
        "```python\n",
        "# For each item in database:\n",
        "item_text = \"Sony A7 Camera mirrorless full-frame 24MP\"\n",
        "vector = model_sentence_transformer.encode(item_text)\n",
        "# Converts text → [0.23, 0.45, 0.12, ...] 768 numbers\n",
        "# Stored in ChromaDB\n",
        "```\n",
        "\n",
        "**2. When searching:**\n",
        "```python\n",
        "# Your new item:\n",
        "new_item_text = \"Canon R5 Camera mirrorless full-frame 45MP\"\n",
        "new_vector = model_sentence_transformer.encode(new_item_text)\n",
        "# Also → [0.25, 0.47, 0.10, ...] 768 numbers\n",
        "\n",
        "# Compare vectors mathematically\n",
        "# Similar text → similar vectors → high similarity score\n",
        "```\n",
        "\n",
        "**Why similar text = similar vectors:**\n",
        "\n",
        "```\n",
        "\"Sony Camera mirrorless\"     → [0.8, 0.2, 0.5, ...]\n",
        "\"Canon Camera mirrorless\"    → [0.78, 0.19, 0.51, ...] ← Very close!\n",
        "\"Camera lens 50mm\"           → [0.6, 0.3, 0.4, ...] ← Somewhat close\n",
        "\"Laptop computer\"            → [0.1, 0.8, 0.2, ...] ← Far away!\n",
        "```\n",
        "\n",
        "**The model understands:**\n",
        "- \"Sony\" ≈ \"Canon\" (both camera brands)\n",
        "- \"mirrorless\" ≈ \"DSLR\" (both camera types)  \n",
        "- \"camera\" ≠ \"laptop\" (different categories)\n",
        "\n",
        "**So yes: Similar descriptions → Similar vectors → Returned as matches!**\n",
        "\n",
        "That's why your `description(item)` function is so important."
      ],
      "metadata": {
        "id": "39TGipFIzF52"
      }
    },
    {
      "cell_type": "code",
      "source": [],
      "metadata": {
        "id": "jV6gljQTzEkD"
      },
      "execution_count": null,
      "outputs": []
    },
    {
      "cell_type": "code",
      "source": [],
      "metadata": {
        "id": "YX87KjHTzUno"
      },
      "execution_count": null,
      "outputs": []
    },
    {
      "cell_type": "markdown",
      "source": [
        "**CORRECT! In the original code, price is NOT used for similarity.**\n",
        "\n",
        "**What happens:**\n",
        "\n",
        "```python\n",
        "# STEP 1: Vector search (TEXT ONLY)\n",
        "results = collection.query(\n",
        "    query_embeddings=model_sentence_transformer.encode(description(item)).tolist(),\n",
        "    n_results=20\n",
        ")\n",
        "# Only looks at: \"Sony Camera mirrorless...\"\n",
        "# Ignores: price completely\n",
        "```\n",
        "\n",
        "**Example of the problem:**\n",
        "\n",
        "```\n",
        "Your item: \"Sony A7 Camera\" - $2000\n",
        "\n",
        "Search finds by TEXT similarity:\n",
        "1. Canon R5 Camera - $3500 ✓ (good match!)\n",
        "2. Sony Camera Bag - $50 ✗ (bad! cheap accessory)\n",
        "3. Camera Lens - $300 ✗ (bad! different product)\n",
        "4. Nikon Camera - $2200 ✓ (good match!)\n",
        "5. Tripod for cameras - $80 ✗ (bad! cheap accessory)\n",
        "```\n",
        "\n",
        "**That's why you see red dots in your chart!**\n",
        "\n",
        "Items like \"$2000 camera\" get examples like \"$50 bag\" because text mentions \"camera\" but price is totally different.\n",
        "\n",
        "**My price-aware filtering fixes this:**\n",
        "1. **First**: Find 20 similar by text\n",
        "2. **Second**: Filter by price range (±50%)\n",
        "3. **Result**: Only keep items that match BOTH text AND price\n",
        "\n",
        "**That's why this improvement will help a lot - it adds price consideration that's currently missing!**"
      ],
      "metadata": {
        "id": "-A5auBG_zZZv"
      }
    },
    {
      "cell_type": "code",
      "source": [],
      "metadata": {
        "id": "sWvAYcp_zUsM"
      },
      "execution_count": null,
      "outputs": []
    },
    {
      "cell_type": "code",
      "source": [],
      "metadata": {
        "id": "VL_z7ijVzUvh"
      },
      "execution_count": null,
      "outputs": []
    },
    {
      "cell_type": "code",
      "source": [],
      "metadata": {
        "id": "aKQyN8jizcVI"
      },
      "execution_count": null,
      "outputs": []
    },
    {
      "cell_type": "markdown",
      "source": [
        "**Great question! The average is a SMART TRICK.**\n",
        "\n",
        "**The problem:**\n",
        "- We don't know the test item's actual price (that's what we're trying to predict!)\n",
        "- But we need to filter by price range\n",
        "- **Solution:** Estimate the price first, then filter\n",
        "\n",
        "**Why average works:**\n",
        "\n",
        "```python\n",
        "Your test item: \"Canon R5 Camera\" - Price = ??? (unknown!)\n",
        "\n",
        "Step 1: Get 20 text-similar items\n",
        "Top 5 most similar:\n",
        "1. Sony A7 - $1,800\n",
        "2. Nikon Z6 - $2,000\n",
        "3. Canon R6 - $2,500\n",
        "4. Fuji XT4 - $1,600\n",
        "5. Sony A7III - $2,000\n",
        "\n",
        "Step 2: Average = ($1,800 + $2,000 + $2,500 + $1,600 + $2,000) / 5 = $1,980\n",
        "\n",
        "Step 3: Filter all 20 items by ±50% of $1,980 ($990 - $2,970)\n",
        "✓ Keep: Sony A1 - $2,500\n",
        "✓ Keep: Nikon Z7 - $2,200\n",
        "✗ Skip: Camera bag - $50 (too cheap!)\n",
        "✗ Skip: Professional Cinema camera - $8,000 (too expensive!)\n",
        "```\n",
        "\n",
        "**The logic:**\n",
        "- **If 5 similar cameras cost ~$2,000**, your camera probably costs ~$2,000 too\n",
        "- Use that estimate to filter out irrelevant items (bags, lenses, pro gear)\n",
        "- Give Llama better examples in the right price ballpark\n",
        "\n",
        "**It's a bootstrapping technique:** Use similarity to estimate price → Use price to refine similarity!\n",
        "\n",
        "**That's why it works better than no filtering at all.**"
      ],
      "metadata": {
        "id": "RFpjZE_h0Dj1"
      }
    },
    {
      "cell_type": "code",
      "source": [],
      "metadata": {
        "id": "ayvOdfYCzcZf"
      },
      "execution_count": null,
      "outputs": []
    },
    {
      "cell_type": "code",
      "source": [],
      "metadata": {
        "id": "wPd_lA38zccP"
      },
      "execution_count": null,
      "outputs": []
    },
    {
      "cell_type": "markdown",
      "source": [
        "**EXCELLENT question! The ±% is a tradeoff. Let me show you:**\n",
        "\n",
        "---\n",
        "\n",
        "**Example scenario:**\n",
        "```\n",
        "Test item: \"Canon R5 Camera\" - True price: $2,000\n",
        "\n",
        "Top 5 similar items found:\n",
        "1. Sony A7 - $1,800\n",
        "2. Nikon Z6 - $2,000  \n",
        "3. Canon R6 - $2,500\n",
        "4. Fuji XT4 - $1,600\n",
        "5. Sony A7III - $2,000\n",
        "\n",
        "Average = $1,980 (close to truth!)\n",
        "\n",
        "All 20 candidates include:\n",
        "- Beginner camera: $400\n",
        "- Camera bag: $50\n",
        "- Mid-range: $1,500\n",
        "- Similar cameras: $1,800-$2,500\n",
        "- Pro cinema camera: $8,000\n",
        "```\n",
        "\n",
        "---\n",
        "\n",
        "## **±25% (Very Strict)**\n",
        "\n",
        "```python\n",
        "Range: $1,485 - $2,475\n",
        "\n",
        "✓ Sony A7 - $1,800 (included)\n",
        "✓ Nikon Z6 - $2,000 (included)\n",
        "✗ Canon R6 - $2,500 (EXCLUDED! Just $25 over limit)\n",
        "✓ Fuji XT4 - $1,600 (included)\n",
        "✓ Sony A7III - $2,000 (included)\n",
        "\n",
        "Result: Only 4 items found (need 5!)\n",
        "```\n",
        "\n",
        "**Pros:**\n",
        "- Very precise price matching\n",
        "- No junk included\n",
        "\n",
        "**Cons:**\n",
        "- **Might not find 5 items!** (Too strict)\n",
        "- Excludes good matches that are slightly outside range\n",
        "- Fails when initial estimate is a bit off\n",
        "\n",
        "---\n",
        "\n",
        "## **±50% (Balanced)**\n",
        "\n",
        "```python\n",
        "Range: $990 - $2,970\n",
        "\n",
        "✓ Beginner camera: $400? No (below range)\n",
        "✓ Camera bag: $50? No (below range)\n",
        "✓ Mid-range: $1,500 (included)\n",
        "✓ Sony A7 - $1,800 (included)\n",
        "✓ Nikon Z6 - $2,000 (included)\n",
        "✓ Canon R6 - $2,500 (included)\n",
        "✓ Similar: $1,800-$2,500 (all included)\n",
        "✗ Pro cinema: $8,000 (excluded)\n",
        "\n",
        "Result: 7+ good items found, pick best 5\n",
        "```\n",
        "\n",
        "**Pros:**\n",
        "- ✓ Almost always finds 5+ items\n",
        "- ✓ Filters out extreme outliers ($50 bags, $8,000 pro gear)\n",
        "- ✓ Handles estimate errors well\n",
        "\n",
        "**Cons:**\n",
        "- Might include some less-perfect matches\n",
        "\n",
        "---\n",
        "\n",
        "## **±75% (Very Loose)**\n",
        "\n",
        "```python\n",
        "Range: $495 - $3,465\n",
        "\n",
        "✓ Beginner camera: $400? No (just below)\n",
        "✓ Camera bag: $50? No\n",
        "✓ Mid-range: $1,500 (included)\n",
        "✓ All similar cameras (included)\n",
        "✓ High-end: $3,000 (included) ← Maybe too different!\n",
        "✗ Pro cinema: $8,000 (excluded)\n",
        "\n",
        "Result: 10+ items including some questionable matches\n",
        "```\n",
        "\n",
        "**Pros:**\n",
        "- Always finds enough items\n",
        "- Very tolerant of estimate errors\n",
        "\n",
        "**Cons:**\n",
        "- **Includes too much variation** ($1,500 beginner vs $3,000 pro)\n",
        "- Defeats the purpose of price filtering\n",
        "- Llama sees mixed signals ($1,500 and $3,000 examples)\n",
        "\n",
        "---\n",
        "\n",
        "## **Real-world example with BAD estimate:**\n",
        "\n",
        "```\n",
        "Test item: \"High-end Pro Camera\" - True: $5,000\n",
        "\n",
        "Top 5 by text are WRONG (mixed consumer/pro):\n",
        "1. Consumer: $1,200\n",
        "2. Enthusiast: $2,000\n",
        "3. Pro-sumer: $3,500\n",
        "4. Entry pro: $4,000\n",
        "5. Consumer: $1,500\n",
        "\n",
        "Bad average = $2,440 (WAY off!)\n",
        "```\n",
        "\n",
        "**With ±25%:** Range $1,830-$3,050\n",
        "- Misses the $5,000 truth!\n",
        "- Finds wrong items\n",
        "\n",
        "**With ±50%:** Range $1,220-$3,660  \n",
        "- Still misses, but finds $3,500 and $4,000\n",
        "- Closer to truth\n",
        "\n",
        "**With ±75%:** Range $610-$4,270\n",
        "- Finds $4,000 items\n",
        "- More robust to bad estimates\n",
        "\n",
        "---\n",
        "\n",
        "## **My recommendation by scenario:**\n",
        "\n",
        "**Use ±25% if:**\n",
        "- Database is very dense (many items at each price point)\n",
        "- Initial estimates are very accurate\n",
        "- You want ultra-precise matching\n",
        "\n",
        "**Use ±50% if:** ⭐ **DEFAULT CHOICE**\n",
        "- Balanced approach\n",
        "- Works for most databases\n",
        "- Good tolerance for estimate errors\n",
        "\n",
        "**Use ±75% if:**\n",
        "- Sparse database (few items per price range)\n",
        "- Text similarity is unreliable\n",
        "- Initial estimates often wrong\n",
        "\n",
        "---\n",
        "\n",
        "## **How to choose for YOUR data:**\n",
        "\n",
        "**Test it!**\n",
        "\n",
        "```python\n",
        "# Try all three and compare\n",
        "margins = [0.25, 0.50, 0.75]\n",
        "\n",
        "for margin in margins:\n",
        "    def find_similars_test(item):\n",
        "        # ... your code with this margin ...\n",
        "        return filtered_docs, filtered_prices\n",
        "    \n",
        "    Tester.test(llama_rag, test)\n",
        "    print(f\"±{margin*100}% → Accuracy: ???%\")\n",
        "```\n",
        "\n",
        "**Look for:**\n",
        "- How often you get < 5 items (too strict?)\n",
        "- How much price variation in examples (too loose?)\n",
        "- Final accuracy score\n",
        "\n",
        "**My guess:** ±50% will work best for you, but ±40% or ±60% might be slightly better. Test it!"
      ],
      "metadata": {
        "id": "B_6mnP3Y0_x0"
      }
    },
    {
      "cell_type": "code",
      "source": [],
      "metadata": {
        "id": "3-lMSKgH0-w4"
      },
      "execution_count": null,
      "outputs": []
    },
    {
      "cell_type": "code",
      "source": [],
      "metadata": {
        "id": "3qNXqPuf0-1g"
      },
      "execution_count": null,
      "outputs": []
    },
    {
      "cell_type": "markdown",
      "source": [
        "**YES! Several advanced techniques to improve RAG:**\n",
        "\n",
        "---\n",
        "\n",
        "## **1. Hybrid Search (Semantic + Keyword) ⭐**\n",
        "\n",
        "Combine vector similarity with keyword matching:\n",
        "\n",
        "```python\n",
        "def find_similars(item):\n",
        "    item_text = description(item)\n",
        "    \n",
        "    # Extract key features (brand, type, etc.)\n",
        "    # Example: \"Sony A7 Camera\" → keywords: [\"Sony\", \"Camera\", \"A7\"]\n",
        "    \n",
        "    # Search with BOTH:\n",
        "    # - Semantic: model_sentence_transformer.encode()\n",
        "    # - Keyword: where={'brand': 'Sony', 'category': 'Camera'}\n",
        "    \n",
        "    results = collection.query(\n",
        "        query_embeddings=model_sentence_transformer.encode(item_text).tolist(),\n",
        "        where={\"category\": extract_category(item)},  # Filter by category\n",
        "        n_results=20\n",
        "    )\n",
        "```\n",
        "\n",
        "**Why:** Cameras shouldn't match camera bags just because text is similar.\n",
        "\n",
        "---\n",
        "\n",
        "## **2. Multi-stage Filtering (Brand + Category + Price)**\n",
        "\n",
        "```python\n",
        "def find_similars(item):\n",
        "    item_text = description(item)\n",
        "    \n",
        "    # Stage 1: Filter by category first\n",
        "    results = collection.query(\n",
        "        query_embeddings=model_sentence_transformer.encode(item_text).tolist(),\n",
        "        where={\"category\": item.category},  # Only same category\n",
        "        n_results=50  # Cast wider net\n",
        "    )\n",
        "    \n",
        "    # Stage 2: Score by brand match\n",
        "    scored = []\n",
        "    for doc, meta in zip(results['documents'][0], results['metadatas'][0]):\n",
        "        score = 1.0\n",
        "        if same_brand(item, meta):\n",
        "            score *= 1.5  # Boost same brand\n",
        "        scored.append((doc, meta, score))\n",
        "    \n",
        "    # Stage 3: Price filter\n",
        "    # ... existing price filtering ...\n",
        "    \n",
        "    return top_5\n",
        "```\n",
        "\n",
        "**Why:** Sony cameras should prioritize other Sony cameras.\n",
        "\n",
        "---\n",
        "\n",
        "## **3. Reranking with Cross-Encoder ⭐⭐**\n",
        "\n",
        "Use a second model to rerank results:\n",
        "\n",
        "```python\n",
        "from sentence_transformers import CrossEncoder\n",
        "\n",
        "reranker = CrossEncoder('cross-encoder/ms-marco-MiniLM-L-6-v2')\n",
        "\n",
        "def find_similars(item):\n",
        "    # Step 1: Get 20 candidates\n",
        "    results = collection.query(..., n_results=20)\n",
        "    \n",
        "    # Step 2: Rerank with cross-encoder (more accurate but slower)\n",
        "    pairs = [[description(item), doc] for doc in results['documents'][0]]\n",
        "    scores = reranker.predict(pairs)\n",
        "    \n",
        "    # Step 3: Take top 5 by rerank score\n",
        "    reranked = sorted(zip(scores, results['documents'][0], results['metadatas'][0]),\n",
        "                      reverse=True)[:5]\n",
        "    \n",
        "    return [r[1] for r in reranked], [r[2]['price'] for r in reranked]\n",
        "```\n",
        "\n",
        "**Why:** Cross-encoders are more accurate than bi-encoders for ranking.\n",
        "\n",
        "---\n",
        "\n",
        "## **4. Query Expansion**\n",
        "\n",
        "Add related terms to search:\n",
        "\n",
        "```python\n",
        "def find_similars(item):\n",
        "    item_text = description(item)\n",
        "    \n",
        "    # Expand query\n",
        "    # \"Canon R5\" → \"Canon R5 OR Canon EOS R5 OR Canon mirrorless\"\n",
        "    expanded = f\"{item_text} {item.brand} {item.category} mirrorless camera\"\n",
        "    \n",
        "    results = collection.query(\n",
        "        query_embeddings=model_sentence_transformer.encode(expanded).tolist(),\n",
        "        n_results=20\n",
        "    )\n",
        "```\n",
        "\n",
        "**Why:** Catches items with different wording.\n",
        "\n",
        "---\n",
        "\n",
        "## **5. Negative Filtering (Exclude Bad Matches)**\n",
        "\n",
        "```python\n",
        "def find_similars(item):\n",
        "    # ... get results ...\n",
        "    \n",
        "    # Filter out known bad patterns\n",
        "    exclude_keywords = ['accessory', 'case', 'bag', 'strap', 'battery']\n",
        "    \n",
        "    filtered = []\n",
        "    for doc, meta in zip(results['documents'][0], results['metadatas'][0]):\n",
        "        if not any(word in doc.lower() for word in exclude_keywords):\n",
        "            filtered.append((doc, meta))\n",
        "```\n",
        "\n",
        "**Why:** Explicitly remove accessories when looking for cameras.\n",
        "\n",
        "---\n",
        "\n",
        "## **6. Diversity Sampling**\n",
        "\n",
        "Don't just take top 5 - ensure variety:\n",
        "\n",
        "```python\n",
        "def find_similars(item):\n",
        "    results = collection.query(..., n_results=20)\n",
        "    \n",
        "    # Pick 5 items with price diversity\n",
        "    # Instead of: [$1800, $1850, $1900, $1950, $2000]\n",
        "    # Get: [$1500, $1800, $2000, $2300, $2500]\n",
        "    \n",
        "    sorted_by_price = sorted(zip(docs, prices), key=lambda x: x[1])\n",
        "    \n",
        "    # Take items spread across price range\n",
        "    indices = [0, 5, 10, 15, 19]  # Spread across 20 results\n",
        "    diverse_5 = [sorted_by_price[i] for i in indices]\n",
        "    \n",
        "    return diverse_5\n",
        "```\n",
        "\n",
        "**Why:** Llama sees price variation, learns better patterns.\n",
        "\n",
        "---\n",
        "\n",
        "## **7. Use Item Features as Metadata Filters**\n",
        "\n",
        "If your database has structured fields:\n",
        "\n",
        "```python\n",
        "def find_similars(item):\n",
        "    # Build filter based on item attributes\n",
        "    filters = {\n",
        "        \"brand\": item.brand,\n",
        "        \"year\": {\"$gte\": item.year - 2, \"$lte\": item.year + 2},\n",
        "        \"category\": item.category\n",
        "    }\n",
        "    \n",
        "    results = collection.query(\n",
        "        query_embeddings=...,\n",
        "        where=filters,  # Only search within constraints\n",
        "        n_results=20\n",
        "    )\n",
        "```\n",
        "\n",
        "**Why:** 2024 cameras shouldn't match 2010 cameras.\n",
        "\n",
        "---\n",
        "\n",
        "## **MY TOP 3 RECOMMENDATIONS (Biggest Impact):**\n",
        "\n",
        "**1. Price filtering (±50%)** ← You're already doing this! ✓\n",
        "\n",
        "**2. Category/Brand filtering:**\n",
        "```python\n",
        "where={\"category\": extract_category(item)}\n",
        "```\n",
        "\n",
        "**3. Reranking with cross-encoder:**\n",
        "```python\n",
        "reranker = CrossEncoder('cross-encoder/ms-marco-MiniLM-L-6-v2')\n",
        "scores = reranker.predict(pairs)\n",
        "```\n",
        "\n",
        "---\n",
        "\n",
        "**For YOUR use case, I'd try in this order:**\n",
        "\n",
        "1. ✓ Price filtering (already planned)\n",
        "2. Add category filtering (if metadata available)\n",
        "3. If still not good enough → Add reranking\n",
        "\n",
        "**Want me to write full code for category filtering or reranking?**"
      ],
      "metadata": {
        "id": "juan7M6r1npO"
      }
    },
    {
      "cell_type": "code",
      "source": [],
      "metadata": {
        "id": "IGrdrcYmzcfF"
      },
      "execution_count": null,
      "outputs": []
    },
    {
      "cell_type": "code",
      "source": [],
      "metadata": {
        "id": "0BHShnka-uMX"
      },
      "execution_count": null,
      "outputs": []
    }
  ],
  "metadata": {
    "accelerator": "GPU",
    "colab": {
      "gpuType": "L4",
      "machine_shape": "hm",
      "provenance": []
    },
    "kernelspec": {
      "display_name": "Python 3",
      "name": "python3"
    },
    "language_info": {
      "name": "python"
    },
    "widgets": {
      "application/vnd.jupyter.widget-state+json": {
        "31e75d1678b94f99a2a2d36281f6c929": {
          "model_module": "@jupyter-widgets/controls",
          "model_name": "HBoxModel",
          "model_module_version": "1.5.0",
          "state": {
            "_dom_classes": [],
            "_model_module": "@jupyter-widgets/controls",
            "_model_module_version": "1.5.0",
            "_model_name": "HBoxModel",
            "_view_count": null,
            "_view_module": "@jupyter-widgets/controls",
            "_view_module_version": "1.5.0",
            "_view_name": "HBoxView",
            "box_style": "",
            "children": [
              "IPY_MODEL_78346cefc37443018c4864a572860c41",
              "IPY_MODEL_ed59b66b304648c0a4e8c60df5ac1627",
              "IPY_MODEL_ac7ff1ace08244708bdf127fea077a41"
            ],
            "layout": "IPY_MODEL_a11edea7e0a14e94805717f59404b34c"
          }
        },
        "78346cefc37443018c4864a572860c41": {
          "model_module": "@jupyter-widgets/controls",
          "model_name": "HTMLModel",
          "model_module_version": "1.5.0",
          "state": {
            "_dom_classes": [],
            "_model_module": "@jupyter-widgets/controls",
            "_model_module_version": "1.5.0",
            "_model_name": "HTMLModel",
            "_view_count": null,
            "_view_module": "@jupyter-widgets/controls",
            "_view_module_version": "1.5.0",
            "_view_name": "HTMLView",
            "description": "",
            "description_tooltip": null,
            "layout": "IPY_MODEL_9a2b87438fe64211bb6decaaf7863ed3",
            "placeholder": "​",
            "style": "IPY_MODEL_25a87bba316a44f6ad608dae4c14622c",
            "value": "tokenizer_config.json: 100%"
          }
        },
        "ed59b66b304648c0a4e8c60df5ac1627": {
          "model_module": "@jupyter-widgets/controls",
          "model_name": "FloatProgressModel",
          "model_module_version": "1.5.0",
          "state": {
            "_dom_classes": [],
            "_model_module": "@jupyter-widgets/controls",
            "_model_module_version": "1.5.0",
            "_model_name": "FloatProgressModel",
            "_view_count": null,
            "_view_module": "@jupyter-widgets/controls",
            "_view_module_version": "1.5.0",
            "_view_name": "ProgressView",
            "bar_style": "success",
            "description": "",
            "description_tooltip": null,
            "layout": "IPY_MODEL_b2097fd277e8412584117c2841f5017c",
            "max": 50500,
            "min": 0,
            "orientation": "horizontal",
            "style": "IPY_MODEL_0f5f2844e11e4803ae138f585b9e88b8",
            "value": 50500
          }
        },
        "ac7ff1ace08244708bdf127fea077a41": {
          "model_module": "@jupyter-widgets/controls",
          "model_name": "HTMLModel",
          "model_module_version": "1.5.0",
          "state": {
            "_dom_classes": [],
            "_model_module": "@jupyter-widgets/controls",
            "_model_module_version": "1.5.0",
            "_model_name": "HTMLModel",
            "_view_count": null,
            "_view_module": "@jupyter-widgets/controls",
            "_view_module_version": "1.5.0",
            "_view_name": "HTMLView",
            "description": "",
            "description_tooltip": null,
            "layout": "IPY_MODEL_f0a3b9e8cf56409b9b6e5581fe566662",
            "placeholder": "​",
            "style": "IPY_MODEL_af089201d668402bb85fb457256989c2",
            "value": " 50.5k/50.5k [00:00&lt;00:00, 5.71MB/s]"
          }
        },
        "a11edea7e0a14e94805717f59404b34c": {
          "model_module": "@jupyter-widgets/base",
          "model_name": "LayoutModel",
          "model_module_version": "1.2.0",
          "state": {
            "_model_module": "@jupyter-widgets/base",
            "_model_module_version": "1.2.0",
            "_model_name": "LayoutModel",
            "_view_count": null,
            "_view_module": "@jupyter-widgets/base",
            "_view_module_version": "1.2.0",
            "_view_name": "LayoutView",
            "align_content": null,
            "align_items": null,
            "align_self": null,
            "border": null,
            "bottom": null,
            "display": null,
            "flex": null,
            "flex_flow": null,
            "grid_area": null,
            "grid_auto_columns": null,
            "grid_auto_flow": null,
            "grid_auto_rows": null,
            "grid_column": null,
            "grid_gap": null,
            "grid_row": null,
            "grid_template_areas": null,
            "grid_template_columns": null,
            "grid_template_rows": null,
            "height": null,
            "justify_content": null,
            "justify_items": null,
            "left": null,
            "margin": null,
            "max_height": null,
            "max_width": null,
            "min_height": null,
            "min_width": null,
            "object_fit": null,
            "object_position": null,
            "order": null,
            "overflow": null,
            "overflow_x": null,
            "overflow_y": null,
            "padding": null,
            "right": null,
            "top": null,
            "visibility": null,
            "width": null
          }
        },
        "9a2b87438fe64211bb6decaaf7863ed3": {
          "model_module": "@jupyter-widgets/base",
          "model_name": "LayoutModel",
          "model_module_version": "1.2.0",
          "state": {
            "_model_module": "@jupyter-widgets/base",
            "_model_module_version": "1.2.0",
            "_model_name": "LayoutModel",
            "_view_count": null,
            "_view_module": "@jupyter-widgets/base",
            "_view_module_version": "1.2.0",
            "_view_name": "LayoutView",
            "align_content": null,
            "align_items": null,
            "align_self": null,
            "border": null,
            "bottom": null,
            "display": null,
            "flex": null,
            "flex_flow": null,
            "grid_area": null,
            "grid_auto_columns": null,
            "grid_auto_flow": null,
            "grid_auto_rows": null,
            "grid_column": null,
            "grid_gap": null,
            "grid_row": null,
            "grid_template_areas": null,
            "grid_template_columns": null,
            "grid_template_rows": null,
            "height": null,
            "justify_content": null,
            "justify_items": null,
            "left": null,
            "margin": null,
            "max_height": null,
            "max_width": null,
            "min_height": null,
            "min_width": null,
            "object_fit": null,
            "object_position": null,
            "order": null,
            "overflow": null,
            "overflow_x": null,
            "overflow_y": null,
            "padding": null,
            "right": null,
            "top": null,
            "visibility": null,
            "width": null
          }
        },
        "25a87bba316a44f6ad608dae4c14622c": {
          "model_module": "@jupyter-widgets/controls",
          "model_name": "DescriptionStyleModel",
          "model_module_version": "1.5.0",
          "state": {
            "_model_module": "@jupyter-widgets/controls",
            "_model_module_version": "1.5.0",
            "_model_name": "DescriptionStyleModel",
            "_view_count": null,
            "_view_module": "@jupyter-widgets/base",
            "_view_module_version": "1.2.0",
            "_view_name": "StyleView",
            "description_width": ""
          }
        },
        "b2097fd277e8412584117c2841f5017c": {
          "model_module": "@jupyter-widgets/base",
          "model_name": "LayoutModel",
          "model_module_version": "1.2.0",
          "state": {
            "_model_module": "@jupyter-widgets/base",
            "_model_module_version": "1.2.0",
            "_model_name": "LayoutModel",
            "_view_count": null,
            "_view_module": "@jupyter-widgets/base",
            "_view_module_version": "1.2.0",
            "_view_name": "LayoutView",
            "align_content": null,
            "align_items": null,
            "align_self": null,
            "border": null,
            "bottom": null,
            "display": null,
            "flex": null,
            "flex_flow": null,
            "grid_area": null,
            "grid_auto_columns": null,
            "grid_auto_flow": null,
            "grid_auto_rows": null,
            "grid_column": null,
            "grid_gap": null,
            "grid_row": null,
            "grid_template_areas": null,
            "grid_template_columns": null,
            "grid_template_rows": null,
            "height": null,
            "justify_content": null,
            "justify_items": null,
            "left": null,
            "margin": null,
            "max_height": null,
            "max_width": null,
            "min_height": null,
            "min_width": null,
            "object_fit": null,
            "object_position": null,
            "order": null,
            "overflow": null,
            "overflow_x": null,
            "overflow_y": null,
            "padding": null,
            "right": null,
            "top": null,
            "visibility": null,
            "width": null
          }
        },
        "0f5f2844e11e4803ae138f585b9e88b8": {
          "model_module": "@jupyter-widgets/controls",
          "model_name": "ProgressStyleModel",
          "model_module_version": "1.5.0",
          "state": {
            "_model_module": "@jupyter-widgets/controls",
            "_model_module_version": "1.5.0",
            "_model_name": "ProgressStyleModel",
            "_view_count": null,
            "_view_module": "@jupyter-widgets/base",
            "_view_module_version": "1.2.0",
            "_view_name": "StyleView",
            "bar_color": null,
            "description_width": ""
          }
        },
        "f0a3b9e8cf56409b9b6e5581fe566662": {
          "model_module": "@jupyter-widgets/base",
          "model_name": "LayoutModel",
          "model_module_version": "1.2.0",
          "state": {
            "_model_module": "@jupyter-widgets/base",
            "_model_module_version": "1.2.0",
            "_model_name": "LayoutModel",
            "_view_count": null,
            "_view_module": "@jupyter-widgets/base",
            "_view_module_version": "1.2.0",
            "_view_name": "LayoutView",
            "align_content": null,
            "align_items": null,
            "align_self": null,
            "border": null,
            "bottom": null,
            "display": null,
            "flex": null,
            "flex_flow": null,
            "grid_area": null,
            "grid_auto_columns": null,
            "grid_auto_flow": null,
            "grid_auto_rows": null,
            "grid_column": null,
            "grid_gap": null,
            "grid_row": null,
            "grid_template_areas": null,
            "grid_template_columns": null,
            "grid_template_rows": null,
            "height": null,
            "justify_content": null,
            "justify_items": null,
            "left": null,
            "margin": null,
            "max_height": null,
            "max_width": null,
            "min_height": null,
            "min_width": null,
            "object_fit": null,
            "object_position": null,
            "order": null,
            "overflow": null,
            "overflow_x": null,
            "overflow_y": null,
            "padding": null,
            "right": null,
            "top": null,
            "visibility": null,
            "width": null
          }
        },
        "af089201d668402bb85fb457256989c2": {
          "model_module": "@jupyter-widgets/controls",
          "model_name": "DescriptionStyleModel",
          "model_module_version": "1.5.0",
          "state": {
            "_model_module": "@jupyter-widgets/controls",
            "_model_module_version": "1.5.0",
            "_model_name": "DescriptionStyleModel",
            "_view_count": null,
            "_view_module": "@jupyter-widgets/base",
            "_view_module_version": "1.2.0",
            "_view_name": "StyleView",
            "description_width": ""
          }
        },
        "de1e098d7e1e449b84da79212f480054": {
          "model_module": "@jupyter-widgets/controls",
          "model_name": "HBoxModel",
          "model_module_version": "1.5.0",
          "state": {
            "_dom_classes": [],
            "_model_module": "@jupyter-widgets/controls",
            "_model_module_version": "1.5.0",
            "_model_name": "HBoxModel",
            "_view_count": null,
            "_view_module": "@jupyter-widgets/controls",
            "_view_module_version": "1.5.0",
            "_view_name": "HBoxView",
            "box_style": "",
            "children": [
              "IPY_MODEL_3fd9a1d8073745cea2f7dbe27d873d7e",
              "IPY_MODEL_2644bea864444c3981008bd7434cf1cd",
              "IPY_MODEL_dea4588acb194834888a8083c33113b4"
            ],
            "layout": "IPY_MODEL_ea13766d519b4982b2ed150e4ca6f883"
          }
        },
        "3fd9a1d8073745cea2f7dbe27d873d7e": {
          "model_module": "@jupyter-widgets/controls",
          "model_name": "HTMLModel",
          "model_module_version": "1.5.0",
          "state": {
            "_dom_classes": [],
            "_model_module": "@jupyter-widgets/controls",
            "_model_module_version": "1.5.0",
            "_model_name": "HTMLModel",
            "_view_count": null,
            "_view_module": "@jupyter-widgets/controls",
            "_view_module_version": "1.5.0",
            "_view_name": "HTMLView",
            "description": "",
            "description_tooltip": null,
            "layout": "IPY_MODEL_32a66c237f9f437b8dcabe150e26d9a1",
            "placeholder": "​",
            "style": "IPY_MODEL_e5eb77171b2e479bb5f7e46ab36ddcf1",
            "value": "tokenizer.json: 100%"
          }
        },
        "2644bea864444c3981008bd7434cf1cd": {
          "model_module": "@jupyter-widgets/controls",
          "model_name": "FloatProgressModel",
          "model_module_version": "1.5.0",
          "state": {
            "_dom_classes": [],
            "_model_module": "@jupyter-widgets/controls",
            "_model_module_version": "1.5.0",
            "_model_name": "FloatProgressModel",
            "_view_count": null,
            "_view_module": "@jupyter-widgets/controls",
            "_view_module_version": "1.5.0",
            "_view_name": "ProgressView",
            "bar_style": "success",
            "description": "",
            "description_tooltip": null,
            "layout": "IPY_MODEL_1a6a5ab336e04c0d9ec3a9d6a7065edf",
            "max": 9085658,
            "min": 0,
            "orientation": "horizontal",
            "style": "IPY_MODEL_059f75da27da4fcc913058b088c25b1c",
            "value": 9085658
          }
        },
        "dea4588acb194834888a8083c33113b4": {
          "model_module": "@jupyter-widgets/controls",
          "model_name": "HTMLModel",
          "model_module_version": "1.5.0",
          "state": {
            "_dom_classes": [],
            "_model_module": "@jupyter-widgets/controls",
            "_model_module_version": "1.5.0",
            "_model_name": "HTMLModel",
            "_view_count": null,
            "_view_module": "@jupyter-widgets/controls",
            "_view_module_version": "1.5.0",
            "_view_name": "HTMLView",
            "description": "",
            "description_tooltip": null,
            "layout": "IPY_MODEL_d22748c095c640778f46d10b9e9b6694",
            "placeholder": "​",
            "style": "IPY_MODEL_2a12ebf228884e53b1ec596c4646844a",
            "value": " 9.09M/9.09M [00:01&lt;00:00, 5.93MB/s]"
          }
        },
        "ea13766d519b4982b2ed150e4ca6f883": {
          "model_module": "@jupyter-widgets/base",
          "model_name": "LayoutModel",
          "model_module_version": "1.2.0",
          "state": {
            "_model_module": "@jupyter-widgets/base",
            "_model_module_version": "1.2.0",
            "_model_name": "LayoutModel",
            "_view_count": null,
            "_view_module": "@jupyter-widgets/base",
            "_view_module_version": "1.2.0",
            "_view_name": "LayoutView",
            "align_content": null,
            "align_items": null,
            "align_self": null,
            "border": null,
            "bottom": null,
            "display": null,
            "flex": null,
            "flex_flow": null,
            "grid_area": null,
            "grid_auto_columns": null,
            "grid_auto_flow": null,
            "grid_auto_rows": null,
            "grid_column": null,
            "grid_gap": null,
            "grid_row": null,
            "grid_template_areas": null,
            "grid_template_columns": null,
            "grid_template_rows": null,
            "height": null,
            "justify_content": null,
            "justify_items": null,
            "left": null,
            "margin": null,
            "max_height": null,
            "max_width": null,
            "min_height": null,
            "min_width": null,
            "object_fit": null,
            "object_position": null,
            "order": null,
            "overflow": null,
            "overflow_x": null,
            "overflow_y": null,
            "padding": null,
            "right": null,
            "top": null,
            "visibility": null,
            "width": null
          }
        },
        "32a66c237f9f437b8dcabe150e26d9a1": {
          "model_module": "@jupyter-widgets/base",
          "model_name": "LayoutModel",
          "model_module_version": "1.2.0",
          "state": {
            "_model_module": "@jupyter-widgets/base",
            "_model_module_version": "1.2.0",
            "_model_name": "LayoutModel",
            "_view_count": null,
            "_view_module": "@jupyter-widgets/base",
            "_view_module_version": "1.2.0",
            "_view_name": "LayoutView",
            "align_content": null,
            "align_items": null,
            "align_self": null,
            "border": null,
            "bottom": null,
            "display": null,
            "flex": null,
            "flex_flow": null,
            "grid_area": null,
            "grid_auto_columns": null,
            "grid_auto_flow": null,
            "grid_auto_rows": null,
            "grid_column": null,
            "grid_gap": null,
            "grid_row": null,
            "grid_template_areas": null,
            "grid_template_columns": null,
            "grid_template_rows": null,
            "height": null,
            "justify_content": null,
            "justify_items": null,
            "left": null,
            "margin": null,
            "max_height": null,
            "max_width": null,
            "min_height": null,
            "min_width": null,
            "object_fit": null,
            "object_position": null,
            "order": null,
            "overflow": null,
            "overflow_x": null,
            "overflow_y": null,
            "padding": null,
            "right": null,
            "top": null,
            "visibility": null,
            "width": null
          }
        },
        "e5eb77171b2e479bb5f7e46ab36ddcf1": {
          "model_module": "@jupyter-widgets/controls",
          "model_name": "DescriptionStyleModel",
          "model_module_version": "1.5.0",
          "state": {
            "_model_module": "@jupyter-widgets/controls",
            "_model_module_version": "1.5.0",
            "_model_name": "DescriptionStyleModel",
            "_view_count": null,
            "_view_module": "@jupyter-widgets/base",
            "_view_module_version": "1.2.0",
            "_view_name": "StyleView",
            "description_width": ""
          }
        },
        "1a6a5ab336e04c0d9ec3a9d6a7065edf": {
          "model_module": "@jupyter-widgets/base",
          "model_name": "LayoutModel",
          "model_module_version": "1.2.0",
          "state": {
            "_model_module": "@jupyter-widgets/base",
            "_model_module_version": "1.2.0",
            "_model_name": "LayoutModel",
            "_view_count": null,
            "_view_module": "@jupyter-widgets/base",
            "_view_module_version": "1.2.0",
            "_view_name": "LayoutView",
            "align_content": null,
            "align_items": null,
            "align_self": null,
            "border": null,
            "bottom": null,
            "display": null,
            "flex": null,
            "flex_flow": null,
            "grid_area": null,
            "grid_auto_columns": null,
            "grid_auto_flow": null,
            "grid_auto_rows": null,
            "grid_column": null,
            "grid_gap": null,
            "grid_row": null,
            "grid_template_areas": null,
            "grid_template_columns": null,
            "grid_template_rows": null,
            "height": null,
            "justify_content": null,
            "justify_items": null,
            "left": null,
            "margin": null,
            "max_height": null,
            "max_width": null,
            "min_height": null,
            "min_width": null,
            "object_fit": null,
            "object_position": null,
            "order": null,
            "overflow": null,
            "overflow_x": null,
            "overflow_y": null,
            "padding": null,
            "right": null,
            "top": null,
            "visibility": null,
            "width": null
          }
        },
        "059f75da27da4fcc913058b088c25b1c": {
          "model_module": "@jupyter-widgets/controls",
          "model_name": "ProgressStyleModel",
          "model_module_version": "1.5.0",
          "state": {
            "_model_module": "@jupyter-widgets/controls",
            "_model_module_version": "1.5.0",
            "_model_name": "ProgressStyleModel",
            "_view_count": null,
            "_view_module": "@jupyter-widgets/base",
            "_view_module_version": "1.2.0",
            "_view_name": "StyleView",
            "bar_color": null,
            "description_width": ""
          }
        },
        "d22748c095c640778f46d10b9e9b6694": {
          "model_module": "@jupyter-widgets/base",
          "model_name": "LayoutModel",
          "model_module_version": "1.2.0",
          "state": {
            "_model_module": "@jupyter-widgets/base",
            "_model_module_version": "1.2.0",
            "_model_name": "LayoutModel",
            "_view_count": null,
            "_view_module": "@jupyter-widgets/base",
            "_view_module_version": "1.2.0",
            "_view_name": "LayoutView",
            "align_content": null,
            "align_items": null,
            "align_self": null,
            "border": null,
            "bottom": null,
            "display": null,
            "flex": null,
            "flex_flow": null,
            "grid_area": null,
            "grid_auto_columns": null,
            "grid_auto_flow": null,
            "grid_auto_rows": null,
            "grid_column": null,
            "grid_gap": null,
            "grid_row": null,
            "grid_template_areas": null,
            "grid_template_columns": null,
            "grid_template_rows": null,
            "height": null,
            "justify_content": null,
            "justify_items": null,
            "left": null,
            "margin": null,
            "max_height": null,
            "max_width": null,
            "min_height": null,
            "min_width": null,
            "object_fit": null,
            "object_position": null,
            "order": null,
            "overflow": null,
            "overflow_x": null,
            "overflow_y": null,
            "padding": null,
            "right": null,
            "top": null,
            "visibility": null,
            "width": null
          }
        },
        "2a12ebf228884e53b1ec596c4646844a": {
          "model_module": "@jupyter-widgets/controls",
          "model_name": "DescriptionStyleModel",
          "model_module_version": "1.5.0",
          "state": {
            "_model_module": "@jupyter-widgets/controls",
            "_model_module_version": "1.5.0",
            "_model_name": "DescriptionStyleModel",
            "_view_count": null,
            "_view_module": "@jupyter-widgets/base",
            "_view_module_version": "1.2.0",
            "_view_name": "StyleView",
            "description_width": ""
          }
        },
        "e7098c2c86334d90a8d9070445af1152": {
          "model_module": "@jupyter-widgets/controls",
          "model_name": "HBoxModel",
          "model_module_version": "1.5.0",
          "state": {
            "_dom_classes": [],
            "_model_module": "@jupyter-widgets/controls",
            "_model_module_version": "1.5.0",
            "_model_name": "HBoxModel",
            "_view_count": null,
            "_view_module": "@jupyter-widgets/controls",
            "_view_module_version": "1.5.0",
            "_view_name": "HBoxView",
            "box_style": "",
            "children": [
              "IPY_MODEL_71db60153413472d90ae9aeb54954683",
              "IPY_MODEL_cfd722e8104c43d29ded0456b7b72f2d",
              "IPY_MODEL_bc3028aaedae4bf6a976b4d83c31b171"
            ],
            "layout": "IPY_MODEL_8453a671b7f34311bed503eb20f2dc63"
          }
        },
        "71db60153413472d90ae9aeb54954683": {
          "model_module": "@jupyter-widgets/controls",
          "model_name": "HTMLModel",
          "model_module_version": "1.5.0",
          "state": {
            "_dom_classes": [],
            "_model_module": "@jupyter-widgets/controls",
            "_model_module_version": "1.5.0",
            "_model_name": "HTMLModel",
            "_view_count": null,
            "_view_module": "@jupyter-widgets/controls",
            "_view_module_version": "1.5.0",
            "_view_name": "HTMLView",
            "description": "",
            "description_tooltip": null,
            "layout": "IPY_MODEL_5420dc5dabad4caba2727947701db527",
            "placeholder": "​",
            "style": "IPY_MODEL_87db146a915449c1bbd7bb6534d9e922",
            "value": "special_tokens_map.json: 100%"
          }
        },
        "cfd722e8104c43d29ded0456b7b72f2d": {
          "model_module": "@jupyter-widgets/controls",
          "model_name": "FloatProgressModel",
          "model_module_version": "1.5.0",
          "state": {
            "_dom_classes": [],
            "_model_module": "@jupyter-widgets/controls",
            "_model_module_version": "1.5.0",
            "_model_name": "FloatProgressModel",
            "_view_count": null,
            "_view_module": "@jupyter-widgets/controls",
            "_view_module_version": "1.5.0",
            "_view_name": "ProgressView",
            "bar_style": "success",
            "description": "",
            "description_tooltip": null,
            "layout": "IPY_MODEL_d1b6e53d4861468cac020bd9f62729db",
            "max": 73,
            "min": 0,
            "orientation": "horizontal",
            "style": "IPY_MODEL_6d2a841535864a19beb21cdc98cf28e7",
            "value": 73
          }
        },
        "bc3028aaedae4bf6a976b4d83c31b171": {
          "model_module": "@jupyter-widgets/controls",
          "model_name": "HTMLModel",
          "model_module_version": "1.5.0",
          "state": {
            "_dom_classes": [],
            "_model_module": "@jupyter-widgets/controls",
            "_model_module_version": "1.5.0",
            "_model_name": "HTMLModel",
            "_view_count": null,
            "_view_module": "@jupyter-widgets/controls",
            "_view_module_version": "1.5.0",
            "_view_name": "HTMLView",
            "description": "",
            "description_tooltip": null,
            "layout": "IPY_MODEL_427ebdd9db334e569e08cc3e15774541",
            "placeholder": "​",
            "style": "IPY_MODEL_726d1a6b582f485dbe1bd4c36bb51f04",
            "value": " 73.0/73.0 [00:00&lt;00:00, 10.5kB/s]"
          }
        },
        "8453a671b7f34311bed503eb20f2dc63": {
          "model_module": "@jupyter-widgets/base",
          "model_name": "LayoutModel",
          "model_module_version": "1.2.0",
          "state": {
            "_model_module": "@jupyter-widgets/base",
            "_model_module_version": "1.2.0",
            "_model_name": "LayoutModel",
            "_view_count": null,
            "_view_module": "@jupyter-widgets/base",
            "_view_module_version": "1.2.0",
            "_view_name": "LayoutView",
            "align_content": null,
            "align_items": null,
            "align_self": null,
            "border": null,
            "bottom": null,
            "display": null,
            "flex": null,
            "flex_flow": null,
            "grid_area": null,
            "grid_auto_columns": null,
            "grid_auto_flow": null,
            "grid_auto_rows": null,
            "grid_column": null,
            "grid_gap": null,
            "grid_row": null,
            "grid_template_areas": null,
            "grid_template_columns": null,
            "grid_template_rows": null,
            "height": null,
            "justify_content": null,
            "justify_items": null,
            "left": null,
            "margin": null,
            "max_height": null,
            "max_width": null,
            "min_height": null,
            "min_width": null,
            "object_fit": null,
            "object_position": null,
            "order": null,
            "overflow": null,
            "overflow_x": null,
            "overflow_y": null,
            "padding": null,
            "right": null,
            "top": null,
            "visibility": null,
            "width": null
          }
        },
        "5420dc5dabad4caba2727947701db527": {
          "model_module": "@jupyter-widgets/base",
          "model_name": "LayoutModel",
          "model_module_version": "1.2.0",
          "state": {
            "_model_module": "@jupyter-widgets/base",
            "_model_module_version": "1.2.0",
            "_model_name": "LayoutModel",
            "_view_count": null,
            "_view_module": "@jupyter-widgets/base",
            "_view_module_version": "1.2.0",
            "_view_name": "LayoutView",
            "align_content": null,
            "align_items": null,
            "align_self": null,
            "border": null,
            "bottom": null,
            "display": null,
            "flex": null,
            "flex_flow": null,
            "grid_area": null,
            "grid_auto_columns": null,
            "grid_auto_flow": null,
            "grid_auto_rows": null,
            "grid_column": null,
            "grid_gap": null,
            "grid_row": null,
            "grid_template_areas": null,
            "grid_template_columns": null,
            "grid_template_rows": null,
            "height": null,
            "justify_content": null,
            "justify_items": null,
            "left": null,
            "margin": null,
            "max_height": null,
            "max_width": null,
            "min_height": null,
            "min_width": null,
            "object_fit": null,
            "object_position": null,
            "order": null,
            "overflow": null,
            "overflow_x": null,
            "overflow_y": null,
            "padding": null,
            "right": null,
            "top": null,
            "visibility": null,
            "width": null
          }
        },
        "87db146a915449c1bbd7bb6534d9e922": {
          "model_module": "@jupyter-widgets/controls",
          "model_name": "DescriptionStyleModel",
          "model_module_version": "1.5.0",
          "state": {
            "_model_module": "@jupyter-widgets/controls",
            "_model_module_version": "1.5.0",
            "_model_name": "DescriptionStyleModel",
            "_view_count": null,
            "_view_module": "@jupyter-widgets/base",
            "_view_module_version": "1.2.0",
            "_view_name": "StyleView",
            "description_width": ""
          }
        },
        "d1b6e53d4861468cac020bd9f62729db": {
          "model_module": "@jupyter-widgets/base",
          "model_name": "LayoutModel",
          "model_module_version": "1.2.0",
          "state": {
            "_model_module": "@jupyter-widgets/base",
            "_model_module_version": "1.2.0",
            "_model_name": "LayoutModel",
            "_view_count": null,
            "_view_module": "@jupyter-widgets/base",
            "_view_module_version": "1.2.0",
            "_view_name": "LayoutView",
            "align_content": null,
            "align_items": null,
            "align_self": null,
            "border": null,
            "bottom": null,
            "display": null,
            "flex": null,
            "flex_flow": null,
            "grid_area": null,
            "grid_auto_columns": null,
            "grid_auto_flow": null,
            "grid_auto_rows": null,
            "grid_column": null,
            "grid_gap": null,
            "grid_row": null,
            "grid_template_areas": null,
            "grid_template_columns": null,
            "grid_template_rows": null,
            "height": null,
            "justify_content": null,
            "justify_items": null,
            "left": null,
            "margin": null,
            "max_height": null,
            "max_width": null,
            "min_height": null,
            "min_width": null,
            "object_fit": null,
            "object_position": null,
            "order": null,
            "overflow": null,
            "overflow_x": null,
            "overflow_y": null,
            "padding": null,
            "right": null,
            "top": null,
            "visibility": null,
            "width": null
          }
        },
        "6d2a841535864a19beb21cdc98cf28e7": {
          "model_module": "@jupyter-widgets/controls",
          "model_name": "ProgressStyleModel",
          "model_module_version": "1.5.0",
          "state": {
            "_model_module": "@jupyter-widgets/controls",
            "_model_module_version": "1.5.0",
            "_model_name": "ProgressStyleModel",
            "_view_count": null,
            "_view_module": "@jupyter-widgets/base",
            "_view_module_version": "1.2.0",
            "_view_name": "StyleView",
            "bar_color": null,
            "description_width": ""
          }
        },
        "427ebdd9db334e569e08cc3e15774541": {
          "model_module": "@jupyter-widgets/base",
          "model_name": "LayoutModel",
          "model_module_version": "1.2.0",
          "state": {
            "_model_module": "@jupyter-widgets/base",
            "_model_module_version": "1.2.0",
            "_model_name": "LayoutModel",
            "_view_count": null,
            "_view_module": "@jupyter-widgets/base",
            "_view_module_version": "1.2.0",
            "_view_name": "LayoutView",
            "align_content": null,
            "align_items": null,
            "align_self": null,
            "border": null,
            "bottom": null,
            "display": null,
            "flex": null,
            "flex_flow": null,
            "grid_area": null,
            "grid_auto_columns": null,
            "grid_auto_flow": null,
            "grid_auto_rows": null,
            "grid_column": null,
            "grid_gap": null,
            "grid_row": null,
            "grid_template_areas": null,
            "grid_template_columns": null,
            "grid_template_rows": null,
            "height": null,
            "justify_content": null,
            "justify_items": null,
            "left": null,
            "margin": null,
            "max_height": null,
            "max_width": null,
            "min_height": null,
            "min_width": null,
            "object_fit": null,
            "object_position": null,
            "order": null,
            "overflow": null,
            "overflow_x": null,
            "overflow_y": null,
            "padding": null,
            "right": null,
            "top": null,
            "visibility": null,
            "width": null
          }
        },
        "726d1a6b582f485dbe1bd4c36bb51f04": {
          "model_module": "@jupyter-widgets/controls",
          "model_name": "DescriptionStyleModel",
          "model_module_version": "1.5.0",
          "state": {
            "_model_module": "@jupyter-widgets/controls",
            "_model_module_version": "1.5.0",
            "_model_name": "DescriptionStyleModel",
            "_view_count": null,
            "_view_module": "@jupyter-widgets/base",
            "_view_module_version": "1.2.0",
            "_view_name": "StyleView",
            "description_width": ""
          }
        },
        "2b10e43fec4546e6a931dba89d0fcbd6": {
          "model_module": "@jupyter-widgets/controls",
          "model_name": "HBoxModel",
          "model_module_version": "1.5.0",
          "state": {
            "_dom_classes": [],
            "_model_module": "@jupyter-widgets/controls",
            "_model_module_version": "1.5.0",
            "_model_name": "HBoxModel",
            "_view_count": null,
            "_view_module": "@jupyter-widgets/controls",
            "_view_module_version": "1.5.0",
            "_view_name": "HBoxView",
            "box_style": "",
            "children": [
              "IPY_MODEL_ef637e0e24644db693daa5e334c91f7e",
              "IPY_MODEL_f3165bb290a14533b8085df5a8d9bddc",
              "IPY_MODEL_ae2a0a1d815444d093f182e869d086c1"
            ],
            "layout": "IPY_MODEL_e35e723d6b6c486f9bd36dea38ce764f"
          }
        },
        "ef637e0e24644db693daa5e334c91f7e": {
          "model_module": "@jupyter-widgets/controls",
          "model_name": "HTMLModel",
          "model_module_version": "1.5.0",
          "state": {
            "_dom_classes": [],
            "_model_module": "@jupyter-widgets/controls",
            "_model_module_version": "1.5.0",
            "_model_name": "HTMLModel",
            "_view_count": null,
            "_view_module": "@jupyter-widgets/controls",
            "_view_module_version": "1.5.0",
            "_view_name": "HTMLView",
            "description": "",
            "description_tooltip": null,
            "layout": "IPY_MODEL_9c9547a30b2247119e922a9899e970aa",
            "placeholder": "​",
            "style": "IPY_MODEL_12b0d768bff449b1b81a810d69c87228",
            "value": "config.json: 100%"
          }
        },
        "f3165bb290a14533b8085df5a8d9bddc": {
          "model_module": "@jupyter-widgets/controls",
          "model_name": "FloatProgressModel",
          "model_module_version": "1.5.0",
          "state": {
            "_dom_classes": [],
            "_model_module": "@jupyter-widgets/controls",
            "_model_module_version": "1.5.0",
            "_model_name": "FloatProgressModel",
            "_view_count": null,
            "_view_module": "@jupyter-widgets/controls",
            "_view_module_version": "1.5.0",
            "_view_name": "ProgressView",
            "bar_style": "success",
            "description": "",
            "description_tooltip": null,
            "layout": "IPY_MODEL_48f290c3e4134d1682f81462ff61612d",
            "max": 826,
            "min": 0,
            "orientation": "horizontal",
            "style": "IPY_MODEL_cb6b74ff500a48a4b1bb81007fbaa7df",
            "value": 826
          }
        },
        "ae2a0a1d815444d093f182e869d086c1": {
          "model_module": "@jupyter-widgets/controls",
          "model_name": "HTMLModel",
          "model_module_version": "1.5.0",
          "state": {
            "_dom_classes": [],
            "_model_module": "@jupyter-widgets/controls",
            "_model_module_version": "1.5.0",
            "_model_name": "HTMLModel",
            "_view_count": null,
            "_view_module": "@jupyter-widgets/controls",
            "_view_module_version": "1.5.0",
            "_view_name": "HTMLView",
            "description": "",
            "description_tooltip": null,
            "layout": "IPY_MODEL_234502c1f0bf4c78a93a13896f70e66c",
            "placeholder": "​",
            "style": "IPY_MODEL_9b62c1c66370463e83cdb777daa80400",
            "value": " 826/826 [00:00&lt;00:00, 104kB/s]"
          }
        },
        "e35e723d6b6c486f9bd36dea38ce764f": {
          "model_module": "@jupyter-widgets/base",
          "model_name": "LayoutModel",
          "model_module_version": "1.2.0",
          "state": {
            "_model_module": "@jupyter-widgets/base",
            "_model_module_version": "1.2.0",
            "_model_name": "LayoutModel",
            "_view_count": null,
            "_view_module": "@jupyter-widgets/base",
            "_view_module_version": "1.2.0",
            "_view_name": "LayoutView",
            "align_content": null,
            "align_items": null,
            "align_self": null,
            "border": null,
            "bottom": null,
            "display": null,
            "flex": null,
            "flex_flow": null,
            "grid_area": null,
            "grid_auto_columns": null,
            "grid_auto_flow": null,
            "grid_auto_rows": null,
            "grid_column": null,
            "grid_gap": null,
            "grid_row": null,
            "grid_template_areas": null,
            "grid_template_columns": null,
            "grid_template_rows": null,
            "height": null,
            "justify_content": null,
            "justify_items": null,
            "left": null,
            "margin": null,
            "max_height": null,
            "max_width": null,
            "min_height": null,
            "min_width": null,
            "object_fit": null,
            "object_position": null,
            "order": null,
            "overflow": null,
            "overflow_x": null,
            "overflow_y": null,
            "padding": null,
            "right": null,
            "top": null,
            "visibility": null,
            "width": null
          }
        },
        "9c9547a30b2247119e922a9899e970aa": {
          "model_module": "@jupyter-widgets/base",
          "model_name": "LayoutModel",
          "model_module_version": "1.2.0",
          "state": {
            "_model_module": "@jupyter-widgets/base",
            "_model_module_version": "1.2.0",
            "_model_name": "LayoutModel",
            "_view_count": null,
            "_view_module": "@jupyter-widgets/base",
            "_view_module_version": "1.2.0",
            "_view_name": "LayoutView",
            "align_content": null,
            "align_items": null,
            "align_self": null,
            "border": null,
            "bottom": null,
            "display": null,
            "flex": null,
            "flex_flow": null,
            "grid_area": null,
            "grid_auto_columns": null,
            "grid_auto_flow": null,
            "grid_auto_rows": null,
            "grid_column": null,
            "grid_gap": null,
            "grid_row": null,
            "grid_template_areas": null,
            "grid_template_columns": null,
            "grid_template_rows": null,
            "height": null,
            "justify_content": null,
            "justify_items": null,
            "left": null,
            "margin": null,
            "max_height": null,
            "max_width": null,
            "min_height": null,
            "min_width": null,
            "object_fit": null,
            "object_position": null,
            "order": null,
            "overflow": null,
            "overflow_x": null,
            "overflow_y": null,
            "padding": null,
            "right": null,
            "top": null,
            "visibility": null,
            "width": null
          }
        },
        "12b0d768bff449b1b81a810d69c87228": {
          "model_module": "@jupyter-widgets/controls",
          "model_name": "DescriptionStyleModel",
          "model_module_version": "1.5.0",
          "state": {
            "_model_module": "@jupyter-widgets/controls",
            "_model_module_version": "1.5.0",
            "_model_name": "DescriptionStyleModel",
            "_view_count": null,
            "_view_module": "@jupyter-widgets/base",
            "_view_module_version": "1.2.0",
            "_view_name": "StyleView",
            "description_width": ""
          }
        },
        "48f290c3e4134d1682f81462ff61612d": {
          "model_module": "@jupyter-widgets/base",
          "model_name": "LayoutModel",
          "model_module_version": "1.2.0",
          "state": {
            "_model_module": "@jupyter-widgets/base",
            "_model_module_version": "1.2.0",
            "_model_name": "LayoutModel",
            "_view_count": null,
            "_view_module": "@jupyter-widgets/base",
            "_view_module_version": "1.2.0",
            "_view_name": "LayoutView",
            "align_content": null,
            "align_items": null,
            "align_self": null,
            "border": null,
            "bottom": null,
            "display": null,
            "flex": null,
            "flex_flow": null,
            "grid_area": null,
            "grid_auto_columns": null,
            "grid_auto_flow": null,
            "grid_auto_rows": null,
            "grid_column": null,
            "grid_gap": null,
            "grid_row": null,
            "grid_template_areas": null,
            "grid_template_columns": null,
            "grid_template_rows": null,
            "height": null,
            "justify_content": null,
            "justify_items": null,
            "left": null,
            "margin": null,
            "max_height": null,
            "max_width": null,
            "min_height": null,
            "min_width": null,
            "object_fit": null,
            "object_position": null,
            "order": null,
            "overflow": null,
            "overflow_x": null,
            "overflow_y": null,
            "padding": null,
            "right": null,
            "top": null,
            "visibility": null,
            "width": null
          }
        },
        "cb6b74ff500a48a4b1bb81007fbaa7df": {
          "model_module": "@jupyter-widgets/controls",
          "model_name": "ProgressStyleModel",
          "model_module_version": "1.5.0",
          "state": {
            "_model_module": "@jupyter-widgets/controls",
            "_model_module_version": "1.5.0",
            "_model_name": "ProgressStyleModel",
            "_view_count": null,
            "_view_module": "@jupyter-widgets/base",
            "_view_module_version": "1.2.0",
            "_view_name": "StyleView",
            "bar_color": null,
            "description_width": ""
          }
        },
        "234502c1f0bf4c78a93a13896f70e66c": {
          "model_module": "@jupyter-widgets/base",
          "model_name": "LayoutModel",
          "model_module_version": "1.2.0",
          "state": {
            "_model_module": "@jupyter-widgets/base",
            "_model_module_version": "1.2.0",
            "_model_name": "LayoutModel",
            "_view_count": null,
            "_view_module": "@jupyter-widgets/base",
            "_view_module_version": "1.2.0",
            "_view_name": "LayoutView",
            "align_content": null,
            "align_items": null,
            "align_self": null,
            "border": null,
            "bottom": null,
            "display": null,
            "flex": null,
            "flex_flow": null,
            "grid_area": null,
            "grid_auto_columns": null,
            "grid_auto_flow": null,
            "grid_auto_rows": null,
            "grid_column": null,
            "grid_gap": null,
            "grid_row": null,
            "grid_template_areas": null,
            "grid_template_columns": null,
            "grid_template_rows": null,
            "height": null,
            "justify_content": null,
            "justify_items": null,
            "left": null,
            "margin": null,
            "max_height": null,
            "max_width": null,
            "min_height": null,
            "min_width": null,
            "object_fit": null,
            "object_position": null,
            "order": null,
            "overflow": null,
            "overflow_x": null,
            "overflow_y": null,
            "padding": null,
            "right": null,
            "top": null,
            "visibility": null,
            "width": null
          }
        },
        "9b62c1c66370463e83cdb777daa80400": {
          "model_module": "@jupyter-widgets/controls",
          "model_name": "DescriptionStyleModel",
          "model_module_version": "1.5.0",
          "state": {
            "_model_module": "@jupyter-widgets/controls",
            "_model_module_version": "1.5.0",
            "_model_name": "DescriptionStyleModel",
            "_view_count": null,
            "_view_module": "@jupyter-widgets/base",
            "_view_module_version": "1.2.0",
            "_view_name": "StyleView",
            "description_width": ""
          }
        },
        "110e567fd2ad4bbcbe7fdeca1ca4ee38": {
          "model_module": "@jupyter-widgets/controls",
          "model_name": "HBoxModel",
          "model_module_version": "1.5.0",
          "state": {
            "_dom_classes": [],
            "_model_module": "@jupyter-widgets/controls",
            "_model_module_version": "1.5.0",
            "_model_name": "HBoxModel",
            "_view_count": null,
            "_view_module": "@jupyter-widgets/controls",
            "_view_module_version": "1.5.0",
            "_view_name": "HBoxView",
            "box_style": "",
            "children": [
              "IPY_MODEL_bc440c6fdf474a8faa0ffdc5be200768",
              "IPY_MODEL_a5c19aff38ca48088dd640a724d98226",
              "IPY_MODEL_eaff3476824d4c259a162c135f64f847"
            ],
            "layout": "IPY_MODEL_dcc33a76c22946bcb3eec6dfecad11f6"
          }
        },
        "bc440c6fdf474a8faa0ffdc5be200768": {
          "model_module": "@jupyter-widgets/controls",
          "model_name": "HTMLModel",
          "model_module_version": "1.5.0",
          "state": {
            "_dom_classes": [],
            "_model_module": "@jupyter-widgets/controls",
            "_model_module_version": "1.5.0",
            "_model_name": "HTMLModel",
            "_view_count": null,
            "_view_module": "@jupyter-widgets/controls",
            "_view_module_version": "1.5.0",
            "_view_name": "HTMLView",
            "description": "",
            "description_tooltip": null,
            "layout": "IPY_MODEL_29a7a30681c641b9854786178b0f6cb0",
            "placeholder": "​",
            "style": "IPY_MODEL_b06ce3d590794eaf86fe1420411a02b8",
            "value": "model.safetensors.index.json: 100%"
          }
        },
        "a5c19aff38ca48088dd640a724d98226": {
          "model_module": "@jupyter-widgets/controls",
          "model_name": "FloatProgressModel",
          "model_module_version": "1.5.0",
          "state": {
            "_dom_classes": [],
            "_model_module": "@jupyter-widgets/controls",
            "_model_module_version": "1.5.0",
            "_model_name": "FloatProgressModel",
            "_view_count": null,
            "_view_module": "@jupyter-widgets/controls",
            "_view_module_version": "1.5.0",
            "_view_name": "ProgressView",
            "bar_style": "success",
            "description": "",
            "description_tooltip": null,
            "layout": "IPY_MODEL_844e7dc8800c49c08f952e310580c4dc",
            "max": 23950,
            "min": 0,
            "orientation": "horizontal",
            "style": "IPY_MODEL_8ec282ad9d4f497b9153fef3ad5bb3c3",
            "value": 23950
          }
        },
        "eaff3476824d4c259a162c135f64f847": {
          "model_module": "@jupyter-widgets/controls",
          "model_name": "HTMLModel",
          "model_module_version": "1.5.0",
          "state": {
            "_dom_classes": [],
            "_model_module": "@jupyter-widgets/controls",
            "_model_module_version": "1.5.0",
            "_model_name": "HTMLModel",
            "_view_count": null,
            "_view_module": "@jupyter-widgets/controls",
            "_view_module_version": "1.5.0",
            "_view_name": "HTMLView",
            "description": "",
            "description_tooltip": null,
            "layout": "IPY_MODEL_cbbf695bda37469d94c7ccc9e6cb7045",
            "placeholder": "​",
            "style": "IPY_MODEL_4750a450614f46769c2dfae077e357e9",
            "value": " 23.9k/23.9k [00:00&lt;00:00, 3.20MB/s]"
          }
        },
        "dcc33a76c22946bcb3eec6dfecad11f6": {
          "model_module": "@jupyter-widgets/base",
          "model_name": "LayoutModel",
          "model_module_version": "1.2.0",
          "state": {
            "_model_module": "@jupyter-widgets/base",
            "_model_module_version": "1.2.0",
            "_model_name": "LayoutModel",
            "_view_count": null,
            "_view_module": "@jupyter-widgets/base",
            "_view_module_version": "1.2.0",
            "_view_name": "LayoutView",
            "align_content": null,
            "align_items": null,
            "align_self": null,
            "border": null,
            "bottom": null,
            "display": null,
            "flex": null,
            "flex_flow": null,
            "grid_area": null,
            "grid_auto_columns": null,
            "grid_auto_flow": null,
            "grid_auto_rows": null,
            "grid_column": null,
            "grid_gap": null,
            "grid_row": null,
            "grid_template_areas": null,
            "grid_template_columns": null,
            "grid_template_rows": null,
            "height": null,
            "justify_content": null,
            "justify_items": null,
            "left": null,
            "margin": null,
            "max_height": null,
            "max_width": null,
            "min_height": null,
            "min_width": null,
            "object_fit": null,
            "object_position": null,
            "order": null,
            "overflow": null,
            "overflow_x": null,
            "overflow_y": null,
            "padding": null,
            "right": null,
            "top": null,
            "visibility": null,
            "width": null
          }
        },
        "29a7a30681c641b9854786178b0f6cb0": {
          "model_module": "@jupyter-widgets/base",
          "model_name": "LayoutModel",
          "model_module_version": "1.2.0",
          "state": {
            "_model_module": "@jupyter-widgets/base",
            "_model_module_version": "1.2.0",
            "_model_name": "LayoutModel",
            "_view_count": null,
            "_view_module": "@jupyter-widgets/base",
            "_view_module_version": "1.2.0",
            "_view_name": "LayoutView",
            "align_content": null,
            "align_items": null,
            "align_self": null,
            "border": null,
            "bottom": null,
            "display": null,
            "flex": null,
            "flex_flow": null,
            "grid_area": null,
            "grid_auto_columns": null,
            "grid_auto_flow": null,
            "grid_auto_rows": null,
            "grid_column": null,
            "grid_gap": null,
            "grid_row": null,
            "grid_template_areas": null,
            "grid_template_columns": null,
            "grid_template_rows": null,
            "height": null,
            "justify_content": null,
            "justify_items": null,
            "left": null,
            "margin": null,
            "max_height": null,
            "max_width": null,
            "min_height": null,
            "min_width": null,
            "object_fit": null,
            "object_position": null,
            "order": null,
            "overflow": null,
            "overflow_x": null,
            "overflow_y": null,
            "padding": null,
            "right": null,
            "top": null,
            "visibility": null,
            "width": null
          }
        },
        "b06ce3d590794eaf86fe1420411a02b8": {
          "model_module": "@jupyter-widgets/controls",
          "model_name": "DescriptionStyleModel",
          "model_module_version": "1.5.0",
          "state": {
            "_model_module": "@jupyter-widgets/controls",
            "_model_module_version": "1.5.0",
            "_model_name": "DescriptionStyleModel",
            "_view_count": null,
            "_view_module": "@jupyter-widgets/base",
            "_view_module_version": "1.2.0",
            "_view_name": "StyleView",
            "description_width": ""
          }
        },
        "844e7dc8800c49c08f952e310580c4dc": {
          "model_module": "@jupyter-widgets/base",
          "model_name": "LayoutModel",
          "model_module_version": "1.2.0",
          "state": {
            "_model_module": "@jupyter-widgets/base",
            "_model_module_version": "1.2.0",
            "_model_name": "LayoutModel",
            "_view_count": null,
            "_view_module": "@jupyter-widgets/base",
            "_view_module_version": "1.2.0",
            "_view_name": "LayoutView",
            "align_content": null,
            "align_items": null,
            "align_self": null,
            "border": null,
            "bottom": null,
            "display": null,
            "flex": null,
            "flex_flow": null,
            "grid_area": null,
            "grid_auto_columns": null,
            "grid_auto_flow": null,
            "grid_auto_rows": null,
            "grid_column": null,
            "grid_gap": null,
            "grid_row": null,
            "grid_template_areas": null,
            "grid_template_columns": null,
            "grid_template_rows": null,
            "height": null,
            "justify_content": null,
            "justify_items": null,
            "left": null,
            "margin": null,
            "max_height": null,
            "max_width": null,
            "min_height": null,
            "min_width": null,
            "object_fit": null,
            "object_position": null,
            "order": null,
            "overflow": null,
            "overflow_x": null,
            "overflow_y": null,
            "padding": null,
            "right": null,
            "top": null,
            "visibility": null,
            "width": null
          }
        },
        "8ec282ad9d4f497b9153fef3ad5bb3c3": {
          "model_module": "@jupyter-widgets/controls",
          "model_name": "ProgressStyleModel",
          "model_module_version": "1.5.0",
          "state": {
            "_model_module": "@jupyter-widgets/controls",
            "_model_module_version": "1.5.0",
            "_model_name": "ProgressStyleModel",
            "_view_count": null,
            "_view_module": "@jupyter-widgets/base",
            "_view_module_version": "1.2.0",
            "_view_name": "StyleView",
            "bar_color": null,
            "description_width": ""
          }
        },
        "cbbf695bda37469d94c7ccc9e6cb7045": {
          "model_module": "@jupyter-widgets/base",
          "model_name": "LayoutModel",
          "model_module_version": "1.2.0",
          "state": {
            "_model_module": "@jupyter-widgets/base",
            "_model_module_version": "1.2.0",
            "_model_name": "LayoutModel",
            "_view_count": null,
            "_view_module": "@jupyter-widgets/base",
            "_view_module_version": "1.2.0",
            "_view_name": "LayoutView",
            "align_content": null,
            "align_items": null,
            "align_self": null,
            "border": null,
            "bottom": null,
            "display": null,
            "flex": null,
            "flex_flow": null,
            "grid_area": null,
            "grid_auto_columns": null,
            "grid_auto_flow": null,
            "grid_auto_rows": null,
            "grid_column": null,
            "grid_gap": null,
            "grid_row": null,
            "grid_template_areas": null,
            "grid_template_columns": null,
            "grid_template_rows": null,
            "height": null,
            "justify_content": null,
            "justify_items": null,
            "left": null,
            "margin": null,
            "max_height": null,
            "max_width": null,
            "min_height": null,
            "min_width": null,
            "object_fit": null,
            "object_position": null,
            "order": null,
            "overflow": null,
            "overflow_x": null,
            "overflow_y": null,
            "padding": null,
            "right": null,
            "top": null,
            "visibility": null,
            "width": null
          }
        },
        "4750a450614f46769c2dfae077e357e9": {
          "model_module": "@jupyter-widgets/controls",
          "model_name": "DescriptionStyleModel",
          "model_module_version": "1.5.0",
          "state": {
            "_model_module": "@jupyter-widgets/controls",
            "_model_module_version": "1.5.0",
            "_model_name": "DescriptionStyleModel",
            "_view_count": null,
            "_view_module": "@jupyter-widgets/base",
            "_view_module_version": "1.2.0",
            "_view_name": "StyleView",
            "description_width": ""
          }
        },
        "15f7fb1232a7469c980fb214c418edca": {
          "model_module": "@jupyter-widgets/controls",
          "model_name": "HBoxModel",
          "model_module_version": "1.5.0",
          "state": {
            "_dom_classes": [],
            "_model_module": "@jupyter-widgets/controls",
            "_model_module_version": "1.5.0",
            "_model_name": "HBoxModel",
            "_view_count": null,
            "_view_module": "@jupyter-widgets/controls",
            "_view_module_version": "1.5.0",
            "_view_name": "HBoxView",
            "box_style": "",
            "children": [
              "IPY_MODEL_a8f5f5d236fc43fbba905d6552d61eaa",
              "IPY_MODEL_949697d37a31442da4672423db2f0f21",
              "IPY_MODEL_0b76cd19d31c4f3ba61a8eedefb1ddb6"
            ],
            "layout": "IPY_MODEL_8ec0a649035e45f699610690bbb1ed08"
          }
        },
        "a8f5f5d236fc43fbba905d6552d61eaa": {
          "model_module": "@jupyter-widgets/controls",
          "model_name": "HTMLModel",
          "model_module_version": "1.5.0",
          "state": {
            "_dom_classes": [],
            "_model_module": "@jupyter-widgets/controls",
            "_model_module_version": "1.5.0",
            "_model_name": "HTMLModel",
            "_view_count": null,
            "_view_module": "@jupyter-widgets/controls",
            "_view_module_version": "1.5.0",
            "_view_name": "HTMLView",
            "description": "",
            "description_tooltip": null,
            "layout": "IPY_MODEL_672fa0f6817046ebb46319e3e8e6f53e",
            "placeholder": "​",
            "style": "IPY_MODEL_16c47971a6524e42b0ef970a42e01afe",
            "value": "Fetching 4 files: 100%"
          }
        },
        "949697d37a31442da4672423db2f0f21": {
          "model_module": "@jupyter-widgets/controls",
          "model_name": "FloatProgressModel",
          "model_module_version": "1.5.0",
          "state": {
            "_dom_classes": [],
            "_model_module": "@jupyter-widgets/controls",
            "_model_module_version": "1.5.0",
            "_model_name": "FloatProgressModel",
            "_view_count": null,
            "_view_module": "@jupyter-widgets/controls",
            "_view_module_version": "1.5.0",
            "_view_name": "ProgressView",
            "bar_style": "success",
            "description": "",
            "description_tooltip": null,
            "layout": "IPY_MODEL_9c6b85e70dda4a3b9cf9aab60a8efa85",
            "max": 4,
            "min": 0,
            "orientation": "horizontal",
            "style": "IPY_MODEL_d2db921a878a4c35963396b6fddf1dc3",
            "value": 4
          }
        },
        "0b76cd19d31c4f3ba61a8eedefb1ddb6": {
          "model_module": "@jupyter-widgets/controls",
          "model_name": "HTMLModel",
          "model_module_version": "1.5.0",
          "state": {
            "_dom_classes": [],
            "_model_module": "@jupyter-widgets/controls",
            "_model_module_version": "1.5.0",
            "_model_name": "HTMLModel",
            "_view_count": null,
            "_view_module": "@jupyter-widgets/controls",
            "_view_module_version": "1.5.0",
            "_view_name": "HTMLView",
            "description": "",
            "description_tooltip": null,
            "layout": "IPY_MODEL_55ed04012d114fa79f2aa5a35781251c",
            "placeholder": "​",
            "style": "IPY_MODEL_6bed223cf9d74db29de510802897a7c8",
            "value": " 4/4 [01:29&lt;00:00, 89.94s/it]"
          }
        },
        "8ec0a649035e45f699610690bbb1ed08": {
          "model_module": "@jupyter-widgets/base",
          "model_name": "LayoutModel",
          "model_module_version": "1.2.0",
          "state": {
            "_model_module": "@jupyter-widgets/base",
            "_model_module_version": "1.2.0",
            "_model_name": "LayoutModel",
            "_view_count": null,
            "_view_module": "@jupyter-widgets/base",
            "_view_module_version": "1.2.0",
            "_view_name": "LayoutView",
            "align_content": null,
            "align_items": null,
            "align_self": null,
            "border": null,
            "bottom": null,
            "display": null,
            "flex": null,
            "flex_flow": null,
            "grid_area": null,
            "grid_auto_columns": null,
            "grid_auto_flow": null,
            "grid_auto_rows": null,
            "grid_column": null,
            "grid_gap": null,
            "grid_row": null,
            "grid_template_areas": null,
            "grid_template_columns": null,
            "grid_template_rows": null,
            "height": null,
            "justify_content": null,
            "justify_items": null,
            "left": null,
            "margin": null,
            "max_height": null,
            "max_width": null,
            "min_height": null,
            "min_width": null,
            "object_fit": null,
            "object_position": null,
            "order": null,
            "overflow": null,
            "overflow_x": null,
            "overflow_y": null,
            "padding": null,
            "right": null,
            "top": null,
            "visibility": null,
            "width": null
          }
        },
        "672fa0f6817046ebb46319e3e8e6f53e": {
          "model_module": "@jupyter-widgets/base",
          "model_name": "LayoutModel",
          "model_module_version": "1.2.0",
          "state": {
            "_model_module": "@jupyter-widgets/base",
            "_model_module_version": "1.2.0",
            "_model_name": "LayoutModel",
            "_view_count": null,
            "_view_module": "@jupyter-widgets/base",
            "_view_module_version": "1.2.0",
            "_view_name": "LayoutView",
            "align_content": null,
            "align_items": null,
            "align_self": null,
            "border": null,
            "bottom": null,
            "display": null,
            "flex": null,
            "flex_flow": null,
            "grid_area": null,
            "grid_auto_columns": null,
            "grid_auto_flow": null,
            "grid_auto_rows": null,
            "grid_column": null,
            "grid_gap": null,
            "grid_row": null,
            "grid_template_areas": null,
            "grid_template_columns": null,
            "grid_template_rows": null,
            "height": null,
            "justify_content": null,
            "justify_items": null,
            "left": null,
            "margin": null,
            "max_height": null,
            "max_width": null,
            "min_height": null,
            "min_width": null,
            "object_fit": null,
            "object_position": null,
            "order": null,
            "overflow": null,
            "overflow_x": null,
            "overflow_y": null,
            "padding": null,
            "right": null,
            "top": null,
            "visibility": null,
            "width": null
          }
        },
        "16c47971a6524e42b0ef970a42e01afe": {
          "model_module": "@jupyter-widgets/controls",
          "model_name": "DescriptionStyleModel",
          "model_module_version": "1.5.0",
          "state": {
            "_model_module": "@jupyter-widgets/controls",
            "_model_module_version": "1.5.0",
            "_model_name": "DescriptionStyleModel",
            "_view_count": null,
            "_view_module": "@jupyter-widgets/base",
            "_view_module_version": "1.2.0",
            "_view_name": "StyleView",
            "description_width": ""
          }
        },
        "9c6b85e70dda4a3b9cf9aab60a8efa85": {
          "model_module": "@jupyter-widgets/base",
          "model_name": "LayoutModel",
          "model_module_version": "1.2.0",
          "state": {
            "_model_module": "@jupyter-widgets/base",
            "_model_module_version": "1.2.0",
            "_model_name": "LayoutModel",
            "_view_count": null,
            "_view_module": "@jupyter-widgets/base",
            "_view_module_version": "1.2.0",
            "_view_name": "LayoutView",
            "align_content": null,
            "align_items": null,
            "align_self": null,
            "border": null,
            "bottom": null,
            "display": null,
            "flex": null,
            "flex_flow": null,
            "grid_area": null,
            "grid_auto_columns": null,
            "grid_auto_flow": null,
            "grid_auto_rows": null,
            "grid_column": null,
            "grid_gap": null,
            "grid_row": null,
            "grid_template_areas": null,
            "grid_template_columns": null,
            "grid_template_rows": null,
            "height": null,
            "justify_content": null,
            "justify_items": null,
            "left": null,
            "margin": null,
            "max_height": null,
            "max_width": null,
            "min_height": null,
            "min_width": null,
            "object_fit": null,
            "object_position": null,
            "order": null,
            "overflow": null,
            "overflow_x": null,
            "overflow_y": null,
            "padding": null,
            "right": null,
            "top": null,
            "visibility": null,
            "width": null
          }
        },
        "d2db921a878a4c35963396b6fddf1dc3": {
          "model_module": "@jupyter-widgets/controls",
          "model_name": "ProgressStyleModel",
          "model_module_version": "1.5.0",
          "state": {
            "_model_module": "@jupyter-widgets/controls",
            "_model_module_version": "1.5.0",
            "_model_name": "ProgressStyleModel",
            "_view_count": null,
            "_view_module": "@jupyter-widgets/base",
            "_view_module_version": "1.2.0",
            "_view_name": "StyleView",
            "bar_color": null,
            "description_width": ""
          }
        },
        "55ed04012d114fa79f2aa5a35781251c": {
          "model_module": "@jupyter-widgets/base",
          "model_name": "LayoutModel",
          "model_module_version": "1.2.0",
          "state": {
            "_model_module": "@jupyter-widgets/base",
            "_model_module_version": "1.2.0",
            "_model_name": "LayoutModel",
            "_view_count": null,
            "_view_module": "@jupyter-widgets/base",
            "_view_module_version": "1.2.0",
            "_view_name": "LayoutView",
            "align_content": null,
            "align_items": null,
            "align_self": null,
            "border": null,
            "bottom": null,
            "display": null,
            "flex": null,
            "flex_flow": null,
            "grid_area": null,
            "grid_auto_columns": null,
            "grid_auto_flow": null,
            "grid_auto_rows": null,
            "grid_column": null,
            "grid_gap": null,
            "grid_row": null,
            "grid_template_areas": null,
            "grid_template_columns": null,
            "grid_template_rows": null,
            "height": null,
            "justify_content": null,
            "justify_items": null,
            "left": null,
            "margin": null,
            "max_height": null,
            "max_width": null,
            "min_height": null,
            "min_width": null,
            "object_fit": null,
            "object_position": null,
            "order": null,
            "overflow": null,
            "overflow_x": null,
            "overflow_y": null,
            "padding": null,
            "right": null,
            "top": null,
            "visibility": null,
            "width": null
          }
        },
        "6bed223cf9d74db29de510802897a7c8": {
          "model_module": "@jupyter-widgets/controls",
          "model_name": "DescriptionStyleModel",
          "model_module_version": "1.5.0",
          "state": {
            "_model_module": "@jupyter-widgets/controls",
            "_model_module_version": "1.5.0",
            "_model_name": "DescriptionStyleModel",
            "_view_count": null,
            "_view_module": "@jupyter-widgets/base",
            "_view_module_version": "1.2.0",
            "_view_name": "StyleView",
            "description_width": ""
          }
        },
        "fe97c648a3544d34b9ed43dd12803ab1": {
          "model_module": "@jupyter-widgets/controls",
          "model_name": "HBoxModel",
          "model_module_version": "1.5.0",
          "state": {
            "_dom_classes": [],
            "_model_module": "@jupyter-widgets/controls",
            "_model_module_version": "1.5.0",
            "_model_name": "HBoxModel",
            "_view_count": null,
            "_view_module": "@jupyter-widgets/controls",
            "_view_module_version": "1.5.0",
            "_view_name": "HBoxView",
            "box_style": "",
            "children": [
              "IPY_MODEL_b60fa3f30c2f41aaab52ab71a2ca5ac7",
              "IPY_MODEL_0d48e93ab9d1433bbedee69eb7dedd3c",
              "IPY_MODEL_ba08d2383a6846c1bf715987a4caf888"
            ],
            "layout": "IPY_MODEL_127239efefe1408e8898cc1e732fd427"
          }
        },
        "b60fa3f30c2f41aaab52ab71a2ca5ac7": {
          "model_module": "@jupyter-widgets/controls",
          "model_name": "HTMLModel",
          "model_module_version": "1.5.0",
          "state": {
            "_dom_classes": [],
            "_model_module": "@jupyter-widgets/controls",
            "_model_module_version": "1.5.0",
            "_model_name": "HTMLModel",
            "_view_count": null,
            "_view_module": "@jupyter-widgets/controls",
            "_view_module_version": "1.5.0",
            "_view_name": "HTMLView",
            "description": "",
            "description_tooltip": null,
            "layout": "IPY_MODEL_4a8b21a4aa27458fa32286d8eaa97d7d",
            "placeholder": "​",
            "style": "IPY_MODEL_8b71b4a9107b47d8a154a05029a2c34f",
            "value": "model-00003-of-00004.safetensors: 100%"
          }
        },
        "0d48e93ab9d1433bbedee69eb7dedd3c": {
          "model_module": "@jupyter-widgets/controls",
          "model_name": "FloatProgressModel",
          "model_module_version": "1.5.0",
          "state": {
            "_dom_classes": [],
            "_model_module": "@jupyter-widgets/controls",
            "_model_module_version": "1.5.0",
            "_model_name": "FloatProgressModel",
            "_view_count": null,
            "_view_module": "@jupyter-widgets/controls",
            "_view_module_version": "1.5.0",
            "_view_name": "ProgressView",
            "bar_style": "success",
            "description": "",
            "description_tooltip": null,
            "layout": "IPY_MODEL_f6909936f8d84f768691c79fa5ebb332",
            "max": 4915916176,
            "min": 0,
            "orientation": "horizontal",
            "style": "IPY_MODEL_9665db45f33f4c15b1c54b039fd8d22f",
            "value": 4915916176
          }
        },
        "ba08d2383a6846c1bf715987a4caf888": {
          "model_module": "@jupyter-widgets/controls",
          "model_name": "HTMLModel",
          "model_module_version": "1.5.0",
          "state": {
            "_dom_classes": [],
            "_model_module": "@jupyter-widgets/controls",
            "_model_module_version": "1.5.0",
            "_model_name": "HTMLModel",
            "_view_count": null,
            "_view_module": "@jupyter-widgets/controls",
            "_view_module_version": "1.5.0",
            "_view_name": "HTMLView",
            "description": "",
            "description_tooltip": null,
            "layout": "IPY_MODEL_27473fe3728a42478ff6f275db153da5",
            "placeholder": "​",
            "style": "IPY_MODEL_7d2223daba3a4e07b1962a5e3ad7739a",
            "value": " 4.92G/4.92G [01:15&lt;00:00, 86.6MB/s]"
          }
        },
        "127239efefe1408e8898cc1e732fd427": {
          "model_module": "@jupyter-widgets/base",
          "model_name": "LayoutModel",
          "model_module_version": "1.2.0",
          "state": {
            "_model_module": "@jupyter-widgets/base",
            "_model_module_version": "1.2.0",
            "_model_name": "LayoutModel",
            "_view_count": null,
            "_view_module": "@jupyter-widgets/base",
            "_view_module_version": "1.2.0",
            "_view_name": "LayoutView",
            "align_content": null,
            "align_items": null,
            "align_self": null,
            "border": null,
            "bottom": null,
            "display": null,
            "flex": null,
            "flex_flow": null,
            "grid_area": null,
            "grid_auto_columns": null,
            "grid_auto_flow": null,
            "grid_auto_rows": null,
            "grid_column": null,
            "grid_gap": null,
            "grid_row": null,
            "grid_template_areas": null,
            "grid_template_columns": null,
            "grid_template_rows": null,
            "height": null,
            "justify_content": null,
            "justify_items": null,
            "left": null,
            "margin": null,
            "max_height": null,
            "max_width": null,
            "min_height": null,
            "min_width": null,
            "object_fit": null,
            "object_position": null,
            "order": null,
            "overflow": null,
            "overflow_x": null,
            "overflow_y": null,
            "padding": null,
            "right": null,
            "top": null,
            "visibility": null,
            "width": null
          }
        },
        "4a8b21a4aa27458fa32286d8eaa97d7d": {
          "model_module": "@jupyter-widgets/base",
          "model_name": "LayoutModel",
          "model_module_version": "1.2.0",
          "state": {
            "_model_module": "@jupyter-widgets/base",
            "_model_module_version": "1.2.0",
            "_model_name": "LayoutModel",
            "_view_count": null,
            "_view_module": "@jupyter-widgets/base",
            "_view_module_version": "1.2.0",
            "_view_name": "LayoutView",
            "align_content": null,
            "align_items": null,
            "align_self": null,
            "border": null,
            "bottom": null,
            "display": null,
            "flex": null,
            "flex_flow": null,
            "grid_area": null,
            "grid_auto_columns": null,
            "grid_auto_flow": null,
            "grid_auto_rows": null,
            "grid_column": null,
            "grid_gap": null,
            "grid_row": null,
            "grid_template_areas": null,
            "grid_template_columns": null,
            "grid_template_rows": null,
            "height": null,
            "justify_content": null,
            "justify_items": null,
            "left": null,
            "margin": null,
            "max_height": null,
            "max_width": null,
            "min_height": null,
            "min_width": null,
            "object_fit": null,
            "object_position": null,
            "order": null,
            "overflow": null,
            "overflow_x": null,
            "overflow_y": null,
            "padding": null,
            "right": null,
            "top": null,
            "visibility": null,
            "width": null
          }
        },
        "8b71b4a9107b47d8a154a05029a2c34f": {
          "model_module": "@jupyter-widgets/controls",
          "model_name": "DescriptionStyleModel",
          "model_module_version": "1.5.0",
          "state": {
            "_model_module": "@jupyter-widgets/controls",
            "_model_module_version": "1.5.0",
            "_model_name": "DescriptionStyleModel",
            "_view_count": null,
            "_view_module": "@jupyter-widgets/base",
            "_view_module_version": "1.2.0",
            "_view_name": "StyleView",
            "description_width": ""
          }
        },
        "f6909936f8d84f768691c79fa5ebb332": {
          "model_module": "@jupyter-widgets/base",
          "model_name": "LayoutModel",
          "model_module_version": "1.2.0",
          "state": {
            "_model_module": "@jupyter-widgets/base",
            "_model_module_version": "1.2.0",
            "_model_name": "LayoutModel",
            "_view_count": null,
            "_view_module": "@jupyter-widgets/base",
            "_view_module_version": "1.2.0",
            "_view_name": "LayoutView",
            "align_content": null,
            "align_items": null,
            "align_self": null,
            "border": null,
            "bottom": null,
            "display": null,
            "flex": null,
            "flex_flow": null,
            "grid_area": null,
            "grid_auto_columns": null,
            "grid_auto_flow": null,
            "grid_auto_rows": null,
            "grid_column": null,
            "grid_gap": null,
            "grid_row": null,
            "grid_template_areas": null,
            "grid_template_columns": null,
            "grid_template_rows": null,
            "height": null,
            "justify_content": null,
            "justify_items": null,
            "left": null,
            "margin": null,
            "max_height": null,
            "max_width": null,
            "min_height": null,
            "min_width": null,
            "object_fit": null,
            "object_position": null,
            "order": null,
            "overflow": null,
            "overflow_x": null,
            "overflow_y": null,
            "padding": null,
            "right": null,
            "top": null,
            "visibility": null,
            "width": null
          }
        },
        "9665db45f33f4c15b1c54b039fd8d22f": {
          "model_module": "@jupyter-widgets/controls",
          "model_name": "ProgressStyleModel",
          "model_module_version": "1.5.0",
          "state": {
            "_model_module": "@jupyter-widgets/controls",
            "_model_module_version": "1.5.0",
            "_model_name": "ProgressStyleModel",
            "_view_count": null,
            "_view_module": "@jupyter-widgets/base",
            "_view_module_version": "1.2.0",
            "_view_name": "StyleView",
            "bar_color": null,
            "description_width": ""
          }
        },
        "27473fe3728a42478ff6f275db153da5": {
          "model_module": "@jupyter-widgets/base",
          "model_name": "LayoutModel",
          "model_module_version": "1.2.0",
          "state": {
            "_model_module": "@jupyter-widgets/base",
            "_model_module_version": "1.2.0",
            "_model_name": "LayoutModel",
            "_view_count": null,
            "_view_module": "@jupyter-widgets/base",
            "_view_module_version": "1.2.0",
            "_view_name": "LayoutView",
            "align_content": null,
            "align_items": null,
            "align_self": null,
            "border": null,
            "bottom": null,
            "display": null,
            "flex": null,
            "flex_flow": null,
            "grid_area": null,
            "grid_auto_columns": null,
            "grid_auto_flow": null,
            "grid_auto_rows": null,
            "grid_column": null,
            "grid_gap": null,
            "grid_row": null,
            "grid_template_areas": null,
            "grid_template_columns": null,
            "grid_template_rows": null,
            "height": null,
            "justify_content": null,
            "justify_items": null,
            "left": null,
            "margin": null,
            "max_height": null,
            "max_width": null,
            "min_height": null,
            "min_width": null,
            "object_fit": null,
            "object_position": null,
            "order": null,
            "overflow": null,
            "overflow_x": null,
            "overflow_y": null,
            "padding": null,
            "right": null,
            "top": null,
            "visibility": null,
            "width": null
          }
        },
        "7d2223daba3a4e07b1962a5e3ad7739a": {
          "model_module": "@jupyter-widgets/controls",
          "model_name": "DescriptionStyleModel",
          "model_module_version": "1.5.0",
          "state": {
            "_model_module": "@jupyter-widgets/controls",
            "_model_module_version": "1.5.0",
            "_model_name": "DescriptionStyleModel",
            "_view_count": null,
            "_view_module": "@jupyter-widgets/base",
            "_view_module_version": "1.2.0",
            "_view_name": "StyleView",
            "description_width": ""
          }
        },
        "cdbf1e94743d47218ca6a539c81efcbb": {
          "model_module": "@jupyter-widgets/controls",
          "model_name": "HBoxModel",
          "model_module_version": "1.5.0",
          "state": {
            "_dom_classes": [],
            "_model_module": "@jupyter-widgets/controls",
            "_model_module_version": "1.5.0",
            "_model_name": "HBoxModel",
            "_view_count": null,
            "_view_module": "@jupyter-widgets/controls",
            "_view_module_version": "1.5.0",
            "_view_name": "HBoxView",
            "box_style": "",
            "children": [
              "IPY_MODEL_a0f568f56bf547fa8351fe296df2bb35",
              "IPY_MODEL_a237b397a89b4d49a04b2318535bb52e",
              "IPY_MODEL_493fc623b9314cf4b96a8cf058e9cf00"
            ],
            "layout": "IPY_MODEL_d5838ca529b449f3b8168faa6dff2274"
          }
        },
        "a0f568f56bf547fa8351fe296df2bb35": {
          "model_module": "@jupyter-widgets/controls",
          "model_name": "HTMLModel",
          "model_module_version": "1.5.0",
          "state": {
            "_dom_classes": [],
            "_model_module": "@jupyter-widgets/controls",
            "_model_module_version": "1.5.0",
            "_model_name": "HTMLModel",
            "_view_count": null,
            "_view_module": "@jupyter-widgets/controls",
            "_view_module_version": "1.5.0",
            "_view_name": "HTMLView",
            "description": "",
            "description_tooltip": null,
            "layout": "IPY_MODEL_6af273a832c84655aa71a2ec1903535b",
            "placeholder": "​",
            "style": "IPY_MODEL_a5b440b110ee4b8c93d6181e3390c64b",
            "value": "model-00001-of-00004.safetensors: 100%"
          }
        },
        "a237b397a89b4d49a04b2318535bb52e": {
          "model_module": "@jupyter-widgets/controls",
          "model_name": "FloatProgressModel",
          "model_module_version": "1.5.0",
          "state": {
            "_dom_classes": [],
            "_model_module": "@jupyter-widgets/controls",
            "_model_module_version": "1.5.0",
            "_model_name": "FloatProgressModel",
            "_view_count": null,
            "_view_module": "@jupyter-widgets/controls",
            "_view_module_version": "1.5.0",
            "_view_name": "ProgressView",
            "bar_style": "success",
            "description": "",
            "description_tooltip": null,
            "layout": "IPY_MODEL_e5d066150d314473b6d655994c3e61a7",
            "max": 4976698672,
            "min": 0,
            "orientation": "horizontal",
            "style": "IPY_MODEL_676d5d42540143b89f90ca53b55efde4",
            "value": 4976698672
          }
        },
        "493fc623b9314cf4b96a8cf058e9cf00": {
          "model_module": "@jupyter-widgets/controls",
          "model_name": "HTMLModel",
          "model_module_version": "1.5.0",
          "state": {
            "_dom_classes": [],
            "_model_module": "@jupyter-widgets/controls",
            "_model_module_version": "1.5.0",
            "_model_name": "HTMLModel",
            "_view_count": null,
            "_view_module": "@jupyter-widgets/controls",
            "_view_module_version": "1.5.0",
            "_view_name": "HTMLView",
            "description": "",
            "description_tooltip": null,
            "layout": "IPY_MODEL_3135c9ce4dd84225bd5a9dae703718a4",
            "placeholder": "​",
            "style": "IPY_MODEL_8f79670df85743739d69476076035123",
            "value": " 4.98G/4.98G [01:29&lt;00:00, 141MB/s]"
          }
        },
        "d5838ca529b449f3b8168faa6dff2274": {
          "model_module": "@jupyter-widgets/base",
          "model_name": "LayoutModel",
          "model_module_version": "1.2.0",
          "state": {
            "_model_module": "@jupyter-widgets/base",
            "_model_module_version": "1.2.0",
            "_model_name": "LayoutModel",
            "_view_count": null,
            "_view_module": "@jupyter-widgets/base",
            "_view_module_version": "1.2.0",
            "_view_name": "LayoutView",
            "align_content": null,
            "align_items": null,
            "align_self": null,
            "border": null,
            "bottom": null,
            "display": null,
            "flex": null,
            "flex_flow": null,
            "grid_area": null,
            "grid_auto_columns": null,
            "grid_auto_flow": null,
            "grid_auto_rows": null,
            "grid_column": null,
            "grid_gap": null,
            "grid_row": null,
            "grid_template_areas": null,
            "grid_template_columns": null,
            "grid_template_rows": null,
            "height": null,
            "justify_content": null,
            "justify_items": null,
            "left": null,
            "margin": null,
            "max_height": null,
            "max_width": null,
            "min_height": null,
            "min_width": null,
            "object_fit": null,
            "object_position": null,
            "order": null,
            "overflow": null,
            "overflow_x": null,
            "overflow_y": null,
            "padding": null,
            "right": null,
            "top": null,
            "visibility": null,
            "width": null
          }
        },
        "6af273a832c84655aa71a2ec1903535b": {
          "model_module": "@jupyter-widgets/base",
          "model_name": "LayoutModel",
          "model_module_version": "1.2.0",
          "state": {
            "_model_module": "@jupyter-widgets/base",
            "_model_module_version": "1.2.0",
            "_model_name": "LayoutModel",
            "_view_count": null,
            "_view_module": "@jupyter-widgets/base",
            "_view_module_version": "1.2.0",
            "_view_name": "LayoutView",
            "align_content": null,
            "align_items": null,
            "align_self": null,
            "border": null,
            "bottom": null,
            "display": null,
            "flex": null,
            "flex_flow": null,
            "grid_area": null,
            "grid_auto_columns": null,
            "grid_auto_flow": null,
            "grid_auto_rows": null,
            "grid_column": null,
            "grid_gap": null,
            "grid_row": null,
            "grid_template_areas": null,
            "grid_template_columns": null,
            "grid_template_rows": null,
            "height": null,
            "justify_content": null,
            "justify_items": null,
            "left": null,
            "margin": null,
            "max_height": null,
            "max_width": null,
            "min_height": null,
            "min_width": null,
            "object_fit": null,
            "object_position": null,
            "order": null,
            "overflow": null,
            "overflow_x": null,
            "overflow_y": null,
            "padding": null,
            "right": null,
            "top": null,
            "visibility": null,
            "width": null
          }
        },
        "a5b440b110ee4b8c93d6181e3390c64b": {
          "model_module": "@jupyter-widgets/controls",
          "model_name": "DescriptionStyleModel",
          "model_module_version": "1.5.0",
          "state": {
            "_model_module": "@jupyter-widgets/controls",
            "_model_module_version": "1.5.0",
            "_model_name": "DescriptionStyleModel",
            "_view_count": null,
            "_view_module": "@jupyter-widgets/base",
            "_view_module_version": "1.2.0",
            "_view_name": "StyleView",
            "description_width": ""
          }
        },
        "e5d066150d314473b6d655994c3e61a7": {
          "model_module": "@jupyter-widgets/base",
          "model_name": "LayoutModel",
          "model_module_version": "1.2.0",
          "state": {
            "_model_module": "@jupyter-widgets/base",
            "_model_module_version": "1.2.0",
            "_model_name": "LayoutModel",
            "_view_count": null,
            "_view_module": "@jupyter-widgets/base",
            "_view_module_version": "1.2.0",
            "_view_name": "LayoutView",
            "align_content": null,
            "align_items": null,
            "align_self": null,
            "border": null,
            "bottom": null,
            "display": null,
            "flex": null,
            "flex_flow": null,
            "grid_area": null,
            "grid_auto_columns": null,
            "grid_auto_flow": null,
            "grid_auto_rows": null,
            "grid_column": null,
            "grid_gap": null,
            "grid_row": null,
            "grid_template_areas": null,
            "grid_template_columns": null,
            "grid_template_rows": null,
            "height": null,
            "justify_content": null,
            "justify_items": null,
            "left": null,
            "margin": null,
            "max_height": null,
            "max_width": null,
            "min_height": null,
            "min_width": null,
            "object_fit": null,
            "object_position": null,
            "order": null,
            "overflow": null,
            "overflow_x": null,
            "overflow_y": null,
            "padding": null,
            "right": null,
            "top": null,
            "visibility": null,
            "width": null
          }
        },
        "676d5d42540143b89f90ca53b55efde4": {
          "model_module": "@jupyter-widgets/controls",
          "model_name": "ProgressStyleModel",
          "model_module_version": "1.5.0",
          "state": {
            "_model_module": "@jupyter-widgets/controls",
            "_model_module_version": "1.5.0",
            "_model_name": "ProgressStyleModel",
            "_view_count": null,
            "_view_module": "@jupyter-widgets/base",
            "_view_module_version": "1.2.0",
            "_view_name": "StyleView",
            "bar_color": null,
            "description_width": ""
          }
        },
        "3135c9ce4dd84225bd5a9dae703718a4": {
          "model_module": "@jupyter-widgets/base",
          "model_name": "LayoutModel",
          "model_module_version": "1.2.0",
          "state": {
            "_model_module": "@jupyter-widgets/base",
            "_model_module_version": "1.2.0",
            "_model_name": "LayoutModel",
            "_view_count": null,
            "_view_module": "@jupyter-widgets/base",
            "_view_module_version": "1.2.0",
            "_view_name": "LayoutView",
            "align_content": null,
            "align_items": null,
            "align_self": null,
            "border": null,
            "bottom": null,
            "display": null,
            "flex": null,
            "flex_flow": null,
            "grid_area": null,
            "grid_auto_columns": null,
            "grid_auto_flow": null,
            "grid_auto_rows": null,
            "grid_column": null,
            "grid_gap": null,
            "grid_row": null,
            "grid_template_areas": null,
            "grid_template_columns": null,
            "grid_template_rows": null,
            "height": null,
            "justify_content": null,
            "justify_items": null,
            "left": null,
            "margin": null,
            "max_height": null,
            "max_width": null,
            "min_height": null,
            "min_width": null,
            "object_fit": null,
            "object_position": null,
            "order": null,
            "overflow": null,
            "overflow_x": null,
            "overflow_y": null,
            "padding": null,
            "right": null,
            "top": null,
            "visibility": null,
            "width": null
          }
        },
        "8f79670df85743739d69476076035123": {
          "model_module": "@jupyter-widgets/controls",
          "model_name": "DescriptionStyleModel",
          "model_module_version": "1.5.0",
          "state": {
            "_model_module": "@jupyter-widgets/controls",
            "_model_module_version": "1.5.0",
            "_model_name": "DescriptionStyleModel",
            "_view_count": null,
            "_view_module": "@jupyter-widgets/base",
            "_view_module_version": "1.2.0",
            "_view_name": "StyleView",
            "description_width": ""
          }
        },
        "f65c6816c16a4491b941f4247e487a77": {
          "model_module": "@jupyter-widgets/controls",
          "model_name": "HBoxModel",
          "model_module_version": "1.5.0",
          "state": {
            "_dom_classes": [],
            "_model_module": "@jupyter-widgets/controls",
            "_model_module_version": "1.5.0",
            "_model_name": "HBoxModel",
            "_view_count": null,
            "_view_module": "@jupyter-widgets/controls",
            "_view_module_version": "1.5.0",
            "_view_name": "HBoxView",
            "box_style": "",
            "children": [
              "IPY_MODEL_43f340e52a954cc0aecb357c0549880c",
              "IPY_MODEL_cc9efe3971a04b95bab1ee48b82abe58",
              "IPY_MODEL_4900fd56bfc7451e898fda786ad98980"
            ],
            "layout": "IPY_MODEL_bd1a00e378734dfa826e088283b203b3"
          }
        },
        "43f340e52a954cc0aecb357c0549880c": {
          "model_module": "@jupyter-widgets/controls",
          "model_name": "HTMLModel",
          "model_module_version": "1.5.0",
          "state": {
            "_dom_classes": [],
            "_model_module": "@jupyter-widgets/controls",
            "_model_module_version": "1.5.0",
            "_model_name": "HTMLModel",
            "_view_count": null,
            "_view_module": "@jupyter-widgets/controls",
            "_view_module_version": "1.5.0",
            "_view_name": "HTMLView",
            "description": "",
            "description_tooltip": null,
            "layout": "IPY_MODEL_e06eec30d9ff43998c2eec2efc0e352a",
            "placeholder": "​",
            "style": "IPY_MODEL_064b604f14ee4cabb5e52296b14546bd",
            "value": "model-00004-of-00004.safetensors: 100%"
          }
        },
        "cc9efe3971a04b95bab1ee48b82abe58": {
          "model_module": "@jupyter-widgets/controls",
          "model_name": "FloatProgressModel",
          "model_module_version": "1.5.0",
          "state": {
            "_dom_classes": [],
            "_model_module": "@jupyter-widgets/controls",
            "_model_module_version": "1.5.0",
            "_model_name": "FloatProgressModel",
            "_view_count": null,
            "_view_module": "@jupyter-widgets/controls",
            "_view_module_version": "1.5.0",
            "_view_name": "ProgressView",
            "bar_style": "success",
            "description": "",
            "description_tooltip": null,
            "layout": "IPY_MODEL_b2abd3519fdc4f7bb939f29a2871bbe0",
            "max": 1168138808,
            "min": 0,
            "orientation": "horizontal",
            "style": "IPY_MODEL_4ee40f74aefc4bd98eb96a1ef6cba6d6",
            "value": 1168138808
          }
        },
        "4900fd56bfc7451e898fda786ad98980": {
          "model_module": "@jupyter-widgets/controls",
          "model_name": "HTMLModel",
          "model_module_version": "1.5.0",
          "state": {
            "_dom_classes": [],
            "_model_module": "@jupyter-widgets/controls",
            "_model_module_version": "1.5.0",
            "_model_name": "HTMLModel",
            "_view_count": null,
            "_view_module": "@jupyter-widgets/controls",
            "_view_module_version": "1.5.0",
            "_view_name": "HTMLView",
            "description": "",
            "description_tooltip": null,
            "layout": "IPY_MODEL_c5109569194648f9ae1ddca9e4942e3e",
            "placeholder": "​",
            "style": "IPY_MODEL_0aa75151661445e3a345d4cf34afddf0",
            "value": " 1.17G/1.17G [00:18&lt;00:00, 62.1MB/s]"
          }
        },
        "bd1a00e378734dfa826e088283b203b3": {
          "model_module": "@jupyter-widgets/base",
          "model_name": "LayoutModel",
          "model_module_version": "1.2.0",
          "state": {
            "_model_module": "@jupyter-widgets/base",
            "_model_module_version": "1.2.0",
            "_model_name": "LayoutModel",
            "_view_count": null,
            "_view_module": "@jupyter-widgets/base",
            "_view_module_version": "1.2.0",
            "_view_name": "LayoutView",
            "align_content": null,
            "align_items": null,
            "align_self": null,
            "border": null,
            "bottom": null,
            "display": null,
            "flex": null,
            "flex_flow": null,
            "grid_area": null,
            "grid_auto_columns": null,
            "grid_auto_flow": null,
            "grid_auto_rows": null,
            "grid_column": null,
            "grid_gap": null,
            "grid_row": null,
            "grid_template_areas": null,
            "grid_template_columns": null,
            "grid_template_rows": null,
            "height": null,
            "justify_content": null,
            "justify_items": null,
            "left": null,
            "margin": null,
            "max_height": null,
            "max_width": null,
            "min_height": null,
            "min_width": null,
            "object_fit": null,
            "object_position": null,
            "order": null,
            "overflow": null,
            "overflow_x": null,
            "overflow_y": null,
            "padding": null,
            "right": null,
            "top": null,
            "visibility": null,
            "width": null
          }
        },
        "e06eec30d9ff43998c2eec2efc0e352a": {
          "model_module": "@jupyter-widgets/base",
          "model_name": "LayoutModel",
          "model_module_version": "1.2.0",
          "state": {
            "_model_module": "@jupyter-widgets/base",
            "_model_module_version": "1.2.0",
            "_model_name": "LayoutModel",
            "_view_count": null,
            "_view_module": "@jupyter-widgets/base",
            "_view_module_version": "1.2.0",
            "_view_name": "LayoutView",
            "align_content": null,
            "align_items": null,
            "align_self": null,
            "border": null,
            "bottom": null,
            "display": null,
            "flex": null,
            "flex_flow": null,
            "grid_area": null,
            "grid_auto_columns": null,
            "grid_auto_flow": null,
            "grid_auto_rows": null,
            "grid_column": null,
            "grid_gap": null,
            "grid_row": null,
            "grid_template_areas": null,
            "grid_template_columns": null,
            "grid_template_rows": null,
            "height": null,
            "justify_content": null,
            "justify_items": null,
            "left": null,
            "margin": null,
            "max_height": null,
            "max_width": null,
            "min_height": null,
            "min_width": null,
            "object_fit": null,
            "object_position": null,
            "order": null,
            "overflow": null,
            "overflow_x": null,
            "overflow_y": null,
            "padding": null,
            "right": null,
            "top": null,
            "visibility": null,
            "width": null
          }
        },
        "064b604f14ee4cabb5e52296b14546bd": {
          "model_module": "@jupyter-widgets/controls",
          "model_name": "DescriptionStyleModel",
          "model_module_version": "1.5.0",
          "state": {
            "_model_module": "@jupyter-widgets/controls",
            "_model_module_version": "1.5.0",
            "_model_name": "DescriptionStyleModel",
            "_view_count": null,
            "_view_module": "@jupyter-widgets/base",
            "_view_module_version": "1.2.0",
            "_view_name": "StyleView",
            "description_width": ""
          }
        },
        "b2abd3519fdc4f7bb939f29a2871bbe0": {
          "model_module": "@jupyter-widgets/base",
          "model_name": "LayoutModel",
          "model_module_version": "1.2.0",
          "state": {
            "_model_module": "@jupyter-widgets/base",
            "_model_module_version": "1.2.0",
            "_model_name": "LayoutModel",
            "_view_count": null,
            "_view_module": "@jupyter-widgets/base",
            "_view_module_version": "1.2.0",
            "_view_name": "LayoutView",
            "align_content": null,
            "align_items": null,
            "align_self": null,
            "border": null,
            "bottom": null,
            "display": null,
            "flex": null,
            "flex_flow": null,
            "grid_area": null,
            "grid_auto_columns": null,
            "grid_auto_flow": null,
            "grid_auto_rows": null,
            "grid_column": null,
            "grid_gap": null,
            "grid_row": null,
            "grid_template_areas": null,
            "grid_template_columns": null,
            "grid_template_rows": null,
            "height": null,
            "justify_content": null,
            "justify_items": null,
            "left": null,
            "margin": null,
            "max_height": null,
            "max_width": null,
            "min_height": null,
            "min_width": null,
            "object_fit": null,
            "object_position": null,
            "order": null,
            "overflow": null,
            "overflow_x": null,
            "overflow_y": null,
            "padding": null,
            "right": null,
            "top": null,
            "visibility": null,
            "width": null
          }
        },
        "4ee40f74aefc4bd98eb96a1ef6cba6d6": {
          "model_module": "@jupyter-widgets/controls",
          "model_name": "ProgressStyleModel",
          "model_module_version": "1.5.0",
          "state": {
            "_model_module": "@jupyter-widgets/controls",
            "_model_module_version": "1.5.0",
            "_model_name": "ProgressStyleModel",
            "_view_count": null,
            "_view_module": "@jupyter-widgets/base",
            "_view_module_version": "1.2.0",
            "_view_name": "StyleView",
            "bar_color": null,
            "description_width": ""
          }
        },
        "c5109569194648f9ae1ddca9e4942e3e": {
          "model_module": "@jupyter-widgets/base",
          "model_name": "LayoutModel",
          "model_module_version": "1.2.0",
          "state": {
            "_model_module": "@jupyter-widgets/base",
            "_model_module_version": "1.2.0",
            "_model_name": "LayoutModel",
            "_view_count": null,
            "_view_module": "@jupyter-widgets/base",
            "_view_module_version": "1.2.0",
            "_view_name": "LayoutView",
            "align_content": null,
            "align_items": null,
            "align_self": null,
            "border": null,
            "bottom": null,
            "display": null,
            "flex": null,
            "flex_flow": null,
            "grid_area": null,
            "grid_auto_columns": null,
            "grid_auto_flow": null,
            "grid_auto_rows": null,
            "grid_column": null,
            "grid_gap": null,
            "grid_row": null,
            "grid_template_areas": null,
            "grid_template_columns": null,
            "grid_template_rows": null,
            "height": null,
            "justify_content": null,
            "justify_items": null,
            "left": null,
            "margin": null,
            "max_height": null,
            "max_width": null,
            "min_height": null,
            "min_width": null,
            "object_fit": null,
            "object_position": null,
            "order": null,
            "overflow": null,
            "overflow_x": null,
            "overflow_y": null,
            "padding": null,
            "right": null,
            "top": null,
            "visibility": null,
            "width": null
          }
        },
        "0aa75151661445e3a345d4cf34afddf0": {
          "model_module": "@jupyter-widgets/controls",
          "model_name": "DescriptionStyleModel",
          "model_module_version": "1.5.0",
          "state": {
            "_model_module": "@jupyter-widgets/controls",
            "_model_module_version": "1.5.0",
            "_model_name": "DescriptionStyleModel",
            "_view_count": null,
            "_view_module": "@jupyter-widgets/base",
            "_view_module_version": "1.2.0",
            "_view_name": "StyleView",
            "description_width": ""
          }
        },
        "46e848c13c6945b19ca7e4fad4e0364e": {
          "model_module": "@jupyter-widgets/controls",
          "model_name": "HBoxModel",
          "model_module_version": "1.5.0",
          "state": {
            "_dom_classes": [],
            "_model_module": "@jupyter-widgets/controls",
            "_model_module_version": "1.5.0",
            "_model_name": "HBoxModel",
            "_view_count": null,
            "_view_module": "@jupyter-widgets/controls",
            "_view_module_version": "1.5.0",
            "_view_name": "HBoxView",
            "box_style": "",
            "children": [
              "IPY_MODEL_adbd204e1168468db3f1655324d400ca",
              "IPY_MODEL_0ed21cdc74f9471a9a5804869e7b22cb",
              "IPY_MODEL_919a14480da445e3a70c39e8ddaf4b24"
            ],
            "layout": "IPY_MODEL_6753ec1dde7e477cb1aee4e278977a28"
          }
        },
        "adbd204e1168468db3f1655324d400ca": {
          "model_module": "@jupyter-widgets/controls",
          "model_name": "HTMLModel",
          "model_module_version": "1.5.0",
          "state": {
            "_dom_classes": [],
            "_model_module": "@jupyter-widgets/controls",
            "_model_module_version": "1.5.0",
            "_model_name": "HTMLModel",
            "_view_count": null,
            "_view_module": "@jupyter-widgets/controls",
            "_view_module_version": "1.5.0",
            "_view_name": "HTMLView",
            "description": "",
            "description_tooltip": null,
            "layout": "IPY_MODEL_b4ffee5521ab473499fe153a96225d05",
            "placeholder": "​",
            "style": "IPY_MODEL_483b1b3ca99f43caa6added6d5e96853",
            "value": "model-00002-of-00004.safetensors: 100%"
          }
        },
        "0ed21cdc74f9471a9a5804869e7b22cb": {
          "model_module": "@jupyter-widgets/controls",
          "model_name": "FloatProgressModel",
          "model_module_version": "1.5.0",
          "state": {
            "_dom_classes": [],
            "_model_module": "@jupyter-widgets/controls",
            "_model_module_version": "1.5.0",
            "_model_name": "FloatProgressModel",
            "_view_count": null,
            "_view_module": "@jupyter-widgets/controls",
            "_view_module_version": "1.5.0",
            "_view_name": "ProgressView",
            "bar_style": "success",
            "description": "",
            "description_tooltip": null,
            "layout": "IPY_MODEL_bb59f9ef249d4aa0920c6814652ef68f",
            "max": 4999802720,
            "min": 0,
            "orientation": "horizontal",
            "style": "IPY_MODEL_776c156470154b0698cfce10722dcf88",
            "value": 4999802720
          }
        },
        "919a14480da445e3a70c39e8ddaf4b24": {
          "model_module": "@jupyter-widgets/controls",
          "model_name": "HTMLModel",
          "model_module_version": "1.5.0",
          "state": {
            "_dom_classes": [],
            "_model_module": "@jupyter-widgets/controls",
            "_model_module_version": "1.5.0",
            "_model_name": "HTMLModel",
            "_view_count": null,
            "_view_module": "@jupyter-widgets/controls",
            "_view_module_version": "1.5.0",
            "_view_name": "HTMLView",
            "description": "",
            "description_tooltip": null,
            "layout": "IPY_MODEL_156aced5bde442a395e079ec7bdae168",
            "placeholder": "​",
            "style": "IPY_MODEL_10363fdcf0e4425eb606413e40376179",
            "value": " 5.00G/5.00G [01:25&lt;00:00, 96.1MB/s]"
          }
        },
        "6753ec1dde7e477cb1aee4e278977a28": {
          "model_module": "@jupyter-widgets/base",
          "model_name": "LayoutModel",
          "model_module_version": "1.2.0",
          "state": {
            "_model_module": "@jupyter-widgets/base",
            "_model_module_version": "1.2.0",
            "_model_name": "LayoutModel",
            "_view_count": null,
            "_view_module": "@jupyter-widgets/base",
            "_view_module_version": "1.2.0",
            "_view_name": "LayoutView",
            "align_content": null,
            "align_items": null,
            "align_self": null,
            "border": null,
            "bottom": null,
            "display": null,
            "flex": null,
            "flex_flow": null,
            "grid_area": null,
            "grid_auto_columns": null,
            "grid_auto_flow": null,
            "grid_auto_rows": null,
            "grid_column": null,
            "grid_gap": null,
            "grid_row": null,
            "grid_template_areas": null,
            "grid_template_columns": null,
            "grid_template_rows": null,
            "height": null,
            "justify_content": null,
            "justify_items": null,
            "left": null,
            "margin": null,
            "max_height": null,
            "max_width": null,
            "min_height": null,
            "min_width": null,
            "object_fit": null,
            "object_position": null,
            "order": null,
            "overflow": null,
            "overflow_x": null,
            "overflow_y": null,
            "padding": null,
            "right": null,
            "top": null,
            "visibility": null,
            "width": null
          }
        },
        "b4ffee5521ab473499fe153a96225d05": {
          "model_module": "@jupyter-widgets/base",
          "model_name": "LayoutModel",
          "model_module_version": "1.2.0",
          "state": {
            "_model_module": "@jupyter-widgets/base",
            "_model_module_version": "1.2.0",
            "_model_name": "LayoutModel",
            "_view_count": null,
            "_view_module": "@jupyter-widgets/base",
            "_view_module_version": "1.2.0",
            "_view_name": "LayoutView",
            "align_content": null,
            "align_items": null,
            "align_self": null,
            "border": null,
            "bottom": null,
            "display": null,
            "flex": null,
            "flex_flow": null,
            "grid_area": null,
            "grid_auto_columns": null,
            "grid_auto_flow": null,
            "grid_auto_rows": null,
            "grid_column": null,
            "grid_gap": null,
            "grid_row": null,
            "grid_template_areas": null,
            "grid_template_columns": null,
            "grid_template_rows": null,
            "height": null,
            "justify_content": null,
            "justify_items": null,
            "left": null,
            "margin": null,
            "max_height": null,
            "max_width": null,
            "min_height": null,
            "min_width": null,
            "object_fit": null,
            "object_position": null,
            "order": null,
            "overflow": null,
            "overflow_x": null,
            "overflow_y": null,
            "padding": null,
            "right": null,
            "top": null,
            "visibility": null,
            "width": null
          }
        },
        "483b1b3ca99f43caa6added6d5e96853": {
          "model_module": "@jupyter-widgets/controls",
          "model_name": "DescriptionStyleModel",
          "model_module_version": "1.5.0",
          "state": {
            "_model_module": "@jupyter-widgets/controls",
            "_model_module_version": "1.5.0",
            "_model_name": "DescriptionStyleModel",
            "_view_count": null,
            "_view_module": "@jupyter-widgets/base",
            "_view_module_version": "1.2.0",
            "_view_name": "StyleView",
            "description_width": ""
          }
        },
        "bb59f9ef249d4aa0920c6814652ef68f": {
          "model_module": "@jupyter-widgets/base",
          "model_name": "LayoutModel",
          "model_module_version": "1.2.0",
          "state": {
            "_model_module": "@jupyter-widgets/base",
            "_model_module_version": "1.2.0",
            "_model_name": "LayoutModel",
            "_view_count": null,
            "_view_module": "@jupyter-widgets/base",
            "_view_module_version": "1.2.0",
            "_view_name": "LayoutView",
            "align_content": null,
            "align_items": null,
            "align_self": null,
            "border": null,
            "bottom": null,
            "display": null,
            "flex": null,
            "flex_flow": null,
            "grid_area": null,
            "grid_auto_columns": null,
            "grid_auto_flow": null,
            "grid_auto_rows": null,
            "grid_column": null,
            "grid_gap": null,
            "grid_row": null,
            "grid_template_areas": null,
            "grid_template_columns": null,
            "grid_template_rows": null,
            "height": null,
            "justify_content": null,
            "justify_items": null,
            "left": null,
            "margin": null,
            "max_height": null,
            "max_width": null,
            "min_height": null,
            "min_width": null,
            "object_fit": null,
            "object_position": null,
            "order": null,
            "overflow": null,
            "overflow_x": null,
            "overflow_y": null,
            "padding": null,
            "right": null,
            "top": null,
            "visibility": null,
            "width": null
          }
        },
        "776c156470154b0698cfce10722dcf88": {
          "model_module": "@jupyter-widgets/controls",
          "model_name": "ProgressStyleModel",
          "model_module_version": "1.5.0",
          "state": {
            "_model_module": "@jupyter-widgets/controls",
            "_model_module_version": "1.5.0",
            "_model_name": "ProgressStyleModel",
            "_view_count": null,
            "_view_module": "@jupyter-widgets/base",
            "_view_module_version": "1.2.0",
            "_view_name": "StyleView",
            "bar_color": null,
            "description_width": ""
          }
        },
        "156aced5bde442a395e079ec7bdae168": {
          "model_module": "@jupyter-widgets/base",
          "model_name": "LayoutModel",
          "model_module_version": "1.2.0",
          "state": {
            "_model_module": "@jupyter-widgets/base",
            "_model_module_version": "1.2.0",
            "_model_name": "LayoutModel",
            "_view_count": null,
            "_view_module": "@jupyter-widgets/base",
            "_view_module_version": "1.2.0",
            "_view_name": "LayoutView",
            "align_content": null,
            "align_items": null,
            "align_self": null,
            "border": null,
            "bottom": null,
            "display": null,
            "flex": null,
            "flex_flow": null,
            "grid_area": null,
            "grid_auto_columns": null,
            "grid_auto_flow": null,
            "grid_auto_rows": null,
            "grid_column": null,
            "grid_gap": null,
            "grid_row": null,
            "grid_template_areas": null,
            "grid_template_columns": null,
            "grid_template_rows": null,
            "height": null,
            "justify_content": null,
            "justify_items": null,
            "left": null,
            "margin": null,
            "max_height": null,
            "max_width": null,
            "min_height": null,
            "min_width": null,
            "object_fit": null,
            "object_position": null,
            "order": null,
            "overflow": null,
            "overflow_x": null,
            "overflow_y": null,
            "padding": null,
            "right": null,
            "top": null,
            "visibility": null,
            "width": null
          }
        },
        "10363fdcf0e4425eb606413e40376179": {
          "model_module": "@jupyter-widgets/controls",
          "model_name": "DescriptionStyleModel",
          "model_module_version": "1.5.0",
          "state": {
            "_model_module": "@jupyter-widgets/controls",
            "_model_module_version": "1.5.0",
            "_model_name": "DescriptionStyleModel",
            "_view_count": null,
            "_view_module": "@jupyter-widgets/base",
            "_view_module_version": "1.2.0",
            "_view_name": "StyleView",
            "description_width": ""
          }
        },
        "d55b05312d944d63bc5e869d1bc7f155": {
          "model_module": "@jupyter-widgets/controls",
          "model_name": "HBoxModel",
          "model_module_version": "1.5.0",
          "state": {
            "_dom_classes": [],
            "_model_module": "@jupyter-widgets/controls",
            "_model_module_version": "1.5.0",
            "_model_name": "HBoxModel",
            "_view_count": null,
            "_view_module": "@jupyter-widgets/controls",
            "_view_module_version": "1.5.0",
            "_view_name": "HBoxView",
            "box_style": "",
            "children": [
              "IPY_MODEL_3edeb4ae8be543d18b610db6be44c571",
              "IPY_MODEL_706eb84186af44f9a4c1e69f11570bf9",
              "IPY_MODEL_46bea45787c14064a96e5629da6dd598"
            ],
            "layout": "IPY_MODEL_4898008fae4a420b8fb0365e2279005b"
          }
        },
        "3edeb4ae8be543d18b610db6be44c571": {
          "model_module": "@jupyter-widgets/controls",
          "model_name": "HTMLModel",
          "model_module_version": "1.5.0",
          "state": {
            "_dom_classes": [],
            "_model_module": "@jupyter-widgets/controls",
            "_model_module_version": "1.5.0",
            "_model_name": "HTMLModel",
            "_view_count": null,
            "_view_module": "@jupyter-widgets/controls",
            "_view_module_version": "1.5.0",
            "_view_name": "HTMLView",
            "description": "",
            "description_tooltip": null,
            "layout": "IPY_MODEL_4ea0f42a82804a51a1ad0dc1a8635121",
            "placeholder": "​",
            "style": "IPY_MODEL_9c21354a6f4241c1ae8cef054a7d8ffe",
            "value": "Loading checkpoint shards: 100%"
          }
        },
        "706eb84186af44f9a4c1e69f11570bf9": {
          "model_module": "@jupyter-widgets/controls",
          "model_name": "FloatProgressModel",
          "model_module_version": "1.5.0",
          "state": {
            "_dom_classes": [],
            "_model_module": "@jupyter-widgets/controls",
            "_model_module_version": "1.5.0",
            "_model_name": "FloatProgressModel",
            "_view_count": null,
            "_view_module": "@jupyter-widgets/controls",
            "_view_module_version": "1.5.0",
            "_view_name": "ProgressView",
            "bar_style": "success",
            "description": "",
            "description_tooltip": null,
            "layout": "IPY_MODEL_5940a0d309ad49c49a655f5ab2d13d9b",
            "max": 4,
            "min": 0,
            "orientation": "horizontal",
            "style": "IPY_MODEL_a42250d0843c4c459d9c683e76140c79",
            "value": 4
          }
        },
        "46bea45787c14064a96e5629da6dd598": {
          "model_module": "@jupyter-widgets/controls",
          "model_name": "HTMLModel",
          "model_module_version": "1.5.0",
          "state": {
            "_dom_classes": [],
            "_model_module": "@jupyter-widgets/controls",
            "_model_module_version": "1.5.0",
            "_model_name": "HTMLModel",
            "_view_count": null,
            "_view_module": "@jupyter-widgets/controls",
            "_view_module_version": "1.5.0",
            "_view_name": "HTMLView",
            "description": "",
            "description_tooltip": null,
            "layout": "IPY_MODEL_406ca91f47cf44219334e7f2848142dc",
            "placeholder": "​",
            "style": "IPY_MODEL_25ba534f580a42ffba627a00cb36584e",
            "value": " 4/4 [00:17&lt;00:00,  4.63s/it]"
          }
        },
        "4898008fae4a420b8fb0365e2279005b": {
          "model_module": "@jupyter-widgets/base",
          "model_name": "LayoutModel",
          "model_module_version": "1.2.0",
          "state": {
            "_model_module": "@jupyter-widgets/base",
            "_model_module_version": "1.2.0",
            "_model_name": "LayoutModel",
            "_view_count": null,
            "_view_module": "@jupyter-widgets/base",
            "_view_module_version": "1.2.0",
            "_view_name": "LayoutView",
            "align_content": null,
            "align_items": null,
            "align_self": null,
            "border": null,
            "bottom": null,
            "display": null,
            "flex": null,
            "flex_flow": null,
            "grid_area": null,
            "grid_auto_columns": null,
            "grid_auto_flow": null,
            "grid_auto_rows": null,
            "grid_column": null,
            "grid_gap": null,
            "grid_row": null,
            "grid_template_areas": null,
            "grid_template_columns": null,
            "grid_template_rows": null,
            "height": null,
            "justify_content": null,
            "justify_items": null,
            "left": null,
            "margin": null,
            "max_height": null,
            "max_width": null,
            "min_height": null,
            "min_width": null,
            "object_fit": null,
            "object_position": null,
            "order": null,
            "overflow": null,
            "overflow_x": null,
            "overflow_y": null,
            "padding": null,
            "right": null,
            "top": null,
            "visibility": null,
            "width": null
          }
        },
        "4ea0f42a82804a51a1ad0dc1a8635121": {
          "model_module": "@jupyter-widgets/base",
          "model_name": "LayoutModel",
          "model_module_version": "1.2.0",
          "state": {
            "_model_module": "@jupyter-widgets/base",
            "_model_module_version": "1.2.0",
            "_model_name": "LayoutModel",
            "_view_count": null,
            "_view_module": "@jupyter-widgets/base",
            "_view_module_version": "1.2.0",
            "_view_name": "LayoutView",
            "align_content": null,
            "align_items": null,
            "align_self": null,
            "border": null,
            "bottom": null,
            "display": null,
            "flex": null,
            "flex_flow": null,
            "grid_area": null,
            "grid_auto_columns": null,
            "grid_auto_flow": null,
            "grid_auto_rows": null,
            "grid_column": null,
            "grid_gap": null,
            "grid_row": null,
            "grid_template_areas": null,
            "grid_template_columns": null,
            "grid_template_rows": null,
            "height": null,
            "justify_content": null,
            "justify_items": null,
            "left": null,
            "margin": null,
            "max_height": null,
            "max_width": null,
            "min_height": null,
            "min_width": null,
            "object_fit": null,
            "object_position": null,
            "order": null,
            "overflow": null,
            "overflow_x": null,
            "overflow_y": null,
            "padding": null,
            "right": null,
            "top": null,
            "visibility": null,
            "width": null
          }
        },
        "9c21354a6f4241c1ae8cef054a7d8ffe": {
          "model_module": "@jupyter-widgets/controls",
          "model_name": "DescriptionStyleModel",
          "model_module_version": "1.5.0",
          "state": {
            "_model_module": "@jupyter-widgets/controls",
            "_model_module_version": "1.5.0",
            "_model_name": "DescriptionStyleModel",
            "_view_count": null,
            "_view_module": "@jupyter-widgets/base",
            "_view_module_version": "1.2.0",
            "_view_name": "StyleView",
            "description_width": ""
          }
        },
        "5940a0d309ad49c49a655f5ab2d13d9b": {
          "model_module": "@jupyter-widgets/base",
          "model_name": "LayoutModel",
          "model_module_version": "1.2.0",
          "state": {
            "_model_module": "@jupyter-widgets/base",
            "_model_module_version": "1.2.0",
            "_model_name": "LayoutModel",
            "_view_count": null,
            "_view_module": "@jupyter-widgets/base",
            "_view_module_version": "1.2.0",
            "_view_name": "LayoutView",
            "align_content": null,
            "align_items": null,
            "align_self": null,
            "border": null,
            "bottom": null,
            "display": null,
            "flex": null,
            "flex_flow": null,
            "grid_area": null,
            "grid_auto_columns": null,
            "grid_auto_flow": null,
            "grid_auto_rows": null,
            "grid_column": null,
            "grid_gap": null,
            "grid_row": null,
            "grid_template_areas": null,
            "grid_template_columns": null,
            "grid_template_rows": null,
            "height": null,
            "justify_content": null,
            "justify_items": null,
            "left": null,
            "margin": null,
            "max_height": null,
            "max_width": null,
            "min_height": null,
            "min_width": null,
            "object_fit": null,
            "object_position": null,
            "order": null,
            "overflow": null,
            "overflow_x": null,
            "overflow_y": null,
            "padding": null,
            "right": null,
            "top": null,
            "visibility": null,
            "width": null
          }
        },
        "a42250d0843c4c459d9c683e76140c79": {
          "model_module": "@jupyter-widgets/controls",
          "model_name": "ProgressStyleModel",
          "model_module_version": "1.5.0",
          "state": {
            "_model_module": "@jupyter-widgets/controls",
            "_model_module_version": "1.5.0",
            "_model_name": "ProgressStyleModel",
            "_view_count": null,
            "_view_module": "@jupyter-widgets/base",
            "_view_module_version": "1.2.0",
            "_view_name": "StyleView",
            "bar_color": null,
            "description_width": ""
          }
        },
        "406ca91f47cf44219334e7f2848142dc": {
          "model_module": "@jupyter-widgets/base",
          "model_name": "LayoutModel",
          "model_module_version": "1.2.0",
          "state": {
            "_model_module": "@jupyter-widgets/base",
            "_model_module_version": "1.2.0",
            "_model_name": "LayoutModel",
            "_view_count": null,
            "_view_module": "@jupyter-widgets/base",
            "_view_module_version": "1.2.0",
            "_view_name": "LayoutView",
            "align_content": null,
            "align_items": null,
            "align_self": null,
            "border": null,
            "bottom": null,
            "display": null,
            "flex": null,
            "flex_flow": null,
            "grid_area": null,
            "grid_auto_columns": null,
            "grid_auto_flow": null,
            "grid_auto_rows": null,
            "grid_column": null,
            "grid_gap": null,
            "grid_row": null,
            "grid_template_areas": null,
            "grid_template_columns": null,
            "grid_template_rows": null,
            "height": null,
            "justify_content": null,
            "justify_items": null,
            "left": null,
            "margin": null,
            "max_height": null,
            "max_width": null,
            "min_height": null,
            "min_width": null,
            "object_fit": null,
            "object_position": null,
            "order": null,
            "overflow": null,
            "overflow_x": null,
            "overflow_y": null,
            "padding": null,
            "right": null,
            "top": null,
            "visibility": null,
            "width": null
          }
        },
        "25ba534f580a42ffba627a00cb36584e": {
          "model_module": "@jupyter-widgets/controls",
          "model_name": "DescriptionStyleModel",
          "model_module_version": "1.5.0",
          "state": {
            "_model_module": "@jupyter-widgets/controls",
            "_model_module_version": "1.5.0",
            "_model_name": "DescriptionStyleModel",
            "_view_count": null,
            "_view_module": "@jupyter-widgets/base",
            "_view_module_version": "1.2.0",
            "_view_name": "StyleView",
            "description_width": ""
          }
        },
        "132c11bd1640465585a594b737247c76": {
          "model_module": "@jupyter-widgets/controls",
          "model_name": "HBoxModel",
          "model_module_version": "1.5.0",
          "state": {
            "_dom_classes": [],
            "_model_module": "@jupyter-widgets/controls",
            "_model_module_version": "1.5.0",
            "_model_name": "HBoxModel",
            "_view_count": null,
            "_view_module": "@jupyter-widgets/controls",
            "_view_module_version": "1.5.0",
            "_view_name": "HBoxView",
            "box_style": "",
            "children": [
              "IPY_MODEL_89734ed543ed441889845b0e520adcae",
              "IPY_MODEL_b519f433a86348e3b91677e32d59ef0d",
              "IPY_MODEL_b388c6a4c026409eaf20e37e0ca7b754"
            ],
            "layout": "IPY_MODEL_c6fb92e83b7349ba8ff0f6fb8dc2829b"
          }
        },
        "89734ed543ed441889845b0e520adcae": {
          "model_module": "@jupyter-widgets/controls",
          "model_name": "HTMLModel",
          "model_module_version": "1.5.0",
          "state": {
            "_dom_classes": [],
            "_model_module": "@jupyter-widgets/controls",
            "_model_module_version": "1.5.0",
            "_model_name": "HTMLModel",
            "_view_count": null,
            "_view_module": "@jupyter-widgets/controls",
            "_view_module_version": "1.5.0",
            "_view_name": "HTMLView",
            "description": "",
            "description_tooltip": null,
            "layout": "IPY_MODEL_95dd732fb5fa4094a7233447f615d22e",
            "placeholder": "​",
            "style": "IPY_MODEL_56e8ab7fdbb84cf5969968a0f2fd5a68",
            "value": "generation_config.json: 100%"
          }
        },
        "b519f433a86348e3b91677e32d59ef0d": {
          "model_module": "@jupyter-widgets/controls",
          "model_name": "FloatProgressModel",
          "model_module_version": "1.5.0",
          "state": {
            "_dom_classes": [],
            "_model_module": "@jupyter-widgets/controls",
            "_model_module_version": "1.5.0",
            "_model_name": "FloatProgressModel",
            "_view_count": null,
            "_view_module": "@jupyter-widgets/controls",
            "_view_module_version": "1.5.0",
            "_view_name": "ProgressView",
            "bar_style": "success",
            "description": "",
            "description_tooltip": null,
            "layout": "IPY_MODEL_6ef0aec7a2fd4d7e88cfe3fdc4f9c02f",
            "max": 185,
            "min": 0,
            "orientation": "horizontal",
            "style": "IPY_MODEL_d401f7cee906412881dbdfdddaa9d052",
            "value": 185
          }
        },
        "b388c6a4c026409eaf20e37e0ca7b754": {
          "model_module": "@jupyter-widgets/controls",
          "model_name": "HTMLModel",
          "model_module_version": "1.5.0",
          "state": {
            "_dom_classes": [],
            "_model_module": "@jupyter-widgets/controls",
            "_model_module_version": "1.5.0",
            "_model_name": "HTMLModel",
            "_view_count": null,
            "_view_module": "@jupyter-widgets/controls",
            "_view_module_version": "1.5.0",
            "_view_name": "HTMLView",
            "description": "",
            "description_tooltip": null,
            "layout": "IPY_MODEL_6445fbc7edd1453394dd6402f2719757",
            "placeholder": "​",
            "style": "IPY_MODEL_b67bb19f59074a86bc3eedcc9892a29e",
            "value": " 185/185 [00:00&lt;00:00, 23.0kB/s]"
          }
        },
        "c6fb92e83b7349ba8ff0f6fb8dc2829b": {
          "model_module": "@jupyter-widgets/base",
          "model_name": "LayoutModel",
          "model_module_version": "1.2.0",
          "state": {
            "_model_module": "@jupyter-widgets/base",
            "_model_module_version": "1.2.0",
            "_model_name": "LayoutModel",
            "_view_count": null,
            "_view_module": "@jupyter-widgets/base",
            "_view_module_version": "1.2.0",
            "_view_name": "LayoutView",
            "align_content": null,
            "align_items": null,
            "align_self": null,
            "border": null,
            "bottom": null,
            "display": null,
            "flex": null,
            "flex_flow": null,
            "grid_area": null,
            "grid_auto_columns": null,
            "grid_auto_flow": null,
            "grid_auto_rows": null,
            "grid_column": null,
            "grid_gap": null,
            "grid_row": null,
            "grid_template_areas": null,
            "grid_template_columns": null,
            "grid_template_rows": null,
            "height": null,
            "justify_content": null,
            "justify_items": null,
            "left": null,
            "margin": null,
            "max_height": null,
            "max_width": null,
            "min_height": null,
            "min_width": null,
            "object_fit": null,
            "object_position": null,
            "order": null,
            "overflow": null,
            "overflow_x": null,
            "overflow_y": null,
            "padding": null,
            "right": null,
            "top": null,
            "visibility": null,
            "width": null
          }
        },
        "95dd732fb5fa4094a7233447f615d22e": {
          "model_module": "@jupyter-widgets/base",
          "model_name": "LayoutModel",
          "model_module_version": "1.2.0",
          "state": {
            "_model_module": "@jupyter-widgets/base",
            "_model_module_version": "1.2.0",
            "_model_name": "LayoutModel",
            "_view_count": null,
            "_view_module": "@jupyter-widgets/base",
            "_view_module_version": "1.2.0",
            "_view_name": "LayoutView",
            "align_content": null,
            "align_items": null,
            "align_self": null,
            "border": null,
            "bottom": null,
            "display": null,
            "flex": null,
            "flex_flow": null,
            "grid_area": null,
            "grid_auto_columns": null,
            "grid_auto_flow": null,
            "grid_auto_rows": null,
            "grid_column": null,
            "grid_gap": null,
            "grid_row": null,
            "grid_template_areas": null,
            "grid_template_columns": null,
            "grid_template_rows": null,
            "height": null,
            "justify_content": null,
            "justify_items": null,
            "left": null,
            "margin": null,
            "max_height": null,
            "max_width": null,
            "min_height": null,
            "min_width": null,
            "object_fit": null,
            "object_position": null,
            "order": null,
            "overflow": null,
            "overflow_x": null,
            "overflow_y": null,
            "padding": null,
            "right": null,
            "top": null,
            "visibility": null,
            "width": null
          }
        },
        "56e8ab7fdbb84cf5969968a0f2fd5a68": {
          "model_module": "@jupyter-widgets/controls",
          "model_name": "DescriptionStyleModel",
          "model_module_version": "1.5.0",
          "state": {
            "_model_module": "@jupyter-widgets/controls",
            "_model_module_version": "1.5.0",
            "_model_name": "DescriptionStyleModel",
            "_view_count": null,
            "_view_module": "@jupyter-widgets/base",
            "_view_module_version": "1.2.0",
            "_view_name": "StyleView",
            "description_width": ""
          }
        },
        "6ef0aec7a2fd4d7e88cfe3fdc4f9c02f": {
          "model_module": "@jupyter-widgets/base",
          "model_name": "LayoutModel",
          "model_module_version": "1.2.0",
          "state": {
            "_model_module": "@jupyter-widgets/base",
            "_model_module_version": "1.2.0",
            "_model_name": "LayoutModel",
            "_view_count": null,
            "_view_module": "@jupyter-widgets/base",
            "_view_module_version": "1.2.0",
            "_view_name": "LayoutView",
            "align_content": null,
            "align_items": null,
            "align_self": null,
            "border": null,
            "bottom": null,
            "display": null,
            "flex": null,
            "flex_flow": null,
            "grid_area": null,
            "grid_auto_columns": null,
            "grid_auto_flow": null,
            "grid_auto_rows": null,
            "grid_column": null,
            "grid_gap": null,
            "grid_row": null,
            "grid_template_areas": null,
            "grid_template_columns": null,
            "grid_template_rows": null,
            "height": null,
            "justify_content": null,
            "justify_items": null,
            "left": null,
            "margin": null,
            "max_height": null,
            "max_width": null,
            "min_height": null,
            "min_width": null,
            "object_fit": null,
            "object_position": null,
            "order": null,
            "overflow": null,
            "overflow_x": null,
            "overflow_y": null,
            "padding": null,
            "right": null,
            "top": null,
            "visibility": null,
            "width": null
          }
        },
        "d401f7cee906412881dbdfdddaa9d052": {
          "model_module": "@jupyter-widgets/controls",
          "model_name": "ProgressStyleModel",
          "model_module_version": "1.5.0",
          "state": {
            "_model_module": "@jupyter-widgets/controls",
            "_model_module_version": "1.5.0",
            "_model_name": "ProgressStyleModel",
            "_view_count": null,
            "_view_module": "@jupyter-widgets/base",
            "_view_module_version": "1.2.0",
            "_view_name": "StyleView",
            "bar_color": null,
            "description_width": ""
          }
        },
        "6445fbc7edd1453394dd6402f2719757": {
          "model_module": "@jupyter-widgets/base",
          "model_name": "LayoutModel",
          "model_module_version": "1.2.0",
          "state": {
            "_model_module": "@jupyter-widgets/base",
            "_model_module_version": "1.2.0",
            "_model_name": "LayoutModel",
            "_view_count": null,
            "_view_module": "@jupyter-widgets/base",
            "_view_module_version": "1.2.0",
            "_view_name": "LayoutView",
            "align_content": null,
            "align_items": null,
            "align_self": null,
            "border": null,
            "bottom": null,
            "display": null,
            "flex": null,
            "flex_flow": null,
            "grid_area": null,
            "grid_auto_columns": null,
            "grid_auto_flow": null,
            "grid_auto_rows": null,
            "grid_column": null,
            "grid_gap": null,
            "grid_row": null,
            "grid_template_areas": null,
            "grid_template_columns": null,
            "grid_template_rows": null,
            "height": null,
            "justify_content": null,
            "justify_items": null,
            "left": null,
            "margin": null,
            "max_height": null,
            "max_width": null,
            "min_height": null,
            "min_width": null,
            "object_fit": null,
            "object_position": null,
            "order": null,
            "overflow": null,
            "overflow_x": null,
            "overflow_y": null,
            "padding": null,
            "right": null,
            "top": null,
            "visibility": null,
            "width": null
          }
        },
        "b67bb19f59074a86bc3eedcc9892a29e": {
          "model_module": "@jupyter-widgets/controls",
          "model_name": "DescriptionStyleModel",
          "model_module_version": "1.5.0",
          "state": {
            "_model_module": "@jupyter-widgets/controls",
            "_model_module_version": "1.5.0",
            "_model_name": "DescriptionStyleModel",
            "_view_count": null,
            "_view_module": "@jupyter-widgets/base",
            "_view_module_version": "1.2.0",
            "_view_name": "StyleView",
            "description_width": ""
          }
        }
      }
    }
  },
  "nbformat": 4,
  "nbformat_minor": 0
}